{
  "nbformat": 4,
  "nbformat_minor": 0,
  "metadata": {
    "colab": {
      "name": "nlp_discursos_camara_classficador_por_espectro_esquerda.ipynb",
      "provenance": [],
      "collapsed_sections": [],
      "machine_shape": "hm",
      "background_execution": "on",
      "authorship_tag": "ABX9TyNtnkN6wjSB5AsmgXhGbSTI",
      "include_colab_link": true
    },
    "kernelspec": {
      "name": "python3",
      "display_name": "Python 3"
    },
    "language_info": {
      "name": "python"
    },
    "gpuClass": "standard"
  },
  "cells": [
    {
      "cell_type": "markdown",
      "metadata": {
        "id": "view-in-github",
        "colab_type": "text"
      },
      "source": [
        "<a href=\"https://colab.research.google.com/github/rmontenegroo/discursos/blob/main/nlp_discursos_camara_classficador_por_espectro_esquerda.ipynb\" target=\"_parent\"><img src=\"https://colab.research.google.com/assets/colab-badge.svg\" alt=\"Open In Colab\"/></a>"
      ]
    },
    {
      "cell_type": "code",
      "source": [
        "!pip install --upgrade gensim==4.1.2"
      ],
      "metadata": {
        "colab": {
          "base_uri": "https://localhost:8080/"
        },
        "id": "NnsPTHEw1_JG",
        "outputId": "73194c78-9276-4c90-816b-4cf1f54a1110"
      },
      "execution_count": null,
      "outputs": [
        {
          "output_type": "stream",
          "name": "stdout",
          "text": [
            "Looking in indexes: https://pypi.org/simple, https://us-python.pkg.dev/colab-wheels/public/simple/\n",
            "Collecting gensim==4.1.2\n",
            "  Downloading gensim-4.1.2-cp37-cp37m-manylinux_2_12_x86_64.manylinux2010_x86_64.whl (24.1 MB)\n",
            "\u001b[K     |████████████████████████████████| 24.1 MB 1.3 MB/s \n",
            "\u001b[?25hRequirement already satisfied: scipy>=0.18.1 in /usr/local/lib/python3.7/dist-packages (from gensim==4.1.2) (1.4.1)\n",
            "Requirement already satisfied: smart-open>=1.8.1 in /usr/local/lib/python3.7/dist-packages (from gensim==4.1.2) (5.2.1)\n",
            "Requirement already satisfied: numpy>=1.17.0 in /usr/local/lib/python3.7/dist-packages (from gensim==4.1.2) (1.21.6)\n",
            "Installing collected packages: gensim\n",
            "  Attempting uninstall: gensim\n",
            "    Found existing installation: gensim 3.6.0\n",
            "    Uninstalling gensim-3.6.0:\n",
            "      Successfully uninstalled gensim-3.6.0\n",
            "Successfully installed gensim-4.1.2\n"
          ]
        }
      ]
    },
    {
      "cell_type": "code",
      "execution_count": null,
      "metadata": {
        "colab": {
          "base_uri": "https://localhost:8080/"
        },
        "id": "Uwghix16zBUP",
        "outputId": "3eea9ed5-2456-44bd-e3b9-3019b1f8c5af"
      },
      "outputs": [
        {
          "output_type": "stream",
          "name": "stderr",
          "text": [
            "[nltk_data] Downloading package punkt to /root/nltk_data...\n",
            "[nltk_data]   Unzipping tokenizers/punkt.zip.\n"
          ]
        },
        {
          "output_type": "execute_result",
          "data": {
            "text/plain": [
              "<tensorflow.python.eager.context._EagerDeviceContext at 0x7f16fa911b40>"
            ]
          },
          "metadata": {},
          "execution_count": 2
        }
      ],
      "source": [
        "import numpy as np\n",
        "import random\n",
        "import os\n",
        "import string\n",
        "import nltk\n",
        "import gensim\n",
        "import pickle\n",
        "\n",
        "import pandas as pd\n",
        "import matplotlib.pyplot as plt\n",
        "import seaborn as sns\n",
        "\n",
        "%tensorflow_version 2.x\n",
        "import tensorflow\n",
        "# import tensorflow.keras as keras\n",
        "\n",
        "from google.colab import drive\n",
        "\n",
        "from tensorflow.keras.utils import to_categorical \n",
        "from sklearn.preprocessing import LabelEncoder\n",
        "from sklearn.model_selection import train_test_split\n",
        "from sklearn.metrics import confusion_matrix, accuracy_score\n",
        "from gensim.models import Word2Vec\n",
        "from tensorflow.keras.preprocessing import text, sequence\n",
        "from tensorflow.keras.callbacks import ReduceLROnPlateau, EarlyStopping\n",
        "from tensorflow.keras.models import Sequential\n",
        "from tensorflow.keras.layers import Dense, Embedding, LSTM, Dropout, Reshape\n",
        "from imblearn.under_sampling import RandomUnderSampler\n",
        "\n",
        "nltk.download('punkt')\n",
        "\n",
        "tensorflow.device('/device:GPU:0')"
      ]
    },
    {
      "cell_type": "code",
      "source": [
        "RANDOM_SEED = 12\n",
        "MAX_FEATURES = 50000\n",
        "EMBEDDINGS_DIM = 100\n",
        "\n",
        "os.environ['PYTHONHASHSEED'] = str(RANDOM_SEED)\n",
        "np.random.seed(RANDOM_SEED)\n",
        "random.seed(RANDOM_SEED)\n",
        "tensorflow.random.set_seed(RANDOM_SEED)\n",
        "\n",
        "ROOTDIR = '/content/drive/MyDrive/Pós/discursos/'\n",
        "\n",
        "from google.colab import drive\n",
        "drive.mount('/content/drive')\n",
        "\n",
        "LEGISLATURA = 56\n",
        "TEST_SIZE = 0.2\n",
        "ESPECTROS = ('extrema-esquerda', 'esquerda', 'centro-esquerda', 'centro', 'centro-direita', 'direita', 'extrema-direita', 'indefinido')"
      ],
      "metadata": {
        "id": "bZq4gDDozvrK",
        "colab": {
          "base_uri": "https://localhost:8080/"
        },
        "outputId": "ef684447-06b1-4273-eed2-c11cf2f21c36"
      },
      "execution_count": null,
      "outputs": [
        {
          "output_type": "stream",
          "name": "stdout",
          "text": [
            "Mounted at /content/drive\n"
          ]
        }
      ]
    },
    {
      "cell_type": "code",
      "source": [
        "discursos = pd.DataFrame()\n",
        "with open(ROOTDIR + f'data/tokens_{LEGISLATURA}.dat', 'rb') as fp:\n",
        "    discursos = pickle.load(fp)\n",
        "\n",
        "discursos = discursos.join(pd.read_json(ROOTDIR + 'data/detalhes_deputados.json'), on=['idDeputado'])"
      ],
      "metadata": {
        "id": "XV4iwYen2WWr"
      },
      "execution_count": null,
      "outputs": []
    },
    {
      "cell_type": "code",
      "source": [
        "discursos['tamanho'] = discursos.tokens_.map(len)\n",
        "sns.boxplot(discursos.tamanho) "
      ],
      "metadata": {
        "id": "TTq1dslbVhxT",
        "colab": {
          "base_uri": "https://localhost:8080/",
          "height": 351
        },
        "outputId": "aaa8daea-15a4-425c-d5e5-8854a9c52790"
      },
      "execution_count": null,
      "outputs": [
        {
          "output_type": "stream",
          "name": "stderr",
          "text": [
            "/usr/local/lib/python3.7/dist-packages/seaborn/_decorators.py:43: FutureWarning: Pass the following variable as a keyword arg: x. From version 0.12, the only valid positional argument will be `data`, and passing other arguments without an explicit keyword will result in an error or misinterpretation.\n",
            "  FutureWarning\n"
          ]
        },
        {
          "output_type": "execute_result",
          "data": {
            "text/plain": [
              "<matplotlib.axes._subplots.AxesSubplot at 0x7f168a09a7d0>"
            ]
          },
          "metadata": {},
          "execution_count": 5
        },
        {
          "output_type": "display_data",
          "data": {
            "text/plain": [
              "<Figure size 432x288 with 1 Axes>"
            ],
            "image/png": "[encoded data removed]"
          },
          "metadata": {
            "needs_background": "light"
          }
        }
      ]
    },
    {
      "cell_type": "code",
      "source": [
        "# descartar discursos muito grandes\n",
        "MAX_TAM = 2500\n",
        "discursos = discursos.loc[discursos.tamanho <= MAX_TAM]\n",
        "sns.boxplot(discursos.tamanho)"
      ],
      "metadata": {
        "id": "CBIQq1J5XKv9",
        "colab": {
          "base_uri": "https://localhost:8080/",
          "height": 351
        },
        "outputId": "1d70e93f-2482-4dfe-c2d6-eacf3e76b898"
      },
      "execution_count": null,
      "outputs": [
        {
          "output_type": "stream",
          "name": "stderr",
          "text": [
            "/usr/local/lib/python3.7/dist-packages/seaborn/_decorators.py:43: FutureWarning: Pass the following variable as a keyword arg: x. From version 0.12, the only valid positional argument will be `data`, and passing other arguments without an explicit keyword will result in an error or misinterpretation.\n",
            "  FutureWarning\n"
          ]
        },
        {
          "output_type": "execute_result",
          "data": {
            "text/plain": [
              "<matplotlib.axes._subplots.AxesSubplot at 0x7f168a0ca310>"
            ]
          },
          "metadata": {},
          "execution_count": 6
        },
        {
          "output_type": "display_data",
          "data": {
            "text/plain": [
              "<Figure size 432x288 with 1 Axes>"
            ],
            "image/png": "[encoded data removed]"
          },
          "metadata": {
            "needs_background": "light"
          }
        }
      ]
    },
    {
      "cell_type": "code",
      "source": [
        "# descartar discursos muito curtos\n",
        "MIN_TAM = 10\n",
        "discursos = discursos.loc[discursos.tamanho >= MIN_TAM]\n",
        "sns.boxplot(discursos.tamanho)"
      ],
      "metadata": {
        "id": "Mpc_5qGvWIEK",
        "colab": {
          "base_uri": "https://localhost:8080/",
          "height": 351
        },
        "outputId": "aa72f78f-a862-4acf-e58c-af0d5856859a"
      },
      "execution_count": null,
      "outputs": [
        {
          "output_type": "stream",
          "name": "stderr",
          "text": [
            "/usr/local/lib/python3.7/dist-packages/seaborn/_decorators.py:43: FutureWarning: Pass the following variable as a keyword arg: x. From version 0.12, the only valid positional argument will be `data`, and passing other arguments without an explicit keyword will result in an error or misinterpretation.\n",
            "  FutureWarning\n"
          ]
        },
        {
          "output_type": "execute_result",
          "data": {
            "text/plain": [
              "<matplotlib.axes._subplots.AxesSubplot at 0x7f168a1de5d0>"
            ]
          },
          "metadata": {},
          "execution_count": 7
        },
        {
          "output_type": "display_data",
          "data": {
            "text/plain": [
              "<Figure size 432x288 with 1 Axes>"
            ],
            "image/png": "[encoded data removed]"
          },
          "metadata": {
            "needs_background": "light"
          }
        }
      ]
    },
    {
      "cell_type": "markdown",
      "source": [
        "## Ajustando as classes"
      ],
      "metadata": {
        "id": "RsCpg1JhFJHj"
      }
    },
    {
      "cell_type": "code",
      "source": [
        "discursos.espectro.value_counts()"
      ],
      "metadata": {
        "id": "8QF38Pay4PSK",
        "colab": {
          "base_uri": "https://localhost:8080/"
        },
        "outputId": "2bee6585-9dbf-4015-9604-a0fe7db39707"
      },
      "execution_count": null,
      "outputs": [
        {
          "output_type": "execute_result",
          "data": {
            "text/plain": [
              "esquerda            24435\n",
              "direita             14079\n",
              "centro               7120\n",
              "centro-direita       4225\n",
              "extrema-esquerda     3941\n",
              "centro-esquerda      3477\n",
              "extrema-direita       894\n",
              "indefinido             33\n",
              "Name: espectro, dtype: int64"
            ]
          },
          "metadata": {},
          "execution_count": 8
        }
      ]
    },
    {
      "cell_type": "code",
      "source": [
        "fig = plt.figure(figsize=(10, 5))\n",
        "plt.xticks(rotation=45)\n",
        "sns.countplot(x = 'espectro' , data = discursos, order=ESPECTROS)\n",
        "plt.show()"
      ],
      "metadata": {
        "id": "tdUOHtgU8RsI",
        "colab": {
          "base_uri": "https://localhost:8080/",
          "height": 396
        },
        "outputId": "eae35411-8c2f-4ed9-afd1-ddcf1be0862c"
      },
      "execution_count": null,
      "outputs": [
        {
          "output_type": "display_data",
          "data": {
            "text/plain": [
              "<Figure size 720x360 with 1 Axes>"
            ],
            "image/png": "[encoded data removed]"
          },
          "metadata": {
            "needs_background": "light"
          }
        }
      ]
    },
    {
      "cell_type": "code",
      "source": [
        "def ajusta_classe(espectro):\n",
        "\n",
        "  if 'esquerda' in espectro:\n",
        "    return 'esquerda'\n",
        "\n",
        "  return 'não-esquerda'\n",
        "\n",
        "discursos_ = discursos.copy()\n",
        "discursos_.espectro = discursos_.espectro.replace('indefinido', None).dropna()\n",
        "\n",
        "discursos_.espectro = discursos_.espectro.map(ajusta_classe)\n",
        "\n",
        "ESPECTROS = ('esquerda', 'não-esquerda')\n",
        "ESPECTRO_ALVO = 'esquerda'"
      ],
      "metadata": {
        "id": "IpryHqnxFRn9"
      },
      "execution_count": null,
      "outputs": []
    },
    {
      "cell_type": "code",
      "source": [
        "fig = plt.figure(figsize=(10, 5))\n",
        "plt.xticks(rotation=45)\n",
        "sns.countplot(x = 'espectro', data = discursos_, order=ESPECTROS)\n",
        "plt.show()"
      ],
      "metadata": {
        "id": "aEhAQAGQF4gy",
        "colab": {
          "base_uri": "https://localhost:8080/",
          "height": 380
        },
        "outputId": "56eaad32-b74e-4486-d5d2-11e0240a5c03"
      },
      "execution_count": null,
      "outputs": [
        {
          "output_type": "display_data",
          "data": {
            "text/plain": [
              "<Figure size 720x360 with 1 Axes>"
            ],
            "image/png": "[encoded data removed]"
          },
          "metadata": {
            "needs_background": "light"
          }
        }
      ]
    },
    {
      "cell_type": "code",
      "source": [
        "rus = RandomUnderSampler(random_state=RANDOM_SEED)\n",
        "discursos_, y = rus.fit_resample(discursos_, discursos_['espectro'])\n",
        "\n",
        "plt.figure(figsize=(10, 5))\n",
        "plt.xticks(rotation=45)\n",
        "sns.countplot(x = 'espectro' , data = discursos_, order=ESPECTROS)\n",
        "plt.show()"
      ],
      "metadata": {
        "id": "ebNj_HPGHrEX",
        "colab": {
          "base_uri": "https://localhost:8080/",
          "height": 380
        },
        "outputId": "8f90029c-4cc7-4985-90bd-925ff97f9212"
      },
      "execution_count": null,
      "outputs": [
        {
          "output_type": "display_data",
          "data": {
            "text/plain": [
              "<Figure size 720x360 with 1 Axes>"
            ],
            "image/png": "[encoded data removed]"
          },
          "metadata": {
            "needs_background": "light"
          }
        }
      ]
    },
    {
      "cell_type": "code",
      "source": [
        "df_treino, df_teste = train_test_split(discursos_, test_size=TEST_SIZE, random_state=RANDOM_SEED)"
      ],
      "metadata": {
        "id": "Q7gyzZiZ8pP-"
      },
      "execution_count": null,
      "outputs": []
    },
    {
      "cell_type": "code",
      "source": [
        "plt.figure(figsize=(10,5))\n",
        "plt.xticks(rotation=45)\n",
        "sns.countplot(x = 'espectro' , data = df_treino, order=ESPECTROS)\n",
        "plt.show()"
      ],
      "metadata": {
        "id": "AO0V0wcY9RS9",
        "colab": {
          "base_uri": "https://localhost:8080/",
          "height": 380
        },
        "outputId": "b1b6c1d5-7420-4316-a940-2c8a56ea25a2"
      },
      "execution_count": null,
      "outputs": [
        {
          "output_type": "display_data",
          "data": {
            "text/plain": [
              "<Figure size 720x360 with 1 Axes>"
            ],
            "image/png": "[encoded data removed]"
          },
          "metadata": {
            "needs_background": "light"
          }
        }
      ]
    },
    {
      "cell_type": "code",
      "source": [
        "plt.figure(figsize=(10,5))\n",
        "plt.xticks(rotation=45)\n",
        "sns.countplot(x = 'espectro' , data = df_teste, order=ESPECTROS)\n",
        "plt.show()"
      ],
      "metadata": {
        "id": "J-9s0YV89XDt",
        "colab": {
          "base_uri": "https://localhost:8080/",
          "height": 380
        },
        "outputId": "bcea2ddb-8966-42c4-ddee-543fbc32a0f9"
      },
      "execution_count": null,
      "outputs": [
        {
          "output_type": "display_data",
          "data": {
            "text/plain": [
              "<Figure size 720x360 with 1 Axes>"
            ],
            "image/png": "[encoded data removed]"
          },
          "metadata": {
            "needs_background": "light"
          }
        }
      ]
    },
    {
      "cell_type": "code",
      "source": [
        "tokenizer = text.Tokenizer(num_words=MAX_FEATURES)\n",
        "tokenizer.fit_on_texts(discursos_['tokens'])\n",
        "\n",
        "labeler = LabelEncoder()\n",
        "labeler.fit(discursos_['espectro'])"
      ],
      "metadata": {
        "id": "6_Y9_2K7ZSgX",
        "colab": {
          "base_uri": "https://localhost:8080/"
        },
        "outputId": "61cf325d-c079-4a0c-a913-c8e3ae631911"
      },
      "execution_count": null,
      "outputs": [
        {
          "output_type": "execute_result",
          "data": {
            "text/plain": [
              "LabelEncoder()"
            ]
          },
          "metadata": {},
          "execution_count": 16
        }
      ]
    },
    {
      "cell_type": "code",
      "source": [
        "# discursos = None\n",
        "# detalhes = None"
      ],
      "metadata": {
        "id": "P5kJxBfX9b4J"
      },
      "execution_count": null,
      "outputs": []
    },
    {
      "cell_type": "code",
      "source": [
        "X_treino = df_treino['tokens']\n",
        "X_teste = df_teste['tokens']\n",
        "\n",
        "MAX_DOC_LEN = np.max((X_teste.map(len).max(), X_treino.map(len).max()))\n",
        "\n",
        "X_treino = tokenizer.texts_to_sequences(X_treino)\n",
        "X_treino = sequence.pad_sequences(X_treino, maxlen=MAX_DOC_LEN)\n",
        "\n",
        "X_teste = tokenizer.texts_to_sequences(X_teste)\n",
        "X_teste = sequence.pad_sequences(X_teste, maxlen=MAX_DOC_LEN)"
      ],
      "metadata": {
        "id": "gdIfOl3TLILL"
      },
      "execution_count": null,
      "outputs": []
    },
    {
      "cell_type": "code",
      "source": [
        "Y_treino = df_treino['espectro']\n",
        "Y_teste = df_teste['espectro']\n",
        "\n",
        "Y_treino = to_categorical(labeler.transform(Y_treino), 2, dtype='float32')\n",
        "Y_teste = to_categorical(labeler.transform(Y_teste), 2, dtype='float32')"
      ],
      "metadata": {
        "id": "vogqsNCN_BD8"
      },
      "execution_count": null,
      "outputs": []
    },
    {
      "cell_type": "code",
      "source": [
        "w2v = Word2Vec.load(ROOTDIR + f'camares.{EMBEDDINGS_DIM}.w2v')\n",
        "\n",
        "embeddings_mean, embeddings_std = w2v.wv.vectors.mean(), w2v.wv.vectors.std()\n",
        "\n",
        "embeddings_matrix = np.random.normal(embeddings_mean, embeddings_std, size=(MAX_FEATURES, EMBEDDINGS_DIM))\n",
        "\n",
        "for word, i in tokenizer.word_index.items():\n",
        "    if i >= MAX_FEATURES: continue\n",
        "    try:\n",
        "      embeddings_matrix[i] = w2v.wv[word]\n",
        "    except KeyError:\n",
        "      pass"
      ],
      "metadata": {
        "id": "HdDw-dAucEXi"
      },
      "execution_count": null,
      "outputs": []
    },
    {
      "cell_type": "code",
      "source": [
        "BATCH_SIZE = 200\n",
        "EPOCHS = 250\n",
        "PATIENCE_LR = 10\n",
        "PATIENCE_ES = 5\n",
        "FACTOR = 0.25\n",
        "MIN_LR = 0.00000001\n",
        "PLATEAU_MONITOR = 'val_categorical_crossentropy'\n",
        "# PLATEAU_MONITOR = 'val_categorical_accuracy'\n",
        "LSTM_LAYER1_SIZE = 32\n",
        "LSTM_LAYER2_SIZE = 32\n",
        "LAYER1_DROPOUT_RATE = 0.5\n",
        "LAYER2_DROPOUT_RATE = 0.25\n",
        "RECURRENT_DROPOUT_RATE = 0.2\n",
        "DENSE_LAYER1_SIZE = 16\n",
        "# DENSE_LAYER1_DROPOUT_RATE = 0.5\n",
        "DENSE_LAYER2_SIZE = 16\n",
        "# DENSE_LAYER2_DROPOUT_RATE = 0.25\n",
        "DENSE_LAYER1_FUNCTION = 'relu'\n",
        "DENSE_LAYER2_FUNCTION = 'relu'\n",
        "OUTPUT_LAYER_SIZE = 2\n",
        "OUTPUT_LAYER_FUNCTION = 'softmax'\n",
        "LEARNING_RATE = 0.01\n",
        "OPTIMIZER = tensorflow.keras.optimizers.Adam\n",
        "LOSS_FUNCTION = 'categorical_crossentropy'\n",
        "METRIC_FUNCTIONS = ['categorical_accuracy', 'categorical_crossentropy']\n",
        "# VALIDATION_SPLIT_RATE = 0.2\n",
        "VALIDATION_SPLIT_RATE = 0.1\n",
        "\n",
        "model = Sequential()\n",
        "# INPUT\n",
        "model.add(Embedding(MAX_FEATURES, output_dim = EMBEDDINGS_DIM, weights = [embeddings_matrix], input_length = MAX_DOC_LEN, trainable = True))\n",
        "# LSTM \n",
        "model.add(LSTM(units = LSTM_LAYER1_SIZE, return_sequences = True,  dropout = LAYER1_DROPOUT_RATE))\n",
        "model.add(LSTM(units = LSTM_LAYER2_SIZE, recurrent_dropout = RECURRENT_DROPOUT_RATE, dropout = LAYER2_DROPOUT_RATE))\n",
        "model.add(Dense(units = DENSE_LAYER1_SIZE, activation = DENSE_LAYER1_FUNCTION))\n",
        "# model.add(Dropout(DENSE_LAYER1_DROPOUT_RATE))\n",
        "model.add(Dense(units = DENSE_LAYER2_SIZE, activation = DENSE_LAYER2_FUNCTION))\n",
        "# model.add(Dropout(DENSE_LAYER2_DROPOUT_RATE))\n",
        "model.add(Dense(units = OUTPUT_LAYER_SIZE, activation = OUTPUT_LAYER_FUNCTION))\n",
        "model.compile(optimizer = OPTIMIZER(learning_rate = LEARNING_RATE), loss = LOSS_FUNCTION, metrics = METRIC_FUNCTIONS)"
      ],
      "metadata": {
        "id": "dPrLCwJAddne"
      },
      "execution_count": null,
      "outputs": []
    },
    {
      "cell_type": "code",
      "source": [
        "model.summary()"
      ],
      "metadata": {
        "id": "nnWZPA-rdtha",
        "colab": {
          "base_uri": "https://localhost:8080/"
        },
        "outputId": "32c7d4e7-951c-4793-c033-3544f1f7982f"
      },
      "execution_count": null,
      "outputs": [
        {
          "output_type": "stream",
          "name": "stdout",
          "text": [
            "Model: \"sequential\"\n",
            "_________________________________________________________________\n",
            " Layer (type)                Output Shape              Param #   \n",
            "=================================================================\n",
            " embedding (Embedding)       (None, 8921, 100)         5000000   \n",
            "                                                                 \n",
            " lstm (LSTM)                 (None, 8921, 32)          17024     \n",
            "                                                                 \n",
            " lstm_1 (LSTM)               (None, 32)                8320      \n",
            "                                                                 \n",
            " dense (Dense)               (None, 16)                528       \n",
            "                                                                 \n",
            " dense_1 (Dense)             (None, 16)                272       \n",
            "                                                                 \n",
            " dense_2 (Dense)             (None, 2)                 34        \n",
            "                                                                 \n",
            "=================================================================\n",
            "Total params: 5,026,178\n",
            "Trainable params: 5,026,178\n",
            "Non-trainable params: 0\n",
            "_________________________________________________________________\n"
          ]
        }
      ]
    },
    {
      "cell_type": "code",
      "source": [
        "callbacks = [\n",
        "  ReduceLROnPlateau(monitor = PLATEAU_MONITOR, patience = PATIENCE_LR, verbose = 2, factor = FACTOR, min_lr = MIN_LR),\n",
        "  EarlyStopping(patience = PATIENCE_ES, verbose = True)             \n",
        "]\n",
        "\n",
        "if not os.path.isfile(ROOTDIR + f'classificador_discurso_espectro_{LEGISLATURA}_{ESPECTRO_ALVO}.dat'):\n",
        "\n",
        "  history = model.fit(X_treino, Y_treino, batch_size = BATCH_SIZE, validation_split = VALIDATION_SPLIT_RATE, epochs = EPOCHS, callbacks = callbacks)\n",
        "\n",
        "  with open(ROOTDIR + f'classificador_discurso_espectro_{LEGISLATURA}_{ESPECTRO_ALVO}.dat', 'wb') as fp:\n",
        "    pickle.dump(model, fp)\n",
        "\n",
        "  df_history = pd.DataFrame(history.history)\n",
        "  df_history.to_json(ROOTDIR + f'data/history_classificador_discurso_espectro_{LEGISLATURA}_{ESPECTRO_ALVO}.json')\n",
        "\n",
        "\n",
        "else:\n",
        "\n",
        "  with open(ROOTDIR + f'classificador_discurso_espectro_{LEGISLATURA}_{ESPECTRO_ALVO}.dat', 'rb') as fp:\n",
        "    model = pickle.load(fp)\n",
        "\n",
        "  df_history = pd.read_json(ROOTDIR + f'data/history_classificador_discurso_espectro_{LEGISLATURA}_{ESPECTRO_ALVO}.json')"
      ],
      "metadata": {
        "id": "eSSFFP2ndwCh"
      },
      "execution_count": null,
      "outputs": []
    },
    {
      "cell_type": "code",
      "source": [
        "ax = df_history[['val_loss', 'loss']].plot(figsize=(10, 5))\n",
        "df_history['lr'].plot(ax=ax.twinx(), color='gray')\n",
        "\n",
        "ax = df_history[['val_categorical_accuracy', 'categorical_accuracy']].plot(figsize=(10, 5))\n",
        "df_history['lr'].plot(ax=ax.twinx(), color='gray')\n",
        "\n",
        "print(\"Acuracia de treinamento: {:.2f} %\".format(model.evaluate(X_treino, Y_treino)[1]*100))\n",
        "print(\"Acuracia de teste: {:.2f} %\".format(model.evaluate(X_teste, Y_teste)[1]*100))"
      ],
      "metadata": {
        "id": "h-cQeFH0eNh5",
        "colab": {
          "base_uri": "https://localhost:8080/",
          "height": 692
        },
        "outputId": "18147353-0b7a-4239-c5d4-27f7c3ff2751"
      },
      "execution_count": null,
      "outputs": [
        {
          "output_type": "stream",
          "name": "stdout",
          "text": [
            "1318/1318 [==============================] - 2019s 2s/step - loss: 0.1011 - categorical_accuracy: 0.9647 - categorical_crossentropy: 0.1011\n",
            "Acuracia de treinamento: 96.47 %\n",
            "330/330 [==============================] - 506s 2s/step - loss: 0.2518 - categorical_accuracy: 0.9104 - categorical_crossentropy: 0.2518\n",
            "Acuracia de teste: 91.04 %\n"
          ]
        },
        {
          "output_type": "display_data",
          "data": {
            "text/plain": [
              "<Figure size 720x360 with 2 Axes>"
            ],
            "image/png": "[encoded data removed]"
          },
          "metadata": {
            "needs_background": "light"
          }
        },
        {
          "output_type": "display_data",
          "data": {
            "text/plain": [
              "<Figure size 720x360 with 2 Axes>"
            ],
            "image/png": "[encoded data removed]"
          },
          "metadata": {
            "needs_background": "light"
          }
        }
      ]
    },
    {
      "cell_type": "code",
      "source": [
        "previsto = np.argmax(model.predict(X_teste[0:]), axis=1)"
      ],
      "metadata": {
        "id": "NYItrfSINYWr"
      },
      "execution_count": null,
      "outputs": []
    },
    {
      "cell_type": "code",
      "source": [
        "previsto"
      ],
      "metadata": {
        "id": "TXlheSehFjfx",
        "colab": {
          "base_uri": "https://localhost:8080/"
        },
        "outputId": "6e8912b7-e7bc-4f1e-d259-782c9875d9ee"
      },
      "execution_count": null,
      "outputs": [
        {
          "output_type": "execute_result",
          "data": {
            "text/plain": [
              "array([1, 1, 0, ..., 0, 0, 1])"
            ]
          },
          "metadata": {},
          "execution_count": 31
        }
      ]
    },
    {
      "cell_type": "code",
      "source": [
        "real = np.argmax(Y_teste[0:], axis=1)"
      ],
      "metadata": {
        "id": "VOEpQb6eUFEy"
      },
      "execution_count": null,
      "outputs": []
    },
    {
      "cell_type": "code",
      "source": [
        "real"
      ],
      "metadata": {
        "id": "CDI42lIrUWZa",
        "colab": {
          "base_uri": "https://localhost:8080/"
        },
        "outputId": "cfe6dc80-ee20-4e1e-96fc-a4da29338459"
      },
      "execution_count": null,
      "outputs": [
        {
          "output_type": "execute_result",
          "data": {
            "text/plain": [
              "array([1, 1, 0, ..., 0, 0, 1])"
            ]
          },
          "metadata": {},
          "execution_count": 33
        }
      ]
    },
    {
      "cell_type": "code",
      "source": [
        "cm = confusion_matrix(real, previsto)\n",
        "labels = labeler.classes_\n",
        "cm = pd.DataFrame(cm, index = labels, columns = labels)\n",
        "\n",
        "plt.figure(figsize = (10, 10))\n",
        "sns.heatmap(cm, cmap= \"Oranges\", linecolor = 'black', linewidth = 1, annot = True, fmt='', xticklabels = labels, yticklabels = labels)\n",
        "plt.xlabel(\"Previsto\")\n",
        "plt.ylabel(\"Real\")\n",
        "plt.show()"
      ],
      "metadata": {
        "id": "dYb-GpiQUXvJ",
        "colab": {
          "base_uri": "https://localhost:8080/",
          "height": 606
        },
        "outputId": "491ea217-cecf-4089-f6c0-a61b919495d0"
      },
      "execution_count": null,
      "outputs": [
        {
          "output_type": "display_data",
          "data": {
            "text/plain": [
              "<Figure size 720x720 with 2 Axes>"
            ],
            "image/png": "[encoded data removed]"
          },
          "metadata": {
            "needs_background": "light"
          }
        }
      ]
    }
  ]
}