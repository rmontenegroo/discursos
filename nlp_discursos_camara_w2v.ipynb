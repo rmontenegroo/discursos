{
  "cells": [
    {
      "cell_type": "markdown",
      "metadata": {
        "id": "view-in-github",
        "colab_type": "text"
      },
      "source": [
        "<a href=\"https://colab.research.google.com/github/rmontenegroo/discursos/blob/main/nlp_discursos_camara_w2v.ipynb\" target=\"_parent\"><img src=\"https://colab.research.google.com/assets/colab-badge.svg\" alt=\"Open In Colab\"/></a>"
      ]
    },
    {
      "cell_type": "markdown",
      "metadata": {
        "id": "HqYzKJAe3CAD"
      },
      "source": [
        "# Módulos"
      ]
    },
    {
      "cell_type": "code",
      "execution_count": null,
      "metadata": {
        "colab": {
          "base_uri": "https://localhost:8080/"
        },
        "id": "U8iExmDCpdpn",
        "outputId": "495577d6-5527-4fba-9565-66213eef7746"
      },
      "outputs": [
        {
          "output_type": "stream",
          "name": "stdout",
          "text": [
            "Requirement already satisfied: gensim==4.1.2 in /usr/local/lib/python3.7/dist-packages (4.1.2)\n",
            "Requirement already satisfied: scipy>=0.18.1 in /usr/local/lib/python3.7/dist-packages (from gensim==4.1.2) (1.4.1)\n",
            "Requirement already satisfied: smart-open>=1.8.1 in /usr/local/lib/python3.7/dist-packages (from gensim==4.1.2) (6.0.0)\n",
            "Requirement already satisfied: numpy>=1.17.0 in /usr/local/lib/python3.7/dist-packages (from gensim==4.1.2) (1.21.6)\n"
          ]
        }
      ],
      "source": [
        "!pip install --upgrade gensim==4.1.2"
      ]
    },
    {
      "cell_type": "code",
      "execution_count": null,
      "metadata": {
        "colab": {
          "base_uri": "https://localhost:8080/"
        },
        "id": "Ga-E9Ygg092r",
        "outputId": "52752ac2-b23c-4587-b828-62714162527b"
      },
      "outputs": [
        {
          "output_type": "stream",
          "name": "stdout",
          "text": [
            "[nltk_data] Downloading package punkt to /root/nltk_data...\n",
            "[nltk_data]   Package punkt is already up-to-date!\n"
          ]
        }
      ],
      "source": [
        "import os\n",
        "import base64\n",
        "import zlib\n",
        "import gensim\n",
        "import glob\n",
        "import nltk\n",
        "import re\n",
        "import wordcloud\n",
        "import string\n",
        "\n",
        "nltk.download('punkt')\n",
        "\n",
        "import numpy as np\n",
        "import pandas as pd\n",
        "import seaborn as sns\n",
        "import matplotlib.pyplot as plt\n",
        "\n",
        "from nltk.tokenize import sent_tokenize, word_tokenize\n",
        "from gensim.models import Word2Vec\n",
        "from collections import Counter"
      ]
    },
    {
      "cell_type": "markdown",
      "metadata": {
        "id": "4aRXJ6oM4qM5"
      },
      "source": [
        "# Parâmetros"
      ]
    },
    {
      "cell_type": "code",
      "execution_count": null,
      "metadata": {
        "id": "-5d6wyOO4sJ5"
      },
      "outputs": [],
      "source": [
        "ROOTDIR = '/content/drive/MyDrive/Pós/discursos/'\n",
        "SEED = 12"
      ]
    },
    {
      "cell_type": "markdown",
      "metadata": {
        "id": "yC2kutKX3aQ7"
      },
      "source": [
        "# Carregar dados"
      ]
    },
    {
      "cell_type": "code",
      "execution_count": null,
      "metadata": {
        "colab": {
          "base_uri": "https://localhost:8080/"
        },
        "id": "TYputICaBrLe",
        "outputId": "8d7331dc-f8f5-4e7b-99b9-97fdfc433504"
      },
      "outputs": [
        {
          "output_type": "stream",
          "name": "stdout",
          "text": [
            "Drive already mounted at /content/drive; to attempt to forcibly remount, call drive.mount(\"/content/drive\", force_remount=True).\n"
          ]
        }
      ],
      "source": [
        "from google.colab import drive\n",
        "drive.mount('/content/drive')"
      ]
    },
    {
      "cell_type": "code",
      "execution_count": null,
      "metadata": {
        "id": "O11S__3oRzaT"
      },
      "outputs": [],
      "source": [
        "discursos = pd.DataFrame()\n",
        "\n",
        "if not os.path.isfile(ROOTDIR + 'data/sentences_discursos.json'):\n",
        "\n",
        "  discursos = pd.DataFrame()\n",
        "\n",
        "  for arquivo in glob.glob(ROOTDIR + 'data/discursos_*.json'):\n",
        "\n",
        "    discursos = pd.concat(\n",
        "              ( discursos, pd.read_json(arquivo) )\n",
        "    )\n",
        "\n",
        "  discursos = discursos.reset_index(drop=True)\n",
        "  discursos['original'] = discursos.discurso_zipped_b64.map(lambda i: zlib.decompress(base64.b64decode(i)).decode())\n",
        "  discursos = discursos.drop(columns=['discurso_zipped_b64'])\n",
        "\n",
        "else:\n",
        "  discursos = pd.read_json(ROOTDIR + 'data/sentences_discursos.json')"
      ]
    },
    {
      "cell_type": "code",
      "execution_count": null,
      "metadata": {
        "id": "AtiVn6mKUMAt",
        "colab": {
          "base_uri": "https://localhost:8080/",
          "height": 424
        },
        "outputId": "22d028b9-3e52-4768-944a-4f77735b7dfa"
      },
      "outputs": [
        {
          "output_type": "execute_result",
          "data": {
            "text/plain": [
              "        idDeputado  idLegislatura  \\\n",
              "0            62881             56   \n",
              "1            62881             56   \n",
              "2            62881             56   \n",
              "3            62881             56   \n",
              "4            62881             56   \n",
              "...            ...            ...   \n",
              "189915      204760             55   \n",
              "189916      205234             55   \n",
              "189917      205234             55   \n",
              "189918      205234             55   \n",
              "189919      205234             55   \n",
              "\n",
              "                                                 original  \n",
              "0       O SR. DANILO FORTE (PSDB - CE. Pela ordem. Sem...  \n",
              "1       O SR. DANILO FORTE (PSDB - CE. Sem revisão do ...  \n",
              "2       O SR. DANILO FORTE (PSDB - CE. Pela ordem. Sem...  \n",
              "3       O SR. DANILO FORTE (PSDB - CE. Pela ordem. Sem...  \n",
              "4       O SR. DANILO FORTE (PSDB - CE. Como Líder. Sem...  \n",
              "...                                                   ...  \n",
              "189915  O SR. WASHINGTON CORAÇÃO VALENTE (PDT - RS. Pe...  \n",
              "189916  O SR. FELIPE SOUZA (PODE - AM. Pela ordem. Sem...  \n",
              "189917  O SR. FELIPE SOUZA (PODE - AM. Pela ordem. Sem...  \n",
              "189918  O SR. FELIPE SOUZA (PTN - AM. Sem revisão do o...  \n",
              "189919  O SR. FELIPE SOUZA (PTN - AM. Sem revisão do o...  \n",
              "\n",
              "[189920 rows x 3 columns]"
            ],
            "text/html": [
              "\n",
              "  <div id=\"df-6a61f6c4-a020-44c1-b385-62ed97007e72\">\n",
              "    <div class=\"colab-df-container\">\n",
              "      <div>\n",
              "<style scoped>\n",
              "    .dataframe tbody tr th:only-of-type {\n",
              "        vertical-align: middle;\n",
              "    }\n",
              "\n",
              "    .dataframe tbody tr th {\n",
              "        vertical-align: top;\n",
              "    }\n",
              "\n",
              "    .dataframe thead th {\n",
              "        text-align: right;\n",
              "    }\n",
              "</style>\n",
              "<table border=\"1\" class=\"dataframe\">\n",
              "  <thead>\n",
              "    <tr style=\"text-align: right;\">\n",
              "      <th></th>\n",
              "      <th>idDeputado</th>\n",
              "      <th>idLegislatura</th>\n",
              "      <th>original</th>\n",
              "    </tr>\n",
              "  </thead>\n",
              "  <tbody>\n",
              "    <tr>\n",
              "      <th>0</th>\n",
              "      <td>62881</td>\n",
              "      <td>56</td>\n",
              "      <td>O SR. DANILO FORTE (PSDB - CE. Pela ordem. Sem...</td>\n",
              "    </tr>\n",
              "    <tr>\n",
              "      <th>1</th>\n",
              "      <td>62881</td>\n",
              "      <td>56</td>\n",
              "      <td>O SR. DANILO FORTE (PSDB - CE. Sem revisão do ...</td>\n",
              "    </tr>\n",
              "    <tr>\n",
              "      <th>2</th>\n",
              "      <td>62881</td>\n",
              "      <td>56</td>\n",
              "      <td>O SR. DANILO FORTE (PSDB - CE. Pela ordem. Sem...</td>\n",
              "    </tr>\n",
              "    <tr>\n",
              "      <th>3</th>\n",
              "      <td>62881</td>\n",
              "      <td>56</td>\n",
              "      <td>O SR. DANILO FORTE (PSDB - CE. Pela ordem. Sem...</td>\n",
              "    </tr>\n",
              "    <tr>\n",
              "      <th>4</th>\n",
              "      <td>62881</td>\n",
              "      <td>56</td>\n",
              "      <td>O SR. DANILO FORTE (PSDB - CE. Como Líder. Sem...</td>\n",
              "    </tr>\n",
              "    <tr>\n",
              "      <th>...</th>\n",
              "      <td>...</td>\n",
              "      <td>...</td>\n",
              "      <td>...</td>\n",
              "    </tr>\n",
              "    <tr>\n",
              "      <th>189915</th>\n",
              "      <td>204760</td>\n",
              "      <td>55</td>\n",
              "      <td>O SR. WASHINGTON CORAÇÃO VALENTE (PDT - RS. Pe...</td>\n",
              "    </tr>\n",
              "    <tr>\n",
              "      <th>189916</th>\n",
              "      <td>205234</td>\n",
              "      <td>55</td>\n",
              "      <td>O SR. FELIPE SOUZA (PODE - AM. Pela ordem. Sem...</td>\n",
              "    </tr>\n",
              "    <tr>\n",
              "      <th>189917</th>\n",
              "      <td>205234</td>\n",
              "      <td>55</td>\n",
              "      <td>O SR. FELIPE SOUZA (PODE - AM. Pela ordem. Sem...</td>\n",
              "    </tr>\n",
              "    <tr>\n",
              "      <th>189918</th>\n",
              "      <td>205234</td>\n",
              "      <td>55</td>\n",
              "      <td>O SR. FELIPE SOUZA (PTN - AM. Sem revisão do o...</td>\n",
              "    </tr>\n",
              "    <tr>\n",
              "      <th>189919</th>\n",
              "      <td>205234</td>\n",
              "      <td>55</td>\n",
              "      <td>O SR. FELIPE SOUZA (PTN - AM. Sem revisão do o...</td>\n",
              "    </tr>\n",
              "  </tbody>\n",
              "</table>\n",
              "<p>189920 rows × 3 columns</p>\n",
              "</div>\n",
              "      <button class=\"colab-df-convert\" onclick=\"convertToInteractive('df-6a61f6c4-a020-44c1-b385-62ed97007e72')\"\n",
              "              title=\"Convert this dataframe to an interactive table.\"\n",
              "              style=\"display:none;\">\n",
              "        \n",
              "  <svg xmlns=\"http://www.w3.org/2000/svg\" height=\"24px\"viewBox=\"0 0 24 24\"\n",
              "       width=\"24px\">\n",
              "    <path d=\"M0 0h24v24H0V0z\" fill=\"none\"/>\n",
              "    <path d=\"M18.56 5.44l.94 2.06.94-2.06 2.06-.94-2.06-.94-.94-2.06-.94 2.06-2.06.94zm-11 1L8.5 8.5l.94-2.06 2.06-.94-2.06-.94L8.5 2.5l-.94 2.06-2.06.94zm10 10l.94 2.06.94-2.06 2.06-.94-2.06-.94-.94-2.06-.94 2.06-2.06.94z\"/><path d=\"M17.41 7.96l-1.37-1.37c-.4-.4-.92-.59-1.43-.59-.52 0-1.04.2-1.43.59L10.3 9.45l-7.72 7.72c-.78.78-.78 2.05 0 2.83L4 21.41c.39.39.9.59 1.41.59.51 0 1.02-.2 1.41-.59l7.78-7.78 2.81-2.81c.8-.78.8-2.07 0-2.86zM5.41 20L4 18.59l7.72-7.72 1.47 1.35L5.41 20z\"/>\n",
              "  </svg>\n",
              "      </button>\n",
              "      \n",
              "  <style>\n",
              "    .colab-df-container {\n",
              "      display:flex;\n",
              "      flex-wrap:wrap;\n",
              "      gap: 12px;\n",
              "    }\n",
              "\n",
              "    .colab-df-convert {\n",
              "      background-color: #E8F0FE;\n",
              "      border: none;\n",
              "      border-radius: 50%;\n",
              "      cursor: pointer;\n",
              "      display: none;\n",
              "      fill: #1967D2;\n",
              "      height: 32px;\n",
              "      padding: 0 0 0 0;\n",
              "      width: 32px;\n",
              "    }\n",
              "\n",
              "    .colab-df-convert:hover {\n",
              "      background-color: #E2EBFA;\n",
              "      box-shadow: 0px 1px 2px rgba(60, 64, 67, 0.3), 0px 1px 3px 1px rgba(60, 64, 67, 0.15);\n",
              "      fill: #174EA6;\n",
              "    }\n",
              "\n",
              "    [theme=dark] .colab-df-convert {\n",
              "      background-color: #3B4455;\n",
              "      fill: #D2E3FC;\n",
              "    }\n",
              "\n",
              "    [theme=dark] .colab-df-convert:hover {\n",
              "      background-color: #434B5C;\n",
              "      box-shadow: 0px 1px 3px 1px rgba(0, 0, 0, 0.15);\n",
              "      filter: drop-shadow(0px 1px 2px rgba(0, 0, 0, 0.3));\n",
              "      fill: #FFFFFF;\n",
              "    }\n",
              "  </style>\n",
              "\n",
              "      <script>\n",
              "        const buttonEl =\n",
              "          document.querySelector('#df-6a61f6c4-a020-44c1-b385-62ed97007e72 button.colab-df-convert');\n",
              "        buttonEl.style.display =\n",
              "          google.colab.kernel.accessAllowed ? 'block' : 'none';\n",
              "\n",
              "        async function convertToInteractive(key) {\n",
              "          const element = document.querySelector('#df-6a61f6c4-a020-44c1-b385-62ed97007e72');\n",
              "          const dataTable =\n",
              "            await google.colab.kernel.invokeFunction('convertToInteractive',\n",
              "                                                     [key], {});\n",
              "          if (!dataTable) return;\n",
              "\n",
              "          const docLinkHtml = 'Like what you see? Visit the ' +\n",
              "            '<a target=\"_blank\" href=https://colab.research.google.com/notebooks/data_table.ipynb>data table notebook</a>'\n",
              "            + ' to learn more about interactive tables.';\n",
              "          element.innerHTML = '';\n",
              "          dataTable['output_type'] = 'display_data';\n",
              "          await google.colab.output.renderOutput(dataTable, element);\n",
              "          const docLink = document.createElement('div');\n",
              "          docLink.innerHTML = docLinkHtml;\n",
              "          element.appendChild(docLink);\n",
              "        }\n",
              "      </script>\n",
              "    </div>\n",
              "  </div>\n",
              "  "
            ]
          },
          "metadata": {},
          "execution_count": 6
        }
      ],
      "source": [
        "discursos"
      ]
    },
    {
      "cell_type": "markdown",
      "metadata": {
        "id": "PILK-DZpN55u"
      },
      "source": [
        "# Preparar os dados para o embedding"
      ]
    },
    {
      "cell_type": "markdown",
      "metadata": {
        "id": "3VNXQorwNiBO"
      },
      "source": [
        "## Extraindo as sentenças para criar o embedding"
      ]
    },
    {
      "cell_type": "code",
      "execution_count": null,
      "metadata": {
        "id": "Flwd4q0ZYiO_"
      },
      "outputs": [],
      "source": [
        "def texto2Sentences(texto):\n",
        "\n",
        "  texto = texto.strip().lower()\n",
        "\n",
        "  texto = texto.replace('sra.','sra').replace('sras.', 'sras').replace('sr.', 'sr').replace('srs.', 'srs')\n",
        "\n",
        "  if 'sem revisão do orador.)' in texto.split('\\n')[0]:\n",
        "    texto = texto.split('sem revisão do orador.)')[1].strip()\n",
        "\n",
        "  if 'pronuncia o seguinte discurso.)' in texto.split('\\n')[0]:\n",
        "    texto = texto.split('pronuncia o seguinte discurso.)')[1].strip()\n",
        "\n",
        "  if texto.startswith('- sr presidente,'):\n",
        "    texto = texto.replace('- sr presidente,', '').strip()\n",
        "\n",
        "  return sent_tokenize(texto)"
      ]
    },
    {
      "cell_type": "code",
      "execution_count": null,
      "metadata": {
        "id": "Pj5nhDkuUW33"
      },
      "outputs": [],
      "source": [
        "if not 'sentences' in discursos.columns:\n",
        "  discursos['sentences_'] = discursos.original.map(lambda d: texto2Sentences(d))"
      ]
    },
    {
      "cell_type": "markdown",
      "metadata": {
        "id": "Q5O42dszNtN8"
      },
      "source": [
        "## Tokenizando as sentenças"
      ]
    },
    {
      "cell_type": "code",
      "execution_count": null,
      "metadata": {
        "id": "K5hRpKKqd3F9"
      },
      "outputs": [],
      "source": [
        "def limpaSentence(texto):\n",
        "  texto = texto.translate(str.maketrans(string.punctuation + '–', ' '*(len(string.punctuation)+1)))\n",
        "  texto = texto.translate(str.maketrans(string.digits, ' '*len(string.digits)))\n",
        "  texto = ' '.join(texto.split())\n",
        "  return texto.strip()"
      ]
    },
    {
      "cell_type": "code",
      "execution_count": null,
      "metadata": {
        "id": "5B1VqYleX3ax"
      },
      "outputs": [],
      "source": [
        "if not 'sentences' in discursos.columns:\n",
        "  discursos['sentences'] = discursos.sentences_.map(lambda ss: [word_tokenize(limpaSentence(s)) for s in ss])\n",
        "  discursos.drop(columns=['sentences_'], inplace=True)\n",
        "  discursos.to_json(ROOTDIR + 'data/sentences_discursos.json')"
      ]
    },
    {
      "cell_type": "code",
      "execution_count": null,
      "metadata": {
        "id": "bvuG0mddGLcd",
        "colab": {
          "base_uri": "https://localhost:8080/"
        },
        "outputId": "fba12b08-7ef5-45db-e034-236c466bc6a1"
      },
      "outputs": [
        {
          "output_type": "execute_result",
          "data": {
            "text/plain": [
              "['sras',\n",
              " 'e',\n",
              " 'srs',\n",
              " 'deputados',\n",
              " 'primeiro',\n",
              " 'parabenizo',\n",
              " 'o',\n",
              " 'plenário',\n",
              " 'desta',\n",
              " 'casa',\n",
              " 'pela',\n",
              " 'atitude',\n",
              " 'madura',\n",
              " 'conveniente',\n",
              " 'para',\n",
              " 'este',\n",
              " 'momento',\n",
              " 'tão',\n",
              " 'difícil',\n",
              " 'por',\n",
              " 'que',\n",
              " 'passa',\n",
              " 'o',\n",
              " 'brasil',\n",
              " 'inteiro',\n",
              " 'a',\n",
              " 'decisão',\n",
              " 'do',\n",
              " 'adiamento',\n",
              " 'das',\n",
              " 'eleições',\n",
              " 'do',\n",
              " 'ano',\n",
              " 'de',\n",
              " 'essa',\n",
              " 'decisão',\n",
              " 'nos',\n",
              " 'dá',\n",
              " 'segurança',\n",
              " 'do',\n",
              " 'ponto',\n",
              " 'de',\n",
              " 'vista',\n",
              " 'sanitário',\n",
              " 'e',\n",
              " 'nos',\n",
              " 'dá',\n",
              " 'a',\n",
              " 'garantia',\n",
              " 'de',\n",
              " 'que',\n",
              " 'estamos',\n",
              " 'entendendo',\n",
              " 'a',\n",
              " 'mutação',\n",
              " 'do',\n",
              " 'vírus',\n",
              " 'o',\n",
              " 'avanço',\n",
              " 'e',\n",
              " 'a',\n",
              " 'dinâmica',\n",
              " 'dele',\n",
              " 'uma',\n",
              " 'dinâmica',\n",
              " 'perversa']"
            ]
          },
          "metadata": {},
          "execution_count": 11
        }
      ],
      "source": [
        "discursos.iloc[1].sentences[0]"
      ]
    },
    {
      "cell_type": "code",
      "execution_count": null,
      "metadata": {
        "id": "HlIlKzxCQQ_h",
        "colab": {
          "base_uri": "https://localhost:8080/",
          "height": 424
        },
        "outputId": "5468b606-f580-4773-a8f2-2acaed9c3796"
      },
      "outputs": [
        {
          "output_type": "execute_result",
          "data": {
            "text/plain": [
              "        idDeputado  idLegislatura  \\\n",
              "0            62881             56   \n",
              "1            62881             56   \n",
              "2            62881             56   \n",
              "3            62881             56   \n",
              "4            62881             56   \n",
              "...            ...            ...   \n",
              "189915      204760             55   \n",
              "189916      205234             55   \n",
              "189917      205234             55   \n",
              "189918      205234             55   \n",
              "189919      205234             55   \n",
              "\n",
              "                                                 original  \\\n",
              "0       O SR. DANILO FORTE (PSDB - CE. Pela ordem. Sem...   \n",
              "1       O SR. DANILO FORTE (PSDB - CE. Sem revisão do ...   \n",
              "2       O SR. DANILO FORTE (PSDB - CE. Pela ordem. Sem...   \n",
              "3       O SR. DANILO FORTE (PSDB - CE. Pela ordem. Sem...   \n",
              "4       O SR. DANILO FORTE (PSDB - CE. Como Líder. Sem...   \n",
              "...                                                   ...   \n",
              "189915  O SR. WASHINGTON CORAÇÃO VALENTE (PDT - RS. Pe...   \n",
              "189916  O SR. FELIPE SOUZA (PODE - AM. Pela ordem. Sem...   \n",
              "189917  O SR. FELIPE SOUZA (PODE - AM. Pela ordem. Sem...   \n",
              "189918  O SR. FELIPE SOUZA (PTN - AM. Sem revisão do o...   \n",
              "189919  O SR. FELIPE SOUZA (PTN - AM. Sem revisão do o...   \n",
              "\n",
              "                                                sentences  \n",
              "0       [[caros, colegas, e, amigos, alguns, saudosos,...  \n",
              "1       [[sras, e, srs, deputados, primeiro, parabeniz...  \n",
              "2       [[obrigado, sr, presidente, marcos, pereira], ...  \n",
              "3       [[presidente, vou, dar, continuidade, à, minha...  \n",
              "4       [[sras, e, srs, deputados, o, tema, que, me, t...  \n",
              "...                                                   ...  \n",
              "189915  [[hoje, nesta, casa, protocolei, dois, projeto...  \n",
              "189916  [[tomei, posse, ontem], [sou, deputado, federa...  \n",
              "189917  [[o, bom, senso, de, não, se, estourar, o, orç...  \n",
              "189918  [[eu, felipe, souza, deputado, federal, pelo, ...  \n",
              "189919  [[sra, presidente, sras, e, srs, deputados, in...  \n",
              "\n",
              "[189920 rows x 4 columns]"
            ],
            "text/html": [
              "\n",
              "  <div id=\"df-750cff22-0237-47be-89a6-24edc83e3305\">\n",
              "    <div class=\"colab-df-container\">\n",
              "      <div>\n",
              "<style scoped>\n",
              "    .dataframe tbody tr th:only-of-type {\n",
              "        vertical-align: middle;\n",
              "    }\n",
              "\n",
              "    .dataframe tbody tr th {\n",
              "        vertical-align: top;\n",
              "    }\n",
              "\n",
              "    .dataframe thead th {\n",
              "        text-align: right;\n",
              "    }\n",
              "</style>\n",
              "<table border=\"1\" class=\"dataframe\">\n",
              "  <thead>\n",
              "    <tr style=\"text-align: right;\">\n",
              "      <th></th>\n",
              "      <th>idDeputado</th>\n",
              "      <th>idLegislatura</th>\n",
              "      <th>original</th>\n",
              "      <th>sentences</th>\n",
              "    </tr>\n",
              "  </thead>\n",
              "  <tbody>\n",
              "    <tr>\n",
              "      <th>0</th>\n",
              "      <td>62881</td>\n",
              "      <td>56</td>\n",
              "      <td>O SR. DANILO FORTE (PSDB - CE. Pela ordem. Sem...</td>\n",
              "      <td>[[caros, colegas, e, amigos, alguns, saudosos,...</td>\n",
              "    </tr>\n",
              "    <tr>\n",
              "      <th>1</th>\n",
              "      <td>62881</td>\n",
              "      <td>56</td>\n",
              "      <td>O SR. DANILO FORTE (PSDB - CE. Sem revisão do ...</td>\n",
              "      <td>[[sras, e, srs, deputados, primeiro, parabeniz...</td>\n",
              "    </tr>\n",
              "    <tr>\n",
              "      <th>2</th>\n",
              "      <td>62881</td>\n",
              "      <td>56</td>\n",
              "      <td>O SR. DANILO FORTE (PSDB - CE. Pela ordem. Sem...</td>\n",
              "      <td>[[obrigado, sr, presidente, marcos, pereira], ...</td>\n",
              "    </tr>\n",
              "    <tr>\n",
              "      <th>3</th>\n",
              "      <td>62881</td>\n",
              "      <td>56</td>\n",
              "      <td>O SR. DANILO FORTE (PSDB - CE. Pela ordem. Sem...</td>\n",
              "      <td>[[presidente, vou, dar, continuidade, à, minha...</td>\n",
              "    </tr>\n",
              "    <tr>\n",
              "      <th>4</th>\n",
              "      <td>62881</td>\n",
              "      <td>56</td>\n",
              "      <td>O SR. DANILO FORTE (PSDB - CE. Como Líder. Sem...</td>\n",
              "      <td>[[sras, e, srs, deputados, o, tema, que, me, t...</td>\n",
              "    </tr>\n",
              "    <tr>\n",
              "      <th>...</th>\n",
              "      <td>...</td>\n",
              "      <td>...</td>\n",
              "      <td>...</td>\n",
              "      <td>...</td>\n",
              "    </tr>\n",
              "    <tr>\n",
              "      <th>189915</th>\n",
              "      <td>204760</td>\n",
              "      <td>55</td>\n",
              "      <td>O SR. WASHINGTON CORAÇÃO VALENTE (PDT - RS. Pe...</td>\n",
              "      <td>[[hoje, nesta, casa, protocolei, dois, projeto...</td>\n",
              "    </tr>\n",
              "    <tr>\n",
              "      <th>189916</th>\n",
              "      <td>205234</td>\n",
              "      <td>55</td>\n",
              "      <td>O SR. FELIPE SOUZA (PODE - AM. Pela ordem. Sem...</td>\n",
              "      <td>[[tomei, posse, ontem], [sou, deputado, federa...</td>\n",
              "    </tr>\n",
              "    <tr>\n",
              "      <th>189917</th>\n",
              "      <td>205234</td>\n",
              "      <td>55</td>\n",
              "      <td>O SR. FELIPE SOUZA (PODE - AM. Pela ordem. Sem...</td>\n",
              "      <td>[[o, bom, senso, de, não, se, estourar, o, orç...</td>\n",
              "    </tr>\n",
              "    <tr>\n",
              "      <th>189918</th>\n",
              "      <td>205234</td>\n",
              "      <td>55</td>\n",
              "      <td>O SR. FELIPE SOUZA (PTN - AM. Sem revisão do o...</td>\n",
              "      <td>[[eu, felipe, souza, deputado, federal, pelo, ...</td>\n",
              "    </tr>\n",
              "    <tr>\n",
              "      <th>189919</th>\n",
              "      <td>205234</td>\n",
              "      <td>55</td>\n",
              "      <td>O SR. FELIPE SOUZA (PTN - AM. Sem revisão do o...</td>\n",
              "      <td>[[sra, presidente, sras, e, srs, deputados, in...</td>\n",
              "    </tr>\n",
              "  </tbody>\n",
              "</table>\n",
              "<p>189920 rows × 4 columns</p>\n",
              "</div>\n",
              "      <button class=\"colab-df-convert\" onclick=\"convertToInteractive('df-750cff22-0237-47be-89a6-24edc83e3305')\"\n",
              "              title=\"Convert this dataframe to an interactive table.\"\n",
              "              style=\"display:none;\">\n",
              "        \n",
              "  <svg xmlns=\"http://www.w3.org/2000/svg\" height=\"24px\"viewBox=\"0 0 24 24\"\n",
              "       width=\"24px\">\n",
              "    <path d=\"M0 0h24v24H0V0z\" fill=\"none\"/>\n",
              "    <path d=\"M18.56 5.44l.94 2.06.94-2.06 2.06-.94-2.06-.94-.94-2.06-.94 2.06-2.06.94zm-11 1L8.5 8.5l.94-2.06 2.06-.94-2.06-.94L8.5 2.5l-.94 2.06-2.06.94zm10 10l.94 2.06.94-2.06 2.06-.94-2.06-.94-.94-2.06-.94 2.06-2.06.94z\"/><path d=\"M17.41 7.96l-1.37-1.37c-.4-.4-.92-.59-1.43-.59-.52 0-1.04.2-1.43.59L10.3 9.45l-7.72 7.72c-.78.78-.78 2.05 0 2.83L4 21.41c.39.39.9.59 1.41.59.51 0 1.02-.2 1.41-.59l7.78-7.78 2.81-2.81c.8-.78.8-2.07 0-2.86zM5.41 20L4 18.59l7.72-7.72 1.47 1.35L5.41 20z\"/>\n",
              "  </svg>\n",
              "      </button>\n",
              "      \n",
              "  <style>\n",
              "    .colab-df-container {\n",
              "      display:flex;\n",
              "      flex-wrap:wrap;\n",
              "      gap: 12px;\n",
              "    }\n",
              "\n",
              "    .colab-df-convert {\n",
              "      background-color: #E8F0FE;\n",
              "      border: none;\n",
              "      border-radius: 50%;\n",
              "      cursor: pointer;\n",
              "      display: none;\n",
              "      fill: #1967D2;\n",
              "      height: 32px;\n",
              "      padding: 0 0 0 0;\n",
              "      width: 32px;\n",
              "    }\n",
              "\n",
              "    .colab-df-convert:hover {\n",
              "      background-color: #E2EBFA;\n",
              "      box-shadow: 0px 1px 2px rgba(60, 64, 67, 0.3), 0px 1px 3px 1px rgba(60, 64, 67, 0.15);\n",
              "      fill: #174EA6;\n",
              "    }\n",
              "\n",
              "    [theme=dark] .colab-df-convert {\n",
              "      background-color: #3B4455;\n",
              "      fill: #D2E3FC;\n",
              "    }\n",
              "\n",
              "    [theme=dark] .colab-df-convert:hover {\n",
              "      background-color: #434B5C;\n",
              "      box-shadow: 0px 1px 3px 1px rgba(0, 0, 0, 0.15);\n",
              "      filter: drop-shadow(0px 1px 2px rgba(0, 0, 0, 0.3));\n",
              "      fill: #FFFFFF;\n",
              "    }\n",
              "  </style>\n",
              "\n",
              "      <script>\n",
              "        const buttonEl =\n",
              "          document.querySelector('#df-750cff22-0237-47be-89a6-24edc83e3305 button.colab-df-convert');\n",
              "        buttonEl.style.display =\n",
              "          google.colab.kernel.accessAllowed ? 'block' : 'none';\n",
              "\n",
              "        async function convertToInteractive(key) {\n",
              "          const element = document.querySelector('#df-750cff22-0237-47be-89a6-24edc83e3305');\n",
              "          const dataTable =\n",
              "            await google.colab.kernel.invokeFunction('convertToInteractive',\n",
              "                                                     [key], {});\n",
              "          if (!dataTable) return;\n",
              "\n",
              "          const docLinkHtml = 'Like what you see? Visit the ' +\n",
              "            '<a target=\"_blank\" href=https://colab.research.google.com/notebooks/data_table.ipynb>data table notebook</a>'\n",
              "            + ' to learn more about interactive tables.';\n",
              "          element.innerHTML = '';\n",
              "          dataTable['output_type'] = 'display_data';\n",
              "          await google.colab.output.renderOutput(dataTable, element);\n",
              "          const docLink = document.createElement('div');\n",
              "          docLink.innerHTML = docLinkHtml;\n",
              "          element.appendChild(docLink);\n",
              "        }\n",
              "      </script>\n",
              "    </div>\n",
              "  </div>\n",
              "  "
            ]
          },
          "metadata": {},
          "execution_count": 12
        }
      ],
      "source": [
        "discursos"
      ]
    },
    {
      "cell_type": "markdown",
      "metadata": {
        "id": "wnPwwJYTxkAs"
      },
      "source": [
        "## Determinando o tamanho do corpus e frequência das palavras"
      ]
    },
    {
      "cell_type": "code",
      "execution_count": null,
      "metadata": {
        "id": "e-sY46yltkQE"
      },
      "outputs": [],
      "source": [
        "palavras_indesejadas = ['gggggoverno']"
      ]
    },
    {
      "cell_type": "code",
      "execution_count": null,
      "metadata": {
        "id": "4RAEt3T1xoGJ"
      },
      "outputs": [],
      "source": [
        "counter = Counter()\n",
        "for discurso in discursos.sentences.values:\n",
        "  for doc in discurso:\n",
        "    counter.update(doc)\n",
        "\n",
        "for pi in palavras_indesejadas:\n",
        "  del counter[pi]"
      ]
    },
    {
      "cell_type": "markdown",
      "metadata": {
        "id": "8DzXG0YKNMrj"
      },
      "source": [
        "### Plota as palavras \"mais\" frequentes"
      ]
    },
    {
      "cell_type": "code",
      "execution_count": null,
      "metadata": {
        "id": "FsrZ_e4qt_H0",
        "colab": {
          "base_uri": "https://localhost:8080/",
          "height": 1000
        },
        "outputId": "308e992f-cc89-40a0-c12d-3f77b3285b74"
      },
      "outputs": [
        {
          "output_type": "display_data",
          "data": {
            "text/plain": [
              "<Figure size 576x1440 with 1 Axes>"
            ],
            "image/png": "[encoded data removed]"
          },
          "metadata": {
            "needs_background": "light"
          }
        }
      ],
      "source": [
        "fig, axes = plt.subplots(1,1,figsize=(8,20))\n",
        "axes.set_title('Os 20 tokens (len > 4) mais frequentes')\n",
        "sns.barplot(\n",
        "              ax=axes, x='frequencia', y='token',\n",
        "              data=pd.DataFrame(\n",
        "                  [(tk, fr) for tk, fr in counter.most_common(100) if len(tk) > 4][:20], \n",
        "                  columns=['token','frequencia']\n",
        "              ).sort_values(by='frequencia', ascending=False)\n",
        ");"
      ]
    },
    {
      "cell_type": "code",
      "execution_count": null,
      "metadata": {
        "id": "xHqN9Yiyyp8K",
        "colab": {
          "base_uri": "https://localhost:8080/"
        },
        "outputId": "8ef43487-5c65-4fa8-a4c0-1928c2ce9ad9"
      },
      "outputs": [
        {
          "output_type": "execute_result",
          "data": {
            "text/plain": [
              "200103"
            ]
          },
          "metadata": {},
          "execution_count": 16
        }
      ],
      "source": [
        "word_count = len(list(counter))\n",
        "word_count"
      ]
    },
    {
      "cell_type": "markdown",
      "metadata": {
        "id": "JGNhdk8EfQTe"
      },
      "source": [
        "# Treinando os modelos"
      ]
    },
    {
      "cell_type": "markdown",
      "metadata": {
        "id": "j9JbxTKx920y"
      },
      "source": [
        "## vetor de 50"
      ]
    },
    {
      "cell_type": "code",
      "execution_count": null,
      "metadata": {
        "id": "DtplP67ltpOL"
      },
      "outputs": [],
      "source": [
        "vector_size = 50\n",
        "\n",
        "if not os.path.isfile(ROOTDIR + f'data/camares.{vector_size}.w2v'):\n",
        "  \n",
        "  minimo_ocorrencias = 10\n",
        "  window_size = 5\n",
        "  epocas=50\n",
        "\n",
        "  model = Word2Vec(vector_size=vector_size, window=window_size, min_count=minimo_ocorrencias, seed=SEED)\n",
        "\n",
        "  model.build_vocab_from_freq(word_freq=dict(counter.items()))\n",
        "\n",
        "  doc_count = discursos.shape[0]\n",
        "    \n",
        "  pace = 500\n",
        "  for i in range(0, doc_count, pace):\n",
        "    if i % 5000 == 0:\n",
        "      print(i, ' de ', doc_count, f' {(100*i/doc_count):.2f}%')\n",
        "    model.train(np.sum(discursos.iloc[i:i+pace].sentences.values), total_words=len(model.wv.key_to_index), epochs=epocas)\n",
        "\n",
        "  model.save(ROOTDIR + f'data/camares.{vector_size}.w2v')"
      ]
    },
    {
      "cell_type": "markdown",
      "metadata": {
        "id": "TlowiW8u99U5"
      },
      "source": [
        "## vetor de 100"
      ]
    },
    {
      "cell_type": "code",
      "execution_count": null,
      "metadata": {
        "id": "xzCrKX0p9_qh"
      },
      "outputs": [],
      "source": [
        "vector_size = 100\n",
        "\n",
        "if not os.path.isfile(ROOTDIR + f'data/camares.{vector_size}.w2v'):\n",
        "\n",
        "  minimo_ocorrencias = 10\n",
        "  window_size = 5\n",
        "  epocas=100\n",
        "\n",
        "  model = Word2Vec(vector_size=vector_size, window=window_size, min_count=minimo_ocorrencias, seed=SEED)\n",
        "\n",
        "  model.build_vocab_from_freq(word_freq=dict(counter.items()))\n",
        "\n",
        "  doc_count = discursos.shape[0]\n",
        "    \n",
        "  pace = 500\n",
        "  for i in range(0, doc_count, pace):\n",
        "    if i % 5000 == 0:\n",
        "      print(i, ' de ', doc_count, f' {(100*i/doc_count):.2f}%')\n",
        "    model.train(np.sum(discursos.iloc[i:i+pace].sentences.values), total_words=len(model.wv.key_to_index), epochs=epocas)\n",
        "\n",
        "  \"\"\"\n",
        "  for i, doc in enumerate(discursos.iloc[0:].sentences):\n",
        "    if i % 5000 == 0:\n",
        "      print(i, 'de', doc_count, f' {(100*i/doc_count):.2f}%')\n",
        "    print(doc)\n",
        "    model.train(doc, total_words=len(model.wv.key_to_index), epochs=epocas)\n",
        "  \"\"\"\n",
        "\n",
        "  model.save(ROOTDIR + f'data/camares.{vector_size}.w2v')"
      ]
    },
    {
      "cell_type": "markdown",
      "metadata": {
        "id": "X1GP5ktQfnUj"
      },
      "source": [
        "## Vetor de 300"
      ]
    },
    {
      "cell_type": "code",
      "execution_count": null,
      "metadata": {
        "id": "gGaGV4-ufplJ"
      },
      "outputs": [],
      "source": [
        "vector_size = 300\n",
        "\n",
        "if not os.path.isfile(ROOTDIR + f'data/camares.{vector_size}.w2v'):\n",
        "\n",
        "  minimo_ocorrencias = 10\n",
        "  window_size = 5\n",
        "  epocas=150\n",
        "\n",
        "  model = Word2Vec(vector_size=vector_size, window=window_size, min_count=minimo_ocorrencias, seed=SEED)\n",
        "\n",
        "  model.build_vocab_from_freq(word_freq=dict(counter.items()))\n",
        "\n",
        "  doc_count = discursos.shape[0]\n",
        "    \n",
        "  pace = 500\n",
        "  for i in range(0, doc_count, pace):\n",
        "    if i % 5000 == 0:\n",
        "      print(i, ' de ', doc_count, f' {(100*i/doc_count):.2f}%')\n",
        "    model.train(np.sum(discursos.iloc[i:i+pace].sentences.values), total_words=len(model.wv.key_to_index), epochs=epocas)\n",
        "\n",
        "  \"\"\"\n",
        "  for i, doc in enumerate(discursos.iloc[0:].sentences):\n",
        "    if i % 5000 == 0:\n",
        "      print(i, 'de', doc_count, f' {(100*i/doc_count):.2f}%')\n",
        "    model.train(doc, total_words=len(model.wv.key_to_index), epochs=epocas)\n",
        "  \"\"\"\n",
        "\n",
        "  model.save(ROOTDIR + f'data/camares.{vector_size}.w2v')"
      ]
    }
  ],
  "metadata": {
    "colab": {
      "collapsed_sections": [],
      "name": "nlp_discursos_camara_w2v.ipynb",
      "provenance": [],
      "mount_file_id": "1QaQhCtuOdua6HIcSJoMqi8cJq_9CQXY0",
      "authorship_tag": "ABX9TyNa5yVrDao0WrUDp4rwaRCq",
      "include_colab_link": true
    },
    "kernelspec": {
      "display_name": "Python 3",
      "name": "python3"
    },
    "language_info": {
      "name": "python"
    }
  },
  "nbformat": 4,
  "nbformat_minor": 0
}