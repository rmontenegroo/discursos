{
  "nbformat": 4,
  "nbformat_minor": 0,
  "metadata": {
    "colab": {
      "name": "nlp_discursos_camara_classficador_por_genero.ipynb",
      "provenance": [],
      "collapsed_sections": [],
      "machine_shape": "hm",
      "authorship_tag": "ABX9TyM/dhkrYLDvsyKeZ0VhJIEh",
      "include_colab_link": true
    },
    "kernelspec": {
      "name": "python3",
      "display_name": "Python 3"
    },
    "language_info": {
      "name": "python"
    },
    "accelerator": "GPU"
  },
  "cells": [
    {
      "cell_type": "markdown",
      "metadata": {
        "id": "view-in-github",
        "colab_type": "text"
      },
      "source": [
        "<a href=\"https://colab.research.google.com/github/rmontenegroo/discursos/blob/main/nlp_discursos_camara_classficador_por_genero.ipynb\" target=\"_parent\"><img src=\"https://colab.research.google.com/assets/colab-badge.svg\" alt=\"Open In Colab\"/></a>"
      ]
    },
    {
      "cell_type": "code",
      "source": [
        "!pip install --upgrade gensim==4.1.2"
      ],
      "metadata": {
        "colab": {
          "base_uri": "https://localhost:8080/"
        },
        "id": "NnsPTHEw1_JG",
        "outputId": "ecd7ea76-1c51-4c73-d59d-816dbcb7d4ef"
      },
      "execution_count": null,
      "outputs": [
        {
          "output_type": "stream",
          "name": "stdout",
          "text": [
            "Looking in indexes: https://pypi.org/simple, https://us-python.pkg.dev/colab-wheels/public/simple/\n",
            "Collecting gensim==4.1.2\n",
            "  Downloading gensim-4.1.2-cp37-cp37m-manylinux_2_12_x86_64.manylinux2010_x86_64.whl (24.1 MB)\n",
            "\u001b[K     |████████████████████████████████| 24.1 MB 134.5 MB/s \n",
            "\u001b[?25hRequirement already satisfied: numpy>=1.17.0 in /usr/local/lib/python3.7/dist-packages (from gensim==4.1.2) (1.21.6)\n",
            "Requirement already satisfied: smart-open>=1.8.1 in /usr/local/lib/python3.7/dist-packages (from gensim==4.1.2) (6.0.0)\n",
            "Requirement already satisfied: scipy>=0.18.1 in /usr/local/lib/python3.7/dist-packages (from gensim==4.1.2) (1.4.1)\n",
            "Installing collected packages: gensim\n",
            "  Attempting uninstall: gensim\n",
            "    Found existing installation: gensim 3.6.0\n",
            "    Uninstalling gensim-3.6.0:\n",
            "      Successfully uninstalled gensim-3.6.0\n",
            "Successfully installed gensim-4.1.2\n"
          ]
        }
      ]
    },
    {
      "cell_type": "code",
      "execution_count": null,
      "metadata": {
        "colab": {
          "base_uri": "https://localhost:8080/"
        },
        "id": "Uwghix16zBUP",
        "outputId": "573239fc-e7ab-4e55-e80c-4344d50c76a4"
      },
      "outputs": [
        {
          "output_type": "stream",
          "name": "stderr",
          "text": [
            "[nltk_data] Downloading package punkt to /root/nltk_data...\n",
            "[nltk_data]   Unzipping tokenizers/punkt.zip.\n"
          ]
        },
        {
          "output_type": "execute_result",
          "data": {
            "text/plain": [
              "<tensorflow.python.eager.context._EagerDeviceContext at 0x7f27d9e19140>"
            ]
          },
          "metadata": {},
          "execution_count": 2
        }
      ],
      "source": [
        "import numpy as np\n",
        "import random\n",
        "import os\n",
        "import string\n",
        "import nltk\n",
        "import gensim\n",
        "import keras as tf\n",
        "import pickle\n",
        "\n",
        "import pandas as pd\n",
        "import matplotlib.pyplot as plt\n",
        "import tensorflow as tf\n",
        "import seaborn as sns\n",
        "\n",
        "from google.colab import drive\n",
        "\n",
        "from tensorflow.keras.utils import to_categorical \n",
        "from sklearn.preprocessing import LabelEncoder\n",
        "from sklearn.model_selection import train_test_split\n",
        "from sklearn.metrics import confusion_matrix, accuracy_score\n",
        "from gensim.models import Word2Vec\n",
        "from keras.preprocessing import text, sequence\n",
        "from keras.callbacks import ReduceLROnPlateau, EarlyStopping\n",
        "from keras.models import Sequential\n",
        "from keras.layers import Dense, Embedding, LSTM, Dropout, Reshape\n",
        "from imblearn.under_sampling import RandomUnderSampler\n",
        "\n",
        "nltk.download('punkt')\n",
        "\n",
        "tf.device('/device:GPU:0')"
      ]
    },
    {
      "cell_type": "code",
      "source": [
        "RANDOM_SEED = 12\n",
        "MAX_FEATURES = 50000\n",
        "EMBEDDINGS_DIM = 100\n",
        "\n",
        "os.environ['PYTHONHASHSEED'] = str(RANDOM_SEED)\n",
        "np.random.seed(RANDOM_SEED)\n",
        "random.seed(RANDOM_SEED)\n",
        "tf.random.set_seed(RANDOM_SEED)\n",
        "\n",
        "ROOTDIR = '/content/drive/MyDrive/Pós/discursos/'\n",
        "\n",
        "from google.colab import drive\n",
        "drive.mount('/content/drive')\n",
        "\n",
        "LEGISLATURA = 56\n",
        "TEST_SIZE = 0.2"
      ],
      "metadata": {
        "colab": {
          "base_uri": "https://localhost:8080/"
        },
        "id": "bZq4gDDozvrK",
        "outputId": "68fa2eb3-ad2c-44ab-8989-9d6eef7cb38e"
      },
      "execution_count": null,
      "outputs": [
        {
          "output_type": "stream",
          "name": "stdout",
          "text": [
            "Mounted at /content/drive\n"
          ]
        }
      ]
    },
    {
      "cell_type": "code",
      "source": [
        "discursos = pd.DataFrame()\n",
        "with open(ROOTDIR + f'data/tokens_{LEGISLATURA}.dat', 'rb') as fp:\n",
        "    discursos = pickle.load(fp)\n",
        "\n",
        "discursos = discursos.join(pd.read_json(ROOTDIR + 'data/detalhes_deputados.json'), on=['idDeputado'])"
      ],
      "metadata": {
        "id": "XV4iwYen2WWr"
      },
      "execution_count": null,
      "outputs": []
    },
    {
      "cell_type": "code",
      "source": [
        "discursos['tamanho'] = discursos.tokens_.map(len)\n",
        "sns.boxplot(discursos.tamanho) "
      ],
      "metadata": {
        "colab": {
          "base_uri": "https://localhost:8080/",
          "height": 351
        },
        "id": "TTq1dslbVhxT",
        "outputId": "5630b5ba-0d2f-4dbe-80b3-8a7e3762826b"
      },
      "execution_count": null,
      "outputs": [
        {
          "output_type": "stream",
          "name": "stderr",
          "text": [
            "/usr/local/lib/python3.7/dist-packages/seaborn/_decorators.py:43: FutureWarning: Pass the following variable as a keyword arg: x. From version 0.12, the only valid positional argument will be `data`, and passing other arguments without an explicit keyword will result in an error or misinterpretation.\n",
            "  FutureWarning\n"
          ]
        },
        {
          "output_type": "execute_result",
          "data": {
            "text/plain": [
              "<matplotlib.axes._subplots.AxesSubplot at 0x7f26df24b290>"
            ]
          },
          "metadata": {},
          "execution_count": 5
        },
        {
          "output_type": "display_data",
          "data": {
            "text/plain": [
              "<Figure size 432x288 with 1 Axes>"
            ],
            "image/png": "[encoded data removed]"
          },
          "metadata": {
            "needs_background": "light"
          }
        }
      ]
    },
    {
      "cell_type": "code",
      "source": [
        "# descartar discursos muito grandes\n",
        "MAX_TAM = 2500\n",
        "discursos = discursos.loc[discursos.tamanho <= MAX_TAM]\n",
        "sns.boxplot(discursos.tamanho)"
      ],
      "metadata": {
        "colab": {
          "base_uri": "https://localhost:8080/",
          "height": 351
        },
        "id": "CBIQq1J5XKv9",
        "outputId": "67a2d16d-66d6-4db7-a759-ef71de9f9a45"
      },
      "execution_count": null,
      "outputs": [
        {
          "output_type": "stream",
          "name": "stderr",
          "text": [
            "/usr/local/lib/python3.7/dist-packages/seaborn/_decorators.py:43: FutureWarning: Pass the following variable as a keyword arg: x. From version 0.12, the only valid positional argument will be `data`, and passing other arguments without an explicit keyword will result in an error or misinterpretation.\n",
            "  FutureWarning\n"
          ]
        },
        {
          "output_type": "execute_result",
          "data": {
            "text/plain": [
              "<matplotlib.axes._subplots.AxesSubplot at 0x7f26df1afc50>"
            ]
          },
          "metadata": {},
          "execution_count": 6
        },
        {
          "output_type": "display_data",
          "data": {
            "text/plain": [
              "<Figure size 432x288 with 1 Axes>"
            ],
            "image/png": "[encoded data removed]"
          },
          "metadata": {
            "needs_background": "light"
          }
        }
      ]
    },
    {
      "cell_type": "code",
      "source": [
        "# descartar discursos muito curtos\n",
        "MIN_TAM = 10\n",
        "discursos = discursos.loc[discursos.tamanho >= MIN_TAM]\n",
        "sns.boxplot(discursos.tamanho)"
      ],
      "metadata": {
        "colab": {
          "base_uri": "https://localhost:8080/",
          "height": 351
        },
        "id": "Mpc_5qGvWIEK",
        "outputId": "b3bc2036-34f8-48b5-cdf0-3a45fed7fd19"
      },
      "execution_count": null,
      "outputs": [
        {
          "output_type": "stream",
          "name": "stderr",
          "text": [
            "/usr/local/lib/python3.7/dist-packages/seaborn/_decorators.py:43: FutureWarning: Pass the following variable as a keyword arg: x. From version 0.12, the only valid positional argument will be `data`, and passing other arguments without an explicit keyword will result in an error or misinterpretation.\n",
            "  FutureWarning\n"
          ]
        },
        {
          "output_type": "execute_result",
          "data": {
            "text/plain": [
              "<matplotlib.axes._subplots.AxesSubplot at 0x7f26ef8e2810>"
            ]
          },
          "metadata": {},
          "execution_count": 7
        },
        {
          "output_type": "display_data",
          "data": {
            "text/plain": [
              "<Figure size 432x288 with 1 Axes>"
            ],
            "image/png": "[encoded data removed]"
          },
          "metadata": {
            "needs_background": "light"
          }
        }
      ]
    },
    {
      "cell_type": "code",
      "source": [
        "discursos.sexo.value_counts()"
      ],
      "metadata": {
        "colab": {
          "base_uri": "https://localhost:8080/"
        },
        "id": "8QF38Pay4PSK",
        "outputId": "658ee637-acab-4c3d-d276-fa3d16185d4a"
      },
      "execution_count": null,
      "outputs": [
        {
          "output_type": "execute_result",
          "data": {
            "text/plain": [
              "M    45563\n",
              "F    12641\n",
              "Name: sexo, dtype: int64"
            ]
          },
          "metadata": {},
          "execution_count": 8
        }
      ]
    },
    {
      "cell_type": "code",
      "source": [
        "plt.figure(figsize=(10, 5))\n",
        "sns.countplot(x = 'sexo' , data = discursos, order = ('M', 'F'))\n",
        "plt.show()"
      ],
      "metadata": {
        "colab": {
          "base_uri": "https://localhost:8080/",
          "height": 334
        },
        "id": "tdUOHtgU8RsI",
        "outputId": "abb4c7ce-4bdd-490a-def2-fcf20137533f"
      },
      "execution_count": null,
      "outputs": [
        {
          "output_type": "display_data",
          "data": {
            "text/plain": [
              "<Figure size 720x360 with 1 Axes>"
            ],
            "image/png": "[encoded data removed]"
          },
          "metadata": {
            "needs_background": "light"
          }
        }
      ]
    },
    {
      "cell_type": "code",
      "source": [
        "rus = RandomUnderSampler(random_state=RANDOM_SEED)\n",
        "discursos, y = rus.fit_resample(discursos, discursos['sexo'])\n",
        "\n",
        "plt.figure(figsize=(10, 5))\n",
        "sns.countplot(x = 'sexo' , data = discursos, order = ('M', 'F'))\n",
        "plt.show()"
      ],
      "metadata": {
        "colab": {
          "base_uri": "https://localhost:8080/",
          "height": 334
        },
        "id": "ebNj_HPGHrEX",
        "outputId": "0a764fb0-ec61-49a4-9d7e-aa73bd87fe2a"
      },
      "execution_count": null,
      "outputs": [
        {
          "output_type": "display_data",
          "data": {
            "text/plain": [
              "<Figure size 720x360 with 1 Axes>"
            ],
            "image/png": "[encoded data removed]"
          },
          "metadata": {
            "needs_background": "light"
          }
        }
      ]
    },
    {
      "cell_type": "code",
      "source": [
        "df_treino, df_teste = train_test_split(discursos, test_size=TEST_SIZE, random_state=RANDOM_SEED)"
      ],
      "metadata": {
        "id": "Q7gyzZiZ8pP-"
      },
      "execution_count": null,
      "outputs": []
    },
    {
      "cell_type": "code",
      "source": [
        "plt.figure(figsize=(10,5))\n",
        "sns.countplot(x = 'sexo' , data = df_treino, order = ('M', 'F'))\n",
        "plt.show()"
      ],
      "metadata": {
        "colab": {
          "base_uri": "https://localhost:8080/",
          "height": 334
        },
        "id": "AO0V0wcY9RS9",
        "outputId": "7442d636-2395-4d77-f8bb-ec0bac5f0f39"
      },
      "execution_count": null,
      "outputs": [
        {
          "output_type": "display_data",
          "data": {
            "text/plain": [
              "<Figure size 720x360 with 1 Axes>"
            ],
            "image/png": "[encoded data removed]"
          },
          "metadata": {
            "needs_background": "light"
          }
        }
      ]
    },
    {
      "cell_type": "code",
      "source": [
        "plt.figure(figsize=(10,5))\n",
        "sns.countplot(x = 'sexo' , data = df_teste, order = ('M', 'F'))\n",
        "plt.show()"
      ],
      "metadata": {
        "colab": {
          "base_uri": "https://localhost:8080/",
          "height": 334
        },
        "id": "J-9s0YV89XDt",
        "outputId": "10af7822-cba5-41dc-9048-6d346cdbb0df"
      },
      "execution_count": null,
      "outputs": [
        {
          "output_type": "display_data",
          "data": {
            "text/plain": [
              "<Figure size 720x360 with 1 Axes>"
            ],
            "image/png": "[encoded data removed]"
          },
          "metadata": {
            "needs_background": "light"
          }
        }
      ]
    },
    {
      "cell_type": "code",
      "source": [
        "tokenizer = text.Tokenizer(num_words=MAX_FEATURES)\n",
        "tokenizer.fit_on_texts(discursos['tokens'])\n",
        "\n",
        "labeler = LabelEncoder()\n",
        "labeler.fit(discursos['sexo'])"
      ],
      "metadata": {
        "colab": {
          "base_uri": "https://localhost:8080/"
        },
        "id": "6_Y9_2K7ZSgX",
        "outputId": "ba8087e5-f0c3-4bac-bb2d-2a8e3438d118"
      },
      "execution_count": null,
      "outputs": [
        {
          "output_type": "execute_result",
          "data": {
            "text/plain": [
              "LabelEncoder()"
            ]
          },
          "metadata": {},
          "execution_count": 14
        }
      ]
    },
    {
      "cell_type": "code",
      "source": [
        "# discursos = None\n",
        "# detalhes = None"
      ],
      "metadata": {
        "id": "P5kJxBfX9b4J"
      },
      "execution_count": null,
      "outputs": []
    },
    {
      "cell_type": "code",
      "source": [
        "X_treino = df_treino['tokens']\n",
        "X_teste = df_teste['tokens']\n",
        "\n",
        "MAX_DOC_LEN = np.max((X_teste.map(len).max(), X_treino.map(len).max()))\n",
        "\n",
        "X_treino = tokenizer.texts_to_sequences(X_treino)\n",
        "X_treino = sequence.pad_sequences(X_treino, maxlen=MAX_DOC_LEN)\n",
        "\n",
        "X_teste = tokenizer.texts_to_sequences(X_teste)\n",
        "X_teste = sequence.pad_sequences(X_teste, maxlen=MAX_DOC_LEN)"
      ],
      "metadata": {
        "id": "gdIfOl3TLILL"
      },
      "execution_count": null,
      "outputs": []
    },
    {
      "cell_type": "code",
      "source": [
        "Y_treino = df_treino['sexo']\n",
        "Y_teste = df_teste['sexo']\n",
        "\n",
        "Y_treino = to_categorical(labeler.transform(Y_treino), 2, dtype='float32')\n",
        "Y_teste = to_categorical(labeler.transform(Y_teste), 2, dtype='float32')"
      ],
      "metadata": {
        "id": "vogqsNCN_BD8"
      },
      "execution_count": null,
      "outputs": []
    },
    {
      "cell_type": "code",
      "source": [
        "w2v = Word2Vec.load(ROOTDIR + f'camares.{EMBEDDINGS_DIM}.w2v')\n",
        "\n",
        "embeddings_mean, embeddings_std = w2v.wv.vectors.mean(), w2v.wv.vectors.std()\n",
        "\n",
        "embeddings_matrix = np.random.normal(embeddings_mean, embeddings_std, size=(MAX_FEATURES, EMBEDDINGS_DIM))\n",
        "\n",
        "for word, i in tokenizer.word_index.items():\n",
        "    if i >= MAX_FEATURES: continue\n",
        "    try:\n",
        "      embeddings_matrix[i] = w2v.wv[word]\n",
        "    except KeyError:\n",
        "      pass"
      ],
      "metadata": {
        "id": "HdDw-dAucEXi"
      },
      "execution_count": null,
      "outputs": []
    },
    {
      "cell_type": "code",
      "source": [
        "BATCH_SIZE = 200\n",
        "EPOCHS = 50\n",
        "PATIENCE_LR = 5\n",
        "PATIENCE_ES = 2\n",
        "FACTOR = 0.25\n",
        "MIN_LR = 0.00000001\n",
        "PLATEAU_MONITOR = 'val_categorical_crossentropy'\n",
        "LSTM_LAYER1_SIZE = 32\n",
        "LSTM_LAYER2_SIZE = 32\n",
        "LAYER1_DROPOUT_RATE = 0.5\n",
        "LAYER2_DROPOUT_RATE = 0.25\n",
        "RECURRENT_DROPOUT_RATE = 0.2\n",
        "DENSE_LAYER1_SIZE = 16\n",
        "# DENSE_LAYER1_DROPOUT_RATE = 0.5\n",
        "DENSE_LAYER2_SIZE = 16\n",
        "# DENSE_LAYER2_DROPOUT_RATE = 0.25\n",
        "DENSE_LAYER1_FUNCTION = 'relu'\n",
        "DENSE_LAYER2_FUNCTION = 'relu'\n",
        "OUTPUT_LAYER_SIZE = 2\n",
        "OUTPUT_LAYER_FUNCTION = 'softmax'\n",
        "LEARNING_RATE = 0.01\n",
        "OPTIMIZER = tf.keras.optimizers.Adam\n",
        "LOSS_FUNCTION = 'categorical_crossentropy'\n",
        "METRIC_FUNCTIONS = ['categorical_accuracy', 'categorical_crossentropy']\n",
        "# VALIDATION_SPLIT_RATE = 0.2\n",
        "VALIDATION_SPLIT_RATE = 0.1\n",
        "\n",
        "model = Sequential()\n",
        "# INPUT\n",
        "model.add(Embedding(MAX_FEATURES, output_dim = EMBEDDINGS_DIM, weights = [embeddings_matrix], input_length = MAX_DOC_LEN, trainable = True))\n",
        "# LSTM \n",
        "model.add(LSTM(units = LSTM_LAYER1_SIZE, return_sequences = True,  dropout = LAYER1_DROPOUT_RATE))\n",
        "model.add(LSTM(units = LSTM_LAYER2_SIZE, recurrent_dropout = RECURRENT_DROPOUT_RATE, dropout = LAYER2_DROPOUT_RATE))\n",
        "model.add(Dense(units = DENSE_LAYER1_SIZE, activation = DENSE_LAYER1_FUNCTION))\n",
        "# model.add(Dropout(DENSE_LAYER1_DROPOUT_RATE))\n",
        "model.add(Dense(units = DENSE_LAYER2_SIZE, activation = DENSE_LAYER2_FUNCTION))\n",
        "# model.add(Dropout(DENSE_LAYER2_DROPOUT_RATE))\n",
        "model.add(Dense(units = OUTPUT_LAYER_SIZE, activation = OUTPUT_LAYER_FUNCTION))\n",
        "model.compile(optimizer = OPTIMIZER(learning_rate = LEARNING_RATE), loss = LOSS_FUNCTION, metrics = METRIC_FUNCTIONS)"
      ],
      "metadata": {
        "id": "dPrLCwJAddne",
        "colab": {
          "base_uri": "https://localhost:8080/"
        },
        "outputId": "7d323733-de06-4261-cf6f-ff8329ef683f"
      },
      "execution_count": null,
      "outputs": [
        {
          "output_type": "stream",
          "name": "stdout",
          "text": [
            "WARNING:tensorflow:Layer lstm_1 will not use cuDNN kernels since it doesn't meet the criteria. It will use a generic GPU kernel as fallback when running on GPU.\n"
          ]
        }
      ]
    },
    {
      "cell_type": "code",
      "source": [
        "model.summary()"
      ],
      "metadata": {
        "colab": {
          "base_uri": "https://localhost:8080/"
        },
        "id": "nnWZPA-rdtha",
        "outputId": "a513d144-e717-4ddd-c78b-0456fa5f62c7"
      },
      "execution_count": null,
      "outputs": [
        {
          "output_type": "stream",
          "name": "stdout",
          "text": [
            "Model: \"sequential\"\n",
            "_________________________________________________________________\n",
            " Layer (type)                Output Shape              Param #   \n",
            "=================================================================\n",
            " embedding (Embedding)       (None, 8921, 100)         5000000   \n",
            "                                                                 \n",
            " lstm (LSTM)                 (None, 8921, 32)          17024     \n",
            "                                                                 \n",
            " lstm_1 (LSTM)               (None, 32)                8320      \n",
            "                                                                 \n",
            " dense (Dense)               (None, 16)                528       \n",
            "                                                                 \n",
            " dense_1 (Dense)             (None, 16)                272       \n",
            "                                                                 \n",
            " dense_2 (Dense)             (None, 2)                 34        \n",
            "                                                                 \n",
            "=================================================================\n",
            "Total params: 5,026,178\n",
            "Trainable params: 5,026,178\n",
            "Non-trainable params: 0\n",
            "_________________________________________________________________\n"
          ]
        }
      ]
    },
    {
      "cell_type": "code",
      "source": [
        "callbacks = [\n",
        "  ReduceLROnPlateau(monitor = PLATEAU_MONITOR, patience = PATIENCE_LR, verbose = 2, factor = FACTOR, min_lr = MIN_LR),\n",
        "  EarlyStopping(patience = PATIENCE_ES, verbose = True)             \n",
        "]\n",
        "\n",
        "if not os.path.isfile(ROOTDIR + f'classificador_discurso_genero_{LEGISLATURA}.dat'):\n",
        "\n",
        "  history = model.fit(X_treino, Y_treino, batch_size = BATCH_SIZE, validation_split = VALIDATION_SPLIT_RATE, epochs = EPOCHS, callbacks = callbacks)\n",
        "\n",
        "  with open(ROOTDIR + f'classificador_discurso_genero_{LEGISLATURA}.dat', 'wb') as fp:\n",
        "    pickle.dump(model, fp)\n",
        "\n",
        "  df_history = pd.DataFrame(history.history)\n",
        "  df_history.to_json(ROOTDIR + f'data/history_classificador_discurso_genero_{LEGISLATURA}.json')\n",
        "\n",
        "else:\n",
        "\n",
        "  with open(ROOTDIR + f'classificador_discurso_genero_{LEGISLATURA}.dat', 'rb') as fp:\n",
        "    model = pickle.load(fp)\n",
        "\n",
        "  df_history = pd.read_json(ROOTDIR + f'data/history_classificador_discurso_genero_{LEGISLATURA}.json')"
      ],
      "metadata": {
        "colab": {
          "base_uri": "https://localhost:8080/"
        },
        "id": "eSSFFP2ndwCh",
        "outputId": "6ddc51f9-2622-484f-84bf-f165956893af"
      },
      "execution_count": null,
      "outputs": [
        {
          "output_type": "stream",
          "name": "stdout",
          "text": [
            "WARNING:tensorflow:Layer lstm_1 will not use cuDNN kernels since it doesn't meet the criteria. It will use a generic GPU kernel as fallback when running on GPU.\n"
          ]
        }
      ]
    },
    {
      "cell_type": "code",
      "source": [
        "ax = df_history[['val_loss', 'loss']].plot(figsize=(10, 5))\n",
        "df_history['lr'].plot(ax=ax.twinx(), color='gray')\n",
        "\n",
        "ax = df_history[['val_categorical_accuracy', 'categorical_accuracy']].plot(figsize=(10, 5))\n",
        "df_history['lr'].plot(ax=ax.twinx(), color='gray')\n",
        "\n",
        "print(\"Acuracia de treinamento: {:.2f} %\".format(model.evaluate(X_treino, Y_treino)[1]*100))\n",
        "print(\"Acuracia de teste: {:.2f} %\".format(model.evaluate(X_teste, Y_teste)[1]*100))"
      ],
      "metadata": {
        "id": "h-cQeFH0eNh5",
        "colab": {
          "base_uri": "https://localhost:8080/"
        },
        "outputId": "63b158d0-3040-44da-9eb1-b116b4103f76"
      },
      "execution_count": null,
      "outputs": [
        {
          "output_type": "stream",
          "name": "stdout",
          "text": [
            "633/633 [==============================] - 1419s 2s/step - loss: 0.0296 - categorical_accuracy: 0.9944 - categorical_crossentropy: 0.0296\n",
            "Acuracia de treinamento: 99.44 %\n",
            "159/159 [==============================] - 357s 2s/step - loss: 0.0295 - categorical_accuracy: 0.9943 - categorical_crossentropy: 0.0295\n",
            "Acuracia de teste: 99.43 %\n"
          ]
        },
        {
          "output_type": "display_data",
          "data": {
            "text/plain": [
              "<Figure size 720x360 with 2 Axes>"
            ],
            "image/png": "[encoded data removed]"
          },
          "metadata": {
            "needs_background": "light"
          }
        },
        {
          "output_type": "display_data",
          "data": {
            "text/plain": [
              "<Figure size 720x360 with 2 Axes>"
            ],
            "image/png": "[encoded data removed]"
          },
          "metadata": {
            "needs_background": "light"
          }
        }
      ]
    },
    {
      "cell_type": "code",
      "source": [
        "previsto = np.argmax(model.predict(X_teste[0:]), axis=1)"
      ],
      "metadata": {
        "id": "NYItrfSINYWr"
      },
      "execution_count": null,
      "outputs": []
    },
    {
      "cell_type": "code",
      "source": [
        "previsto"
      ],
      "metadata": {
        "id": "TXlheSehFjfx",
        "colab": {
          "base_uri": "https://localhost:8080/"
        },
        "outputId": "3b44decc-59dc-4baa-a4e4-bc2730f9b142"
      },
      "execution_count": null,
      "outputs": [
        {
          "output_type": "execute_result",
          "data": {
            "text/plain": [
              "array([1, 1, 1, ..., 0, 1, 1])"
            ]
          },
          "metadata": {},
          "execution_count": 24
        }
      ]
    },
    {
      "cell_type": "code",
      "source": [
        "real = np.argmax(Y_teste[0:], axis=1)"
      ],
      "metadata": {
        "id": "VOEpQb6eUFEy"
      },
      "execution_count": null,
      "outputs": []
    },
    {
      "cell_type": "code",
      "source": [
        "real"
      ],
      "metadata": {
        "id": "CDI42lIrUWZa",
        "colab": {
          "base_uri": "https://localhost:8080/"
        },
        "outputId": "78100889-3b79-4ece-d269-cde3dcff0d5e"
      },
      "execution_count": null,
      "outputs": [
        {
          "output_type": "execute_result",
          "data": {
            "text/plain": [
              "array([1, 1, 1, ..., 0, 1, 1])"
            ]
          },
          "metadata": {},
          "execution_count": 26
        }
      ]
    },
    {
      "cell_type": "code",
      "source": [
        "cm = confusion_matrix(real, previsto)\n",
        "labels = labeler.classes_\n",
        "cm = pd.DataFrame(cm, index = labels, columns = labels)\n",
        "\n",
        "plt.figure(figsize = (10, 10))\n",
        "sns.heatmap(cm, cmap= \"Oranges\", linecolor = 'black', linewidth = 1, annot = True, fmt='', xticklabels = labels, yticklabels = labels)\n",
        "plt.xlabel(\"Previsto\")\n",
        "plt.ylabel(\"Real\")\n",
        "plt.show()"
      ],
      "metadata": {
        "id": "dYb-GpiQUXvJ",
        "colab": {
          "base_uri": "https://localhost:8080/"
        },
        "outputId": "31308687-b83a-41d3-c082-bfdba8304802"
      },
      "execution_count": null,
      "outputs": [
        {
          "output_type": "display_data",
          "data": {
            "text/plain": [
              "<Figure size 720x720 with 2 Axes>"
            ],
            "image/png": "[encoded data removed]"
          },
          "metadata": {
            "needs_background": "light"
          }
        }
      ]
    }
  ]
}