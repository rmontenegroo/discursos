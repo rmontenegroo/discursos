{
  "nbformat": 4,
  "nbformat_minor": 0,
  "metadata": {
    "colab": {
      "name": "nlp_discursos_camara_extracao_e_analise.ipynb",
      "provenance": [],
      "collapsed_sections": [],
      "mount_file_id": "1TqEc69y_ENh9VdT4P2jyOeSe8N12vgUM",
      "authorship_tag": "ABX9TyO3E0yvgh6YZzH5XHdJZq64",
      "include_colab_link": true
    },
    "kernelspec": {
      "name": "python3",
      "display_name": "Python 3"
    },
    "language_info": {
      "name": "python"
    }
  },
  "cells": [
    {
      "cell_type": "markdown",
      "metadata": {
        "id": "view-in-github",
        "colab_type": "text"
      },
      "source": [
        "<a href=\"https://colab.research.google.com/github/rmontenegroo/discursos/blob/main/nlp_discursos_camara_extracao_e_analise.ipynb\" target=\"_parent\"><img src=\"https://colab.research.google.com/assets/colab-badge.svg\" alt=\"Open In Colab\"/></a>"
      ]
    },
    {
      "cell_type": "markdown",
      "source": [
        "# Módulos"
      ],
      "metadata": {
        "id": "HqYzKJAe3CAD"
      }
    },
    {
      "cell_type": "code",
      "source": [
        "import requests\n",
        "import json\n",
        "import os\n",
        "import base64\n",
        "import zlib\n",
        "\n",
        "import numpy as np\n",
        "import pandas as pd\n",
        "import seaborn as sns\n",
        "import matplotlib.pyplot as plt"
      ],
      "metadata": {
        "id": "Ga-E9Ygg092r"
      },
      "execution_count": null,
      "outputs": []
    },
    {
      "cell_type": "markdown",
      "source": [
        "# Parâmetros"
      ],
      "metadata": {
        "id": "4aRXJ6oM4qM5"
      }
    },
    {
      "cell_type": "code",
      "source": [
        "ROOTDIR = '/content/drive/MyDrive/Pós/discursos/'"
      ],
      "metadata": {
        "id": "-5d6wyOO4sJ5"
      },
      "execution_count": null,
      "outputs": []
    },
    {
      "cell_type": "markdown",
      "source": [
        "# Montando drive para salvar dados"
      ],
      "metadata": {
        "id": "pn3VNeCwMA10"
      }
    },
    {
      "cell_type": "code",
      "source": [
        "from google.colab import drive\n",
        "drive.mount('/content/drive')"
      ],
      "metadata": {
        "colab": {
          "base_uri": "https://localhost:8080/"
        },
        "id": "TYputICaBrLe",
        "outputId": "f9b5772f-83ae-468c-8ed6-c9bc175409f1"
      },
      "execution_count": null,
      "outputs": [
        {
          "output_type": "stream",
          "name": "stdout",
          "text": [
            "Drive already mounted at /content/drive; to attempt to forcibly remount, call drive.mount(\"/content/drive\", force_remount=True).\n"
          ]
        }
      ]
    },
    {
      "cell_type": "markdown",
      "source": [
        "# Extração dos dados"
      ],
      "metadata": {
        "id": "yC2kutKX3aQ7"
      }
    },
    {
      "cell_type": "markdown",
      "source": [
        "## Obtendo as legislaturas da câmara"
      ],
      "metadata": {
        "id": "iF77kPL93eXI"
      }
    },
    {
      "cell_type": "code",
      "source": [
        "legislaturas = pd.read_csv('https://dadosabertos.camara.leg.br/arquivos/legislaturas/csv/legislaturas.csv', index_col='idLegislatura', sep=';')"
      ],
      "metadata": {
        "id": "FytTIoy8ZV1j"
      },
      "execution_count": null,
      "outputs": []
    },
    {
      "cell_type": "code",
      "source": [
        "legislaturas"
      ],
      "metadata": {
        "colab": {
          "base_uri": "https://localhost:8080/",
          "height": 1000
        },
        "id": "be5Hgd-LZdjh",
        "outputId": "4472cec7-bdfe-4919-c90d-ad0f262bf637"
      },
      "execution_count": null,
      "outputs": [
        {
          "output_type": "execute_result",
          "data": {
            "text/plain": [
              "                                                             uri  dataInicio  \\\n",
              "idLegislatura                                                                  \n",
              "56             https://dadosabertos.camara.leg.br/api/v2/legi...  2019-02-01   \n",
              "55             https://dadosabertos.camara.leg.br/api/v2/legi...  2015-02-01   \n",
              "54             https://dadosabertos.camara.leg.br/api/v2/legi...  2011-02-01   \n",
              "53             https://dadosabertos.camara.leg.br/api/v2/legi...  2007-02-01   \n",
              "52             https://dadosabertos.camara.leg.br/api/v2/legi...  2003-02-01   \n",
              "51             https://dadosabertos.camara.leg.br/api/v2/legi...  1999-02-01   \n",
              "50             https://dadosabertos.camara.leg.br/api/v2/legi...  1995-02-01   \n",
              "49             https://dadosabertos.camara.leg.br/api/v2/legi...  1991-02-01   \n",
              "48             https://dadosabertos.camara.leg.br/api/v2/legi...  1987-02-01   \n",
              "47             https://dadosabertos.camara.leg.br/api/v2/legi...  1983-02-01   \n",
              "46             https://dadosabertos.camara.leg.br/api/v2/legi...  1979-02-01   \n",
              "45             https://dadosabertos.camara.leg.br/api/v2/legi...  1975-02-01   \n",
              "44             https://dadosabertos.camara.leg.br/api/v2/legi...  1971-02-01   \n",
              "43             https://dadosabertos.camara.leg.br/api/v2/legi...  1967-02-01   \n",
              "42             https://dadosabertos.camara.leg.br/api/v2/legi...  1963-02-01   \n",
              "41             https://dadosabertos.camara.leg.br/api/v2/legi...  1959-02-01   \n",
              "40             https://dadosabertos.camara.leg.br/api/v2/legi...  1955-02-01   \n",
              "39             https://dadosabertos.camara.leg.br/api/v2/legi...  1951-03-10   \n",
              "38             https://dadosabertos.camara.leg.br/api/v2/legi...  1946-09-23   \n",
              "37             https://dadosabertos.camara.leg.br/api/v2/legi...  1935-04-28   \n",
              "36             https://dadosabertos.camara.leg.br/api/v2/legi...  1934-07-21   \n",
              "35             https://dadosabertos.camara.leg.br/api/v2/legi...  1930-04-15   \n",
              "34             https://dadosabertos.camara.leg.br/api/v2/legi...  1927-04-15   \n",
              "33             https://dadosabertos.camara.leg.br/api/v2/legi...  1924-04-15   \n",
              "32             https://dadosabertos.camara.leg.br/api/v2/legi...  1921-04-15   \n",
              "31             https://dadosabertos.camara.leg.br/api/v2/legi...  1918-04-18   \n",
              "30             https://dadosabertos.camara.leg.br/api/v2/legi...  1915-04-03   \n",
              "29             https://dadosabertos.camara.leg.br/api/v2/legi...  1912-04-18   \n",
              "28             https://dadosabertos.camara.leg.br/api/v2/legi...  1909-04-18   \n",
              "27             https://dadosabertos.camara.leg.br/api/v2/legi...  1906-04-18   \n",
              "26             https://dadosabertos.camara.leg.br/api/v2/legi...  1903-04-18   \n",
              "25             https://dadosabertos.camara.leg.br/api/v2/legi...  1900-04-18   \n",
              "24             https://dadosabertos.camara.leg.br/api/v2/legi...  1897-04-18   \n",
              "23             https://dadosabertos.camara.leg.br/api/v2/legi...  1894-04-18   \n",
              "22             https://dadosabertos.camara.leg.br/api/v2/legi...  1891-06-10   \n",
              "21             https://dadosabertos.camara.leg.br/api/v2/legi...  1889-11-02   \n",
              "20             https://dadosabertos.camara.leg.br/api/v2/legi...  1886-04-15   \n",
              "19             https://dadosabertos.camara.leg.br/api/v2/legi...  1885-02-11   \n",
              "18             https://dadosabertos.camara.leg.br/api/v2/legi...  1881-12-13   \n",
              "17             https://dadosabertos.camara.leg.br/api/v2/legi...  1878-11-27   \n",
              "16             https://dadosabertos.camara.leg.br/api/v2/legi...  1876-12-13   \n",
              "15             https://dadosabertos.camara.leg.br/api/v2/legi...  1872-11-13   \n",
              "14             https://dadosabertos.camara.leg.br/api/v2/legi...  1869-04-15   \n",
              "13             https://dadosabertos.camara.leg.br/api/v2/legi...  1867-04-15   \n",
              "12             https://dadosabertos.camara.leg.br/api/v2/legi...  1863-12-14   \n",
              "11             https://dadosabertos.camara.leg.br/api/v2/legi...  1861-04-15   \n",
              "10             https://dadosabertos.camara.leg.br/api/v2/legi...  1857-04-15   \n",
              "9              https://dadosabertos.camara.leg.br/api/v2/legi...  1853-04-15   \n",
              "8              https://dadosabertos.camara.leg.br/api/v2/legi...  1849-12-15   \n",
              "7              https://dadosabertos.camara.leg.br/api/v2/legi...  1848-04-25   \n",
              "6              https://dadosabertos.camara.leg.br/api/v2/legi...  1844-12-24   \n",
              "5              https://dadosabertos.camara.leg.br/api/v2/legi...  1842-04-25   \n",
              "4              https://dadosabertos.camara.leg.br/api/v2/legi...  1838-04-25   \n",
              "3              https://dadosabertos.camara.leg.br/api/v2/legi...  1834-04-25   \n",
              "2              https://dadosabertos.camara.leg.br/api/v2/legi...  1830-04-25   \n",
              "1              https://dadosabertos.camara.leg.br/api/v2/legi...  1826-04-29   \n",
              "\n",
              "                  dataFim  anoEleicao  \n",
              "idLegislatura                          \n",
              "56             2023-01-31        2018  \n",
              "55             2019-01-31        2014  \n",
              "54             2015-01-31        2010  \n",
              "53             2011-01-31        2006  \n",
              "52             2007-01-31        2002  \n",
              "51             2003-01-31        1998  \n",
              "50             1999-01-31        1994  \n",
              "49             1995-01-31        1990  \n",
              "48             1991-01-31        1986  \n",
              "47             1987-01-31        1982  \n",
              "46             1983-01-31        1978  \n",
              "45             1979-01-31        1974  \n",
              "44             1975-01-31        1970  \n",
              "43             1971-01-31        1966  \n",
              "42             1967-01-31        1962  \n",
              "41             1963-01-31        1958  \n",
              "40             1959-01-31        1954  \n",
              "39             1955-01-31        1950  \n",
              "38             1951-03-09        1945  \n",
              "37             1937-11-10        1934  \n",
              "36             1935-04-27        1933  \n",
              "35             1930-11-11        1929  \n",
              "34             1930-04-14        1926  \n",
              "33             1927-04-14        1923  \n",
              "32             1924-04-14        1920  \n",
              "31             1921-04-14        1917  \n",
              "30             1918-04-17        1914  \n",
              "29             1915-04-02        1911  \n",
              "28             1912-04-17        1908  \n",
              "27             1909-04-17        1905  \n",
              "26             1906-04-17        1902  \n",
              "25             1903-04-17        1899  \n",
              "24             1900-04-17        1896  \n",
              "23             1897-04-17        1893  \n",
              "22             1894-04-17        1890  \n",
              "21             1889-11-15        1888  \n",
              "20             1889-06-15        1885  \n",
              "19             1885-09-26        1884  \n",
              "18             1884-09-03        1880  \n",
              "17             1881-06-30        1877  \n",
              "16             1878-04-11        1875  \n",
              "15             1876-11-12        1871  \n",
              "14             1872-05-22        1868  \n",
              "13             1868-07-18        1866  \n",
              "12             1867-04-14        1863  \n",
              "11             1863-05-12        1860  \n",
              "10             1861-04-14        1856  \n",
              "9              1857-04-14        1852  \n",
              "8              1853-04-14        1848  \n",
              "7              1849-02-19        1847  \n",
              "6              1848-04-24        1844  \n",
              "5              1844-05-24        1842  \n",
              "4              1842-04-24        1837  \n",
              "3              1838-04-24        1833  \n",
              "2              1834-04-24        1829  \n",
              "1              1830-04-24        1826  "
            ],
            "text/html": [
              "\n",
              "  <div id=\"df-175b72f1-64ab-4e9d-a79b-d0e6e93eb346\">\n",
              "    <div class=\"colab-df-container\">\n",
              "      <div>\n",
              "<style scoped>\n",
              "    .dataframe tbody tr th:only-of-type {\n",
              "        vertical-align: middle;\n",
              "    }\n",
              "\n",
              "    .dataframe tbody tr th {\n",
              "        vertical-align: top;\n",
              "    }\n",
              "\n",
              "    .dataframe thead th {\n",
              "        text-align: right;\n",
              "    }\n",
              "</style>\n",
              "<table border=\"1\" class=\"dataframe\">\n",
              "  <thead>\n",
              "    <tr style=\"text-align: right;\">\n",
              "      <th></th>\n",
              "      <th>uri</th>\n",
              "      <th>dataInicio</th>\n",
              "      <th>dataFim</th>\n",
              "      <th>anoEleicao</th>\n",
              "    </tr>\n",
              "    <tr>\n",
              "      <th>idLegislatura</th>\n",
              "      <th></th>\n",
              "      <th></th>\n",
              "      <th></th>\n",
              "      <th></th>\n",
              "    </tr>\n",
              "  </thead>\n",
              "  <tbody>\n",
              "    <tr>\n",
              "      <th>56</th>\n",
              "      <td>https://dadosabertos.camara.leg.br/api/v2/legi...</td>\n",
              "      <td>2019-02-01</td>\n",
              "      <td>2023-01-31</td>\n",
              "      <td>2018</td>\n",
              "    </tr>\n",
              "    <tr>\n",
              "      <th>55</th>\n",
              "      <td>https://dadosabertos.camara.leg.br/api/v2/legi...</td>\n",
              "      <td>2015-02-01</td>\n",
              "      <td>2019-01-31</td>\n",
              "      <td>2014</td>\n",
              "    </tr>\n",
              "    <tr>\n",
              "      <th>54</th>\n",
              "      <td>https://dadosabertos.camara.leg.br/api/v2/legi...</td>\n",
              "      <td>2011-02-01</td>\n",
              "      <td>2015-01-31</td>\n",
              "      <td>2010</td>\n",
              "    </tr>\n",
              "    <tr>\n",
              "      <th>53</th>\n",
              "      <td>https://dadosabertos.camara.leg.br/api/v2/legi...</td>\n",
              "      <td>2007-02-01</td>\n",
              "      <td>2011-01-31</td>\n",
              "      <td>2006</td>\n",
              "    </tr>\n",
              "    <tr>\n",
              "      <th>52</th>\n",
              "      <td>https://dadosabertos.camara.leg.br/api/v2/legi...</td>\n",
              "      <td>2003-02-01</td>\n",
              "      <td>2007-01-31</td>\n",
              "      <td>2002</td>\n",
              "    </tr>\n",
              "    <tr>\n",
              "      <th>51</th>\n",
              "      <td>https://dadosabertos.camara.leg.br/api/v2/legi...</td>\n",
              "      <td>1999-02-01</td>\n",
              "      <td>2003-01-31</td>\n",
              "      <td>1998</td>\n",
              "    </tr>\n",
              "    <tr>\n",
              "      <th>50</th>\n",
              "      <td>https://dadosabertos.camara.leg.br/api/v2/legi...</td>\n",
              "      <td>1995-02-01</td>\n",
              "      <td>1999-01-31</td>\n",
              "      <td>1994</td>\n",
              "    </tr>\n",
              "    <tr>\n",
              "      <th>49</th>\n",
              "      <td>https://dadosabertos.camara.leg.br/api/v2/legi...</td>\n",
              "      <td>1991-02-01</td>\n",
              "      <td>1995-01-31</td>\n",
              "      <td>1990</td>\n",
              "    </tr>\n",
              "    <tr>\n",
              "      <th>48</th>\n",
              "      <td>https://dadosabertos.camara.leg.br/api/v2/legi...</td>\n",
              "      <td>1987-02-01</td>\n",
              "      <td>1991-01-31</td>\n",
              "      <td>1986</td>\n",
              "    </tr>\n",
              "    <tr>\n",
              "      <th>47</th>\n",
              "      <td>https://dadosabertos.camara.leg.br/api/v2/legi...</td>\n",
              "      <td>1983-02-01</td>\n",
              "      <td>1987-01-31</td>\n",
              "      <td>1982</td>\n",
              "    </tr>\n",
              "    <tr>\n",
              "      <th>46</th>\n",
              "      <td>https://dadosabertos.camara.leg.br/api/v2/legi...</td>\n",
              "      <td>1979-02-01</td>\n",
              "      <td>1983-01-31</td>\n",
              "      <td>1978</td>\n",
              "    </tr>\n",
              "    <tr>\n",
              "      <th>45</th>\n",
              "      <td>https://dadosabertos.camara.leg.br/api/v2/legi...</td>\n",
              "      <td>1975-02-01</td>\n",
              "      <td>1979-01-31</td>\n",
              "      <td>1974</td>\n",
              "    </tr>\n",
              "    <tr>\n",
              "      <th>44</th>\n",
              "      <td>https://dadosabertos.camara.leg.br/api/v2/legi...</td>\n",
              "      <td>1971-02-01</td>\n",
              "      <td>1975-01-31</td>\n",
              "      <td>1970</td>\n",
              "    </tr>\n",
              "    <tr>\n",
              "      <th>43</th>\n",
              "      <td>https://dadosabertos.camara.leg.br/api/v2/legi...</td>\n",
              "      <td>1967-02-01</td>\n",
              "      <td>1971-01-31</td>\n",
              "      <td>1966</td>\n",
              "    </tr>\n",
              "    <tr>\n",
              "      <th>42</th>\n",
              "      <td>https://dadosabertos.camara.leg.br/api/v2/legi...</td>\n",
              "      <td>1963-02-01</td>\n",
              "      <td>1967-01-31</td>\n",
              "      <td>1962</td>\n",
              "    </tr>\n",
              "    <tr>\n",
              "      <th>41</th>\n",
              "      <td>https://dadosabertos.camara.leg.br/api/v2/legi...</td>\n",
              "      <td>1959-02-01</td>\n",
              "      <td>1963-01-31</td>\n",
              "      <td>1958</td>\n",
              "    </tr>\n",
              "    <tr>\n",
              "      <th>40</th>\n",
              "      <td>https://dadosabertos.camara.leg.br/api/v2/legi...</td>\n",
              "      <td>1955-02-01</td>\n",
              "      <td>1959-01-31</td>\n",
              "      <td>1954</td>\n",
              "    </tr>\n",
              "    <tr>\n",
              "      <th>39</th>\n",
              "      <td>https://dadosabertos.camara.leg.br/api/v2/legi...</td>\n",
              "      <td>1951-03-10</td>\n",
              "      <td>1955-01-31</td>\n",
              "      <td>1950</td>\n",
              "    </tr>\n",
              "    <tr>\n",
              "      <th>38</th>\n",
              "      <td>https://dadosabertos.camara.leg.br/api/v2/legi...</td>\n",
              "      <td>1946-09-23</td>\n",
              "      <td>1951-03-09</td>\n",
              "      <td>1945</td>\n",
              "    </tr>\n",
              "    <tr>\n",
              "      <th>37</th>\n",
              "      <td>https://dadosabertos.camara.leg.br/api/v2/legi...</td>\n",
              "      <td>1935-04-28</td>\n",
              "      <td>1937-11-10</td>\n",
              "      <td>1934</td>\n",
              "    </tr>\n",
              "    <tr>\n",
              "      <th>36</th>\n",
              "      <td>https://dadosabertos.camara.leg.br/api/v2/legi...</td>\n",
              "      <td>1934-07-21</td>\n",
              "      <td>1935-04-27</td>\n",
              "      <td>1933</td>\n",
              "    </tr>\n",
              "    <tr>\n",
              "      <th>35</th>\n",
              "      <td>https://dadosabertos.camara.leg.br/api/v2/legi...</td>\n",
              "      <td>1930-04-15</td>\n",
              "      <td>1930-11-11</td>\n",
              "      <td>1929</td>\n",
              "    </tr>\n",
              "    <tr>\n",
              "      <th>34</th>\n",
              "      <td>https://dadosabertos.camara.leg.br/api/v2/legi...</td>\n",
              "      <td>1927-04-15</td>\n",
              "      <td>1930-04-14</td>\n",
              "      <td>1926</td>\n",
              "    </tr>\n",
              "    <tr>\n",
              "      <th>33</th>\n",
              "      <td>https://dadosabertos.camara.leg.br/api/v2/legi...</td>\n",
              "      <td>1924-04-15</td>\n",
              "      <td>1927-04-14</td>\n",
              "      <td>1923</td>\n",
              "    </tr>\n",
              "    <tr>\n",
              "      <th>32</th>\n",
              "      <td>https://dadosabertos.camara.leg.br/api/v2/legi...</td>\n",
              "      <td>1921-04-15</td>\n",
              "      <td>1924-04-14</td>\n",
              "      <td>1920</td>\n",
              "    </tr>\n",
              "    <tr>\n",
              "      <th>31</th>\n",
              "      <td>https://dadosabertos.camara.leg.br/api/v2/legi...</td>\n",
              "      <td>1918-04-18</td>\n",
              "      <td>1921-04-14</td>\n",
              "      <td>1917</td>\n",
              "    </tr>\n",
              "    <tr>\n",
              "      <th>30</th>\n",
              "      <td>https://dadosabertos.camara.leg.br/api/v2/legi...</td>\n",
              "      <td>1915-04-03</td>\n",
              "      <td>1918-04-17</td>\n",
              "      <td>1914</td>\n",
              "    </tr>\n",
              "    <tr>\n",
              "      <th>29</th>\n",
              "      <td>https://dadosabertos.camara.leg.br/api/v2/legi...</td>\n",
              "      <td>1912-04-18</td>\n",
              "      <td>1915-04-02</td>\n",
              "      <td>1911</td>\n",
              "    </tr>\n",
              "    <tr>\n",
              "      <th>28</th>\n",
              "      <td>https://dadosabertos.camara.leg.br/api/v2/legi...</td>\n",
              "      <td>1909-04-18</td>\n",
              "      <td>1912-04-17</td>\n",
              "      <td>1908</td>\n",
              "    </tr>\n",
              "    <tr>\n",
              "      <th>27</th>\n",
              "      <td>https://dadosabertos.camara.leg.br/api/v2/legi...</td>\n",
              "      <td>1906-04-18</td>\n",
              "      <td>1909-04-17</td>\n",
              "      <td>1905</td>\n",
              "    </tr>\n",
              "    <tr>\n",
              "      <th>26</th>\n",
              "      <td>https://dadosabertos.camara.leg.br/api/v2/legi...</td>\n",
              "      <td>1903-04-18</td>\n",
              "      <td>1906-04-17</td>\n",
              "      <td>1902</td>\n",
              "    </tr>\n",
              "    <tr>\n",
              "      <th>25</th>\n",
              "      <td>https://dadosabertos.camara.leg.br/api/v2/legi...</td>\n",
              "      <td>1900-04-18</td>\n",
              "      <td>1903-04-17</td>\n",
              "      <td>1899</td>\n",
              "    </tr>\n",
              "    <tr>\n",
              "      <th>24</th>\n",
              "      <td>https://dadosabertos.camara.leg.br/api/v2/legi...</td>\n",
              "      <td>1897-04-18</td>\n",
              "      <td>1900-04-17</td>\n",
              "      <td>1896</td>\n",
              "    </tr>\n",
              "    <tr>\n",
              "      <th>23</th>\n",
              "      <td>https://dadosabertos.camara.leg.br/api/v2/legi...</td>\n",
              "      <td>1894-04-18</td>\n",
              "      <td>1897-04-17</td>\n",
              "      <td>1893</td>\n",
              "    </tr>\n",
              "    <tr>\n",
              "      <th>22</th>\n",
              "      <td>https://dadosabertos.camara.leg.br/api/v2/legi...</td>\n",
              "      <td>1891-06-10</td>\n",
              "      <td>1894-04-17</td>\n",
              "      <td>1890</td>\n",
              "    </tr>\n",
              "    <tr>\n",
              "      <th>21</th>\n",
              "      <td>https://dadosabertos.camara.leg.br/api/v2/legi...</td>\n",
              "      <td>1889-11-02</td>\n",
              "      <td>1889-11-15</td>\n",
              "      <td>1888</td>\n",
              "    </tr>\n",
              "    <tr>\n",
              "      <th>20</th>\n",
              "      <td>https://dadosabertos.camara.leg.br/api/v2/legi...</td>\n",
              "      <td>1886-04-15</td>\n",
              "      <td>1889-06-15</td>\n",
              "      <td>1885</td>\n",
              "    </tr>\n",
              "    <tr>\n",
              "      <th>19</th>\n",
              "      <td>https://dadosabertos.camara.leg.br/api/v2/legi...</td>\n",
              "      <td>1885-02-11</td>\n",
              "      <td>1885-09-26</td>\n",
              "      <td>1884</td>\n",
              "    </tr>\n",
              "    <tr>\n",
              "      <th>18</th>\n",
              "      <td>https://dadosabertos.camara.leg.br/api/v2/legi...</td>\n",
              "      <td>1881-12-13</td>\n",
              "      <td>1884-09-03</td>\n",
              "      <td>1880</td>\n",
              "    </tr>\n",
              "    <tr>\n",
              "      <th>17</th>\n",
              "      <td>https://dadosabertos.camara.leg.br/api/v2/legi...</td>\n",
              "      <td>1878-11-27</td>\n",
              "      <td>1881-06-30</td>\n",
              "      <td>1877</td>\n",
              "    </tr>\n",
              "    <tr>\n",
              "      <th>16</th>\n",
              "      <td>https://dadosabertos.camara.leg.br/api/v2/legi...</td>\n",
              "      <td>1876-12-13</td>\n",
              "      <td>1878-04-11</td>\n",
              "      <td>1875</td>\n",
              "    </tr>\n",
              "    <tr>\n",
              "      <th>15</th>\n",
              "      <td>https://dadosabertos.camara.leg.br/api/v2/legi...</td>\n",
              "      <td>1872-11-13</td>\n",
              "      <td>1876-11-12</td>\n",
              "      <td>1871</td>\n",
              "    </tr>\n",
              "    <tr>\n",
              "      <th>14</th>\n",
              "      <td>https://dadosabertos.camara.leg.br/api/v2/legi...</td>\n",
              "      <td>1869-04-15</td>\n",
              "      <td>1872-05-22</td>\n",
              "      <td>1868</td>\n",
              "    </tr>\n",
              "    <tr>\n",
              "      <th>13</th>\n",
              "      <td>https://dadosabertos.camara.leg.br/api/v2/legi...</td>\n",
              "      <td>1867-04-15</td>\n",
              "      <td>1868-07-18</td>\n",
              "      <td>1866</td>\n",
              "    </tr>\n",
              "    <tr>\n",
              "      <th>12</th>\n",
              "      <td>https://dadosabertos.camara.leg.br/api/v2/legi...</td>\n",
              "      <td>1863-12-14</td>\n",
              "      <td>1867-04-14</td>\n",
              "      <td>1863</td>\n",
              "    </tr>\n",
              "    <tr>\n",
              "      <th>11</th>\n",
              "      <td>https://dadosabertos.camara.leg.br/api/v2/legi...</td>\n",
              "      <td>1861-04-15</td>\n",
              "      <td>1863-05-12</td>\n",
              "      <td>1860</td>\n",
              "    </tr>\n",
              "    <tr>\n",
              "      <th>10</th>\n",
              "      <td>https://dadosabertos.camara.leg.br/api/v2/legi...</td>\n",
              "      <td>1857-04-15</td>\n",
              "      <td>1861-04-14</td>\n",
              "      <td>1856</td>\n",
              "    </tr>\n",
              "    <tr>\n",
              "      <th>9</th>\n",
              "      <td>https://dadosabertos.camara.leg.br/api/v2/legi...</td>\n",
              "      <td>1853-04-15</td>\n",
              "      <td>1857-04-14</td>\n",
              "      <td>1852</td>\n",
              "    </tr>\n",
              "    <tr>\n",
              "      <th>8</th>\n",
              "      <td>https://dadosabertos.camara.leg.br/api/v2/legi...</td>\n",
              "      <td>1849-12-15</td>\n",
              "      <td>1853-04-14</td>\n",
              "      <td>1848</td>\n",
              "    </tr>\n",
              "    <tr>\n",
              "      <th>7</th>\n",
              "      <td>https://dadosabertos.camara.leg.br/api/v2/legi...</td>\n",
              "      <td>1848-04-25</td>\n",
              "      <td>1849-02-19</td>\n",
              "      <td>1847</td>\n",
              "    </tr>\n",
              "    <tr>\n",
              "      <th>6</th>\n",
              "      <td>https://dadosabertos.camara.leg.br/api/v2/legi...</td>\n",
              "      <td>1844-12-24</td>\n",
              "      <td>1848-04-24</td>\n",
              "      <td>1844</td>\n",
              "    </tr>\n",
              "    <tr>\n",
              "      <th>5</th>\n",
              "      <td>https://dadosabertos.camara.leg.br/api/v2/legi...</td>\n",
              "      <td>1842-04-25</td>\n",
              "      <td>1844-05-24</td>\n",
              "      <td>1842</td>\n",
              "    </tr>\n",
              "    <tr>\n",
              "      <th>4</th>\n",
              "      <td>https://dadosabertos.camara.leg.br/api/v2/legi...</td>\n",
              "      <td>1838-04-25</td>\n",
              "      <td>1842-04-24</td>\n",
              "      <td>1837</td>\n",
              "    </tr>\n",
              "    <tr>\n",
              "      <th>3</th>\n",
              "      <td>https://dadosabertos.camara.leg.br/api/v2/legi...</td>\n",
              "      <td>1834-04-25</td>\n",
              "      <td>1838-04-24</td>\n",
              "      <td>1833</td>\n",
              "    </tr>\n",
              "    <tr>\n",
              "      <th>2</th>\n",
              "      <td>https://dadosabertos.camara.leg.br/api/v2/legi...</td>\n",
              "      <td>1830-04-25</td>\n",
              "      <td>1834-04-24</td>\n",
              "      <td>1829</td>\n",
              "    </tr>\n",
              "    <tr>\n",
              "      <th>1</th>\n",
              "      <td>https://dadosabertos.camara.leg.br/api/v2/legi...</td>\n",
              "      <td>1826-04-29</td>\n",
              "      <td>1830-04-24</td>\n",
              "      <td>1826</td>\n",
              "    </tr>\n",
              "  </tbody>\n",
              "</table>\n",
              "</div>\n",
              "      <button class=\"colab-df-convert\" onclick=\"convertToInteractive('df-175b72f1-64ab-4e9d-a79b-d0e6e93eb346')\"\n",
              "              title=\"Convert this dataframe to an interactive table.\"\n",
              "              style=\"display:none;\">\n",
              "        \n",
              "  <svg xmlns=\"http://www.w3.org/2000/svg\" height=\"24px\"viewBox=\"0 0 24 24\"\n",
              "       width=\"24px\">\n",
              "    <path d=\"M0 0h24v24H0V0z\" fill=\"none\"/>\n",
              "    <path d=\"M18.56 5.44l.94 2.06.94-2.06 2.06-.94-2.06-.94-.94-2.06-.94 2.06-2.06.94zm-11 1L8.5 8.5l.94-2.06 2.06-.94-2.06-.94L8.5 2.5l-.94 2.06-2.06.94zm10 10l.94 2.06.94-2.06 2.06-.94-2.06-.94-.94-2.06-.94 2.06-2.06.94z\"/><path d=\"M17.41 7.96l-1.37-1.37c-.4-.4-.92-.59-1.43-.59-.52 0-1.04.2-1.43.59L10.3 9.45l-7.72 7.72c-.78.78-.78 2.05 0 2.83L4 21.41c.39.39.9.59 1.41.59.51 0 1.02-.2 1.41-.59l7.78-7.78 2.81-2.81c.8-.78.8-2.07 0-2.86zM5.41 20L4 18.59l7.72-7.72 1.47 1.35L5.41 20z\"/>\n",
              "  </svg>\n",
              "      </button>\n",
              "      \n",
              "  <style>\n",
              "    .colab-df-container {\n",
              "      display:flex;\n",
              "      flex-wrap:wrap;\n",
              "      gap: 12px;\n",
              "    }\n",
              "\n",
              "    .colab-df-convert {\n",
              "      background-color: #E8F0FE;\n",
              "      border: none;\n",
              "      border-radius: 50%;\n",
              "      cursor: pointer;\n",
              "      display: none;\n",
              "      fill: #1967D2;\n",
              "      height: 32px;\n",
              "      padding: 0 0 0 0;\n",
              "      width: 32px;\n",
              "    }\n",
              "\n",
              "    .colab-df-convert:hover {\n",
              "      background-color: #E2EBFA;\n",
              "      box-shadow: 0px 1px 2px rgba(60, 64, 67, 0.3), 0px 1px 3px 1px rgba(60, 64, 67, 0.15);\n",
              "      fill: #174EA6;\n",
              "    }\n",
              "\n",
              "    [theme=dark] .colab-df-convert {\n",
              "      background-color: #3B4455;\n",
              "      fill: #D2E3FC;\n",
              "    }\n",
              "\n",
              "    [theme=dark] .colab-df-convert:hover {\n",
              "      background-color: #434B5C;\n",
              "      box-shadow: 0px 1px 3px 1px rgba(0, 0, 0, 0.15);\n",
              "      filter: drop-shadow(0px 1px 2px rgba(0, 0, 0, 0.3));\n",
              "      fill: #FFFFFF;\n",
              "    }\n",
              "  </style>\n",
              "\n",
              "      <script>\n",
              "        const buttonEl =\n",
              "          document.querySelector('#df-175b72f1-64ab-4e9d-a79b-d0e6e93eb346 button.colab-df-convert');\n",
              "        buttonEl.style.display =\n",
              "          google.colab.kernel.accessAllowed ? 'block' : 'none';\n",
              "\n",
              "        async function convertToInteractive(key) {\n",
              "          const element = document.querySelector('#df-175b72f1-64ab-4e9d-a79b-d0e6e93eb346');\n",
              "          const dataTable =\n",
              "            await google.colab.kernel.invokeFunction('convertToInteractive',\n",
              "                                                     [key], {});\n",
              "          if (!dataTable) return;\n",
              "\n",
              "          const docLinkHtml = 'Like what you see? Visit the ' +\n",
              "            '<a target=\"_blank\" href=https://colab.research.google.com/notebooks/data_table.ipynb>data table notebook</a>'\n",
              "            + ' to learn more about interactive tables.';\n",
              "          element.innerHTML = '';\n",
              "          dataTable['output_type'] = 'display_data';\n",
              "          await google.colab.output.renderOutput(dataTable, element);\n",
              "          const docLink = document.createElement('div');\n",
              "          docLink.innerHTML = docLinkHtml;\n",
              "          element.appendChild(docLink);\n",
              "        }\n",
              "      </script>\n",
              "    </div>\n",
              "  </div>\n",
              "  "
            ]
          },
          "metadata": {},
          "execution_count": 5
        }
      ]
    },
    {
      "cell_type": "markdown",
      "source": [
        "## Obtendo os IDs dos deputados das legislaturas"
      ],
      "metadata": {
        "id": "zHLss8_L8mcD"
      }
    },
    {
      "cell_type": "code",
      "source": [
        "deputados = pd.read_csv('https://dadosabertos.camara.leg.br/arquivos/deputados/csv/deputados.csv', sep=';')"
      ],
      "metadata": {
        "id": "xGcEeBhMaFlU"
      },
      "execution_count": null,
      "outputs": []
    },
    {
      "cell_type": "code",
      "source": [
        "deputados['idDeputado'] = deputados.uri.map(lambda u: int(u.split('/')[-1]))"
      ],
      "metadata": {
        "id": "IAnnnlR8cqJQ"
      },
      "execution_count": null,
      "outputs": []
    },
    {
      "cell_type": "code",
      "source": [
        "deputados = deputados.set_index('idDeputado')"
      ],
      "metadata": {
        "id": "FR6BxNrzdlNI"
      },
      "execution_count": null,
      "outputs": []
    },
    {
      "cell_type": "code",
      "source": [
        "deputados.tail(10)"
      ],
      "metadata": {
        "colab": {
          "base_uri": "https://localhost:8080/",
          "height": 823
        },
        "id": "F5vn8hRv8xm2",
        "outputId": "9aa5dca3-fd23-41c9-f5ce-71dbb5583751"
      },
      "execution_count": null,
      "outputs": [
        {
          "output_type": "execute_result",
          "data": {
            "text/plain": [
              "                                                          uri  \\\n",
              "idDeputado                                                      \n",
              "217480      https://dadosabertos.camara.leg.br/api/v2/depu...   \n",
              "218086      https://dadosabertos.camara.leg.br/api/v2/depu...   \n",
              "218245      https://dadosabertos.camara.leg.br/api/v2/depu...   \n",
              "218741      https://dadosabertos.camara.leg.br/api/v2/depu...   \n",
              "218879      https://dadosabertos.camara.leg.br/api/v2/depu...   \n",
              "219413      https://dadosabertos.camara.leg.br/api/v2/depu...   \n",
              "219568      https://dadosabertos.camara.leg.br/api/v2/depu...   \n",
              "219585      https://dadosabertos.camara.leg.br/api/v2/depu...   \n",
              "219592      https://dadosabertos.camara.leg.br/api/v2/depu...   \n",
              "219599      https://dadosabertos.camara.leg.br/api/v2/depu...   \n",
              "\n",
              "                          nome  idLegislaturaInicial  idLegislaturaFinal  \\\n",
              "idDeputado                                                                 \n",
              "217480             Jones Moura                    56                  56   \n",
              "218086              Ely Santos                    56                  56   \n",
              "218245               Jorielson                    56                  56   \n",
              "218741        Patrick Dorneles                    56                  56   \n",
              "218879           Nelho Bezerra                    56                  56   \n",
              "219413               Guimarães                    14                  14   \n",
              "219568           Tiago Andrino                    56                  56   \n",
              "219585            Marco Brasil                    56                  56   \n",
              "219592          Lucas Follador                    56                  56   \n",
              "219599      Sargento Alexandre                    56                  56   \n",
              "\n",
              "                                  nomeCivil  cpf siglaSexo  \\\n",
              "idDeputado                                                   \n",
              "217480               JONES BARBOSA DE MOURA  NaN         M   \n",
              "218086        ELIANE DE SOUSA ALVES MACHADO  NaN         F   \n",
              "218245           JORIELSON BRITO NASCIMENTO  NaN         M   \n",
              "218741      PATRICK TEIXEIRA DORNELES PIRES  NaN         M   \n",
              "218879              FRANCISCO NELHO BEZERRA  NaN         M   \n",
              "219413             MANOEL PEREIRA GUIMARÃES  NaN         M   \n",
              "219568               TIAGO DE PAULA ANDRINO  NaN         M   \n",
              "219585                MARCO AURELIO RIBEIRO  NaN         M   \n",
              "219592                       LUCAS FOLLADOR  NaN         M   \n",
              "219599            FRANCISCO ALEXANDRE FILHO  NaN         M   \n",
              "\n",
              "                                                urlRedeSocial urlWebsite  \\\n",
              "idDeputado                                                                 \n",
              "217480                      ascomvereadorjonesmoura@gmail.com        NaN   \n",
              "218086      https://pt-br.facebook.com/oficialelysantos/, ...        NaN   \n",
              "218245      jorielson.jbn@gmail.com,  Jorielson.Sandra,  j...        NaN   \n",
              "218741                                   patricktdp@gmail.com        NaN   \n",
              "218879                                                    NaN        NaN   \n",
              "219413                                                    NaN        NaN   \n",
              "219568                                   andrinoadv@gmail.com        NaN   \n",
              "219585                                eumarcobrasil@gmail.com        NaN   \n",
              "219592                                                    NaN        NaN   \n",
              "219599                                  alexft072@hotmail.com        NaN   \n",
              "\n",
              "           dataNascimento dataFalecimento ufNascimento municipioNascimento  \n",
              "idDeputado                                                                  \n",
              "217480         1974-06-16             NaN           RJ      Rio de Janeiro  \n",
              "218086         1977-01-13             NaN           SP           São Paulo  \n",
              "218245         1980-07-11             NaN           AP              Macapá  \n",
              "218741         1997-03-30             NaN           RS        Porto Alegre  \n",
              "218879         1970-04-20             NaN           CE              Iguatu  \n",
              "219413                NaN             NaN          NaN                 NaN  \n",
              "219568         1980-12-14             NaN           MG             Itajubá  \n",
              "219585         1966-01-28             NaN           SP             Dracena  \n",
              "219592         1986-07-29             NaN           RO                 NaN  \n",
              "219599         1969-11-08             NaN           PE                 NaN  "
            ],
            "text/html": [
              "\n",
              "  <div id=\"df-002f1c3c-cead-4a87-9dbe-8dd4d9da771c\">\n",
              "    <div class=\"colab-df-container\">\n",
              "      <div>\n",
              "<style scoped>\n",
              "    .dataframe tbody tr th:only-of-type {\n",
              "        vertical-align: middle;\n",
              "    }\n",
              "\n",
              "    .dataframe tbody tr th {\n",
              "        vertical-align: top;\n",
              "    }\n",
              "\n",
              "    .dataframe thead th {\n",
              "        text-align: right;\n",
              "    }\n",
              "</style>\n",
              "<table border=\"1\" class=\"dataframe\">\n",
              "  <thead>\n",
              "    <tr style=\"text-align: right;\">\n",
              "      <th></th>\n",
              "      <th>uri</th>\n",
              "      <th>nome</th>\n",
              "      <th>idLegislaturaInicial</th>\n",
              "      <th>idLegislaturaFinal</th>\n",
              "      <th>nomeCivil</th>\n",
              "      <th>cpf</th>\n",
              "      <th>siglaSexo</th>\n",
              "      <th>urlRedeSocial</th>\n",
              "      <th>urlWebsite</th>\n",
              "      <th>dataNascimento</th>\n",
              "      <th>dataFalecimento</th>\n",
              "      <th>ufNascimento</th>\n",
              "      <th>municipioNascimento</th>\n",
              "    </tr>\n",
              "    <tr>\n",
              "      <th>idDeputado</th>\n",
              "      <th></th>\n",
              "      <th></th>\n",
              "      <th></th>\n",
              "      <th></th>\n",
              "      <th></th>\n",
              "      <th></th>\n",
              "      <th></th>\n",
              "      <th></th>\n",
              "      <th></th>\n",
              "      <th></th>\n",
              "      <th></th>\n",
              "      <th></th>\n",
              "      <th></th>\n",
              "    </tr>\n",
              "  </thead>\n",
              "  <tbody>\n",
              "    <tr>\n",
              "      <th>217480</th>\n",
              "      <td>https://dadosabertos.camara.leg.br/api/v2/depu...</td>\n",
              "      <td>Jones Moura</td>\n",
              "      <td>56</td>\n",
              "      <td>56</td>\n",
              "      <td>JONES BARBOSA DE MOURA</td>\n",
              "      <td>NaN</td>\n",
              "      <td>M</td>\n",
              "      <td>ascomvereadorjonesmoura@gmail.com</td>\n",
              "      <td>NaN</td>\n",
              "      <td>1974-06-16</td>\n",
              "      <td>NaN</td>\n",
              "      <td>RJ</td>\n",
              "      <td>Rio de Janeiro</td>\n",
              "    </tr>\n",
              "    <tr>\n",
              "      <th>218086</th>\n",
              "      <td>https://dadosabertos.camara.leg.br/api/v2/depu...</td>\n",
              "      <td>Ely Santos</td>\n",
              "      <td>56</td>\n",
              "      <td>56</td>\n",
              "      <td>ELIANE DE SOUSA ALVES MACHADO</td>\n",
              "      <td>NaN</td>\n",
              "      <td>F</td>\n",
              "      <td>https://pt-br.facebook.com/oficialelysantos/, ...</td>\n",
              "      <td>NaN</td>\n",
              "      <td>1977-01-13</td>\n",
              "      <td>NaN</td>\n",
              "      <td>SP</td>\n",
              "      <td>São Paulo</td>\n",
              "    </tr>\n",
              "    <tr>\n",
              "      <th>218245</th>\n",
              "      <td>https://dadosabertos.camara.leg.br/api/v2/depu...</td>\n",
              "      <td>Jorielson</td>\n",
              "      <td>56</td>\n",
              "      <td>56</td>\n",
              "      <td>JORIELSON BRITO NASCIMENTO</td>\n",
              "      <td>NaN</td>\n",
              "      <td>M</td>\n",
              "      <td>jorielson.jbn@gmail.com,  Jorielson.Sandra,  j...</td>\n",
              "      <td>NaN</td>\n",
              "      <td>1980-07-11</td>\n",
              "      <td>NaN</td>\n",
              "      <td>AP</td>\n",
              "      <td>Macapá</td>\n",
              "    </tr>\n",
              "    <tr>\n",
              "      <th>218741</th>\n",
              "      <td>https://dadosabertos.camara.leg.br/api/v2/depu...</td>\n",
              "      <td>Patrick Dorneles</td>\n",
              "      <td>56</td>\n",
              "      <td>56</td>\n",
              "      <td>PATRICK TEIXEIRA DORNELES PIRES</td>\n",
              "      <td>NaN</td>\n",
              "      <td>M</td>\n",
              "      <td>patricktdp@gmail.com</td>\n",
              "      <td>NaN</td>\n",
              "      <td>1997-03-30</td>\n",
              "      <td>NaN</td>\n",
              "      <td>RS</td>\n",
              "      <td>Porto Alegre</td>\n",
              "    </tr>\n",
              "    <tr>\n",
              "      <th>218879</th>\n",
              "      <td>https://dadosabertos.camara.leg.br/api/v2/depu...</td>\n",
              "      <td>Nelho Bezerra</td>\n",
              "      <td>56</td>\n",
              "      <td>56</td>\n",
              "      <td>FRANCISCO NELHO BEZERRA</td>\n",
              "      <td>NaN</td>\n",
              "      <td>M</td>\n",
              "      <td>NaN</td>\n",
              "      <td>NaN</td>\n",
              "      <td>1970-04-20</td>\n",
              "      <td>NaN</td>\n",
              "      <td>CE</td>\n",
              "      <td>Iguatu</td>\n",
              "    </tr>\n",
              "    <tr>\n",
              "      <th>219413</th>\n",
              "      <td>https://dadosabertos.camara.leg.br/api/v2/depu...</td>\n",
              "      <td>Guimarães</td>\n",
              "      <td>14</td>\n",
              "      <td>14</td>\n",
              "      <td>MANOEL PEREIRA GUIMARÃES</td>\n",
              "      <td>NaN</td>\n",
              "      <td>M</td>\n",
              "      <td>NaN</td>\n",
              "      <td>NaN</td>\n",
              "      <td>NaN</td>\n",
              "      <td>NaN</td>\n",
              "      <td>NaN</td>\n",
              "      <td>NaN</td>\n",
              "    </tr>\n",
              "    <tr>\n",
              "      <th>219568</th>\n",
              "      <td>https://dadosabertos.camara.leg.br/api/v2/depu...</td>\n",
              "      <td>Tiago Andrino</td>\n",
              "      <td>56</td>\n",
              "      <td>56</td>\n",
              "      <td>TIAGO DE PAULA ANDRINO</td>\n",
              "      <td>NaN</td>\n",
              "      <td>M</td>\n",
              "      <td>andrinoadv@gmail.com</td>\n",
              "      <td>NaN</td>\n",
              "      <td>1980-12-14</td>\n",
              "      <td>NaN</td>\n",
              "      <td>MG</td>\n",
              "      <td>Itajubá</td>\n",
              "    </tr>\n",
              "    <tr>\n",
              "      <th>219585</th>\n",
              "      <td>https://dadosabertos.camara.leg.br/api/v2/depu...</td>\n",
              "      <td>Marco Brasil</td>\n",
              "      <td>56</td>\n",
              "      <td>56</td>\n",
              "      <td>MARCO AURELIO RIBEIRO</td>\n",
              "      <td>NaN</td>\n",
              "      <td>M</td>\n",
              "      <td>eumarcobrasil@gmail.com</td>\n",
              "      <td>NaN</td>\n",
              "      <td>1966-01-28</td>\n",
              "      <td>NaN</td>\n",
              "      <td>SP</td>\n",
              "      <td>Dracena</td>\n",
              "    </tr>\n",
              "    <tr>\n",
              "      <th>219592</th>\n",
              "      <td>https://dadosabertos.camara.leg.br/api/v2/depu...</td>\n",
              "      <td>Lucas Follador</td>\n",
              "      <td>56</td>\n",
              "      <td>56</td>\n",
              "      <td>LUCAS FOLLADOR</td>\n",
              "      <td>NaN</td>\n",
              "      <td>M</td>\n",
              "      <td>NaN</td>\n",
              "      <td>NaN</td>\n",
              "      <td>1986-07-29</td>\n",
              "      <td>NaN</td>\n",
              "      <td>RO</td>\n",
              "      <td>NaN</td>\n",
              "    </tr>\n",
              "    <tr>\n",
              "      <th>219599</th>\n",
              "      <td>https://dadosabertos.camara.leg.br/api/v2/depu...</td>\n",
              "      <td>Sargento Alexandre</td>\n",
              "      <td>56</td>\n",
              "      <td>56</td>\n",
              "      <td>FRANCISCO ALEXANDRE FILHO</td>\n",
              "      <td>NaN</td>\n",
              "      <td>M</td>\n",
              "      <td>alexft072@hotmail.com</td>\n",
              "      <td>NaN</td>\n",
              "      <td>1969-11-08</td>\n",
              "      <td>NaN</td>\n",
              "      <td>PE</td>\n",
              "      <td>NaN</td>\n",
              "    </tr>\n",
              "  </tbody>\n",
              "</table>\n",
              "</div>\n",
              "      <button class=\"colab-df-convert\" onclick=\"convertToInteractive('df-002f1c3c-cead-4a87-9dbe-8dd4d9da771c')\"\n",
              "              title=\"Convert this dataframe to an interactive table.\"\n",
              "              style=\"display:none;\">\n",
              "        \n",
              "  <svg xmlns=\"http://www.w3.org/2000/svg\" height=\"24px\"viewBox=\"0 0 24 24\"\n",
              "       width=\"24px\">\n",
              "    <path d=\"M0 0h24v24H0V0z\" fill=\"none\"/>\n",
              "    <path d=\"M18.56 5.44l.94 2.06.94-2.06 2.06-.94-2.06-.94-.94-2.06-.94 2.06-2.06.94zm-11 1L8.5 8.5l.94-2.06 2.06-.94-2.06-.94L8.5 2.5l-.94 2.06-2.06.94zm10 10l.94 2.06.94-2.06 2.06-.94-2.06-.94-.94-2.06-.94 2.06-2.06.94z\"/><path d=\"M17.41 7.96l-1.37-1.37c-.4-.4-.92-.59-1.43-.59-.52 0-1.04.2-1.43.59L10.3 9.45l-7.72 7.72c-.78.78-.78 2.05 0 2.83L4 21.41c.39.39.9.59 1.41.59.51 0 1.02-.2 1.41-.59l7.78-7.78 2.81-2.81c.8-.78.8-2.07 0-2.86zM5.41 20L4 18.59l7.72-7.72 1.47 1.35L5.41 20z\"/>\n",
              "  </svg>\n",
              "      </button>\n",
              "      \n",
              "  <style>\n",
              "    .colab-df-container {\n",
              "      display:flex;\n",
              "      flex-wrap:wrap;\n",
              "      gap: 12px;\n",
              "    }\n",
              "\n",
              "    .colab-df-convert {\n",
              "      background-color: #E8F0FE;\n",
              "      border: none;\n",
              "      border-radius: 50%;\n",
              "      cursor: pointer;\n",
              "      display: none;\n",
              "      fill: #1967D2;\n",
              "      height: 32px;\n",
              "      padding: 0 0 0 0;\n",
              "      width: 32px;\n",
              "    }\n",
              "\n",
              "    .colab-df-convert:hover {\n",
              "      background-color: #E2EBFA;\n",
              "      box-shadow: 0px 1px 2px rgba(60, 64, 67, 0.3), 0px 1px 3px 1px rgba(60, 64, 67, 0.15);\n",
              "      fill: #174EA6;\n",
              "    }\n",
              "\n",
              "    [theme=dark] .colab-df-convert {\n",
              "      background-color: #3B4455;\n",
              "      fill: #D2E3FC;\n",
              "    }\n",
              "\n",
              "    [theme=dark] .colab-df-convert:hover {\n",
              "      background-color: #434B5C;\n",
              "      box-shadow: 0px 1px 3px 1px rgba(0, 0, 0, 0.15);\n",
              "      filter: drop-shadow(0px 1px 2px rgba(0, 0, 0, 0.3));\n",
              "      fill: #FFFFFF;\n",
              "    }\n",
              "  </style>\n",
              "\n",
              "      <script>\n",
              "        const buttonEl =\n",
              "          document.querySelector('#df-002f1c3c-cead-4a87-9dbe-8dd4d9da771c button.colab-df-convert');\n",
              "        buttonEl.style.display =\n",
              "          google.colab.kernel.accessAllowed ? 'block' : 'none';\n",
              "\n",
              "        async function convertToInteractive(key) {\n",
              "          const element = document.querySelector('#df-002f1c3c-cead-4a87-9dbe-8dd4d9da771c');\n",
              "          const dataTable =\n",
              "            await google.colab.kernel.invokeFunction('convertToInteractive',\n",
              "                                                     [key], {});\n",
              "          if (!dataTable) return;\n",
              "\n",
              "          const docLinkHtml = 'Like what you see? Visit the ' +\n",
              "            '<a target=\"_blank\" href=https://colab.research.google.com/notebooks/data_table.ipynb>data table notebook</a>'\n",
              "            + ' to learn more about interactive tables.';\n",
              "          element.innerHTML = '';\n",
              "          dataTable['output_type'] = 'display_data';\n",
              "          await google.colab.output.renderOutput(dataTable, element);\n",
              "          const docLink = document.createElement('div');\n",
              "          docLink.innerHTML = docLinkHtml;\n",
              "          element.appendChild(docLink);\n",
              "        }\n",
              "      </script>\n",
              "    </div>\n",
              "  </div>\n",
              "  "
            ]
          },
          "metadata": {},
          "execution_count": 9
        }
      ]
    },
    {
      "cell_type": "markdown",
      "source": [
        "## Obtendo os discursos dos deputados\n"
      ],
      "metadata": {
        "id": "vareajsY9PCb"
      }
    },
    {
      "cell_type": "code",
      "source": [
        "def downloadDiscurso(deputado, legislaturas=[]):\n",
        "\n",
        "    discursos = pd.DataFrame()\n",
        "\n",
        "    deputado_id, deputado = deputado\n",
        "\n",
        "    if not discursos.empty and deputado_id in discursos.idDeputado.values:\n",
        "      return True\n",
        "\n",
        "    deputado = dict(deputado)\n",
        "    deputado.update({'idDeputado': deputado_id})\n",
        "    idDeputado = deputado['idDeputado']\n",
        "\n",
        "    if not legislaturas:\n",
        "      legislaturas = range(deputado['idLegislaturaInicial'], deputado['idLegislaturaFinal']+1)\n",
        "\n",
        "    for idLegislatura in legislaturas:\n",
        "      urlRequest = f'https://dadosabertos.camara.leg.br/api/v2/deputados/{idDeputado}/discursos?idLegislatura={idLegislatura}&ordenarPor=dataHoraInicio&ordem=ASC'\n",
        "\n",
        "      while urlRequest:\n",
        "        payLoad = requests.get(urlRequest).json()       \n",
        "        dados = payLoad.get('dados', [])\n",
        "\n",
        "        for discurso in dados:\n",
        "          discurso = discurso.get('transcricao', '').strip()\n",
        "    \n",
        "          if discurso:\n",
        "            registro = {'idDeputado': idDeputado, 'idLegislatura': idLegislatura, 'discurso_zipped_b64': base64.b64encode(zlib.compress(discurso.encode()))}\n",
        "            discursos = pd.concat((discursos, pd.DataFrame(registro, index=[0])))\n",
        "\n",
        "        links = payLoad.get('links', [])\n",
        "\n",
        "        urlRequest = ''        \n",
        "\n",
        "        for link in links:\n",
        "          if link.get('rel', '') == 'next':\n",
        "            urlRequest = link.get('href')\n",
        "            break\n",
        "\n",
        "    return discursos"
      ],
      "metadata": {
        "id": "cahsqXPw8HVQ"
      },
      "execution_count": null,
      "outputs": []
    },
    {
      "cell_type": "code",
      "source": [
        "#### so pego legislaturas de 1998 em diante pois as anteriores\n",
        "#### não possuem transcrições dos discursos até a data de criação\n",
        "#### deste trabalho\n",
        "for legislatura in legislaturas.iloc[legislaturas.index >= 51].index.sort_values().values:\n",
        "\n",
        "  if not os.path.isfile(ROOTDIR + f'data/discursos_{legislatura}.json'):\n",
        "\n",
        "    print('Iniciando legislatura:', legislatura)\n",
        "\n",
        "    discursos_ = pd.DataFrame()\n",
        "\n",
        "    deputados_arr = deputados[deputados.idLegislaturaFinal == legislatura]\n",
        "\n",
        "    for d, deputado in enumerate(deputados_arr.iterrows()):\n",
        "        discursos_ = pd.concat(\n",
        "            ( discursos_, downloadDiscurso(deputado, legislaturas=[legislatura,]) )\n",
        "        )\n",
        "\n",
        "    if not discursos_.empty:\n",
        "      discursos_.reset_index(drop=True, inplace=True)\n",
        "      discursos_.to_json(ROOTDIR + f'data/discursos_{legislatura}.json')\n",
        "\n",
        "    print('Finalizada legislatura.')"
      ],
      "metadata": {
        "id": "gfDJqt2Tc91P"
      },
      "execution_count": null,
      "outputs": []
    },
    {
      "cell_type": "code",
      "source": [
        "discursos = pd.DataFrame()\n",
        "\n",
        "for legislatura in legislaturas.iloc[legislaturas.index >= 51].index.sort_values().values:\n",
        "\n",
        "  discursos = pd.concat(\n",
        "            ( discursos, pd.read_json(ROOTDIR + f'data/discursos_{legislatura}.json') )\n",
        "  )\n",
        "\n",
        "discursos = discursos.reset_index(drop=True)\n",
        "discursos['original'] = discursos.discurso_zipped_b64.map(lambda i: zlib.decompress(base64.b64decode(i)).decode())\n",
        "discursos = discursos.drop(columns=['discurso_zipped_b64'])"
      ],
      "metadata": {
        "id": "GSU3pYxHxffl"
      },
      "execution_count": null,
      "outputs": []
    },
    {
      "cell_type": "code",
      "source": [
        "discursos"
      ],
      "metadata": {
        "id": "BMMX_pV-zO-L",
        "colab": {
          "base_uri": "https://localhost:8080/",
          "height": 424
        },
        "outputId": "2ba366e4-8708-4f40-9a61-bf0f56d99163"
      },
      "execution_count": null,
      "outputs": [
        {
          "output_type": "execute_result",
          "data": {
            "text/plain": [
              "        idDeputado  idLegislatura  \\\n",
              "0            65498             51   \n",
              "1            65498             51   \n",
              "2            65498             51   \n",
              "3            65498             51   \n",
              "4            65498             51   \n",
              "...            ...            ...   \n",
              "189915      218879             56   \n",
              "189916      218879             56   \n",
              "189917      218879             56   \n",
              "189918      218879             56   \n",
              "189919      218879             56   \n",
              "\n",
              "                                                 original  \n",
              "0       A SRA. LÚCIA VÂNIA (PSDB-GO. Como Líder. Pronu...  \n",
              "1       A SRA. LÚCIA VÂNIA (PSDB-GO. Pronuncia o segui...  \n",
              "2       A SRA. LÚCIA VÂNIA (Bloco/PSDB-GO. Pronuncia o...  \n",
              "3       A SRª LÚCIA VÂNIA (PSDB – GO. Pronuncia o segu...  \n",
              "4       A SRA LÚCIA VÂNIA (PSDB-GO. Pronuncia o seguin...  \n",
              "...                                                   ...  \n",
              "189915  O SR. NELHO BEZERRA (PROS - CE. Sem revisão do...  \n",
              "189916  O SR. NELHO BEZERRA (PROS - CE. Pela ordem. Se...  \n",
              "189917  O SR. NELHO BEZERRA (PROS - CE. Sem revisão do...  \n",
              "189918  O SR. NELHO BEZERRA (PROS - CE. Sem revisão do...  \n",
              "189919  O SR. NELHO BEZERRA (UNIÃO - CE. Pela ordem. S...  \n",
              "\n",
              "[189920 rows x 3 columns]"
            ],
            "text/html": [
              "\n",
              "  <div id=\"df-7fde355e-6a7c-4918-addd-75da1d9f6fe9\">\n",
              "    <div class=\"colab-df-container\">\n",
              "      <div>\n",
              "<style scoped>\n",
              "    .dataframe tbody tr th:only-of-type {\n",
              "        vertical-align: middle;\n",
              "    }\n",
              "\n",
              "    .dataframe tbody tr th {\n",
              "        vertical-align: top;\n",
              "    }\n",
              "\n",
              "    .dataframe thead th {\n",
              "        text-align: right;\n",
              "    }\n",
              "</style>\n",
              "<table border=\"1\" class=\"dataframe\">\n",
              "  <thead>\n",
              "    <tr style=\"text-align: right;\">\n",
              "      <th></th>\n",
              "      <th>idDeputado</th>\n",
              "      <th>idLegislatura</th>\n",
              "      <th>original</th>\n",
              "    </tr>\n",
              "  </thead>\n",
              "  <tbody>\n",
              "    <tr>\n",
              "      <th>0</th>\n",
              "      <td>65498</td>\n",
              "      <td>51</td>\n",
              "      <td>A SRA. LÚCIA VÂNIA (PSDB-GO. Como Líder. Pronu...</td>\n",
              "    </tr>\n",
              "    <tr>\n",
              "      <th>1</th>\n",
              "      <td>65498</td>\n",
              "      <td>51</td>\n",
              "      <td>A SRA. LÚCIA VÂNIA (PSDB-GO. Pronuncia o segui...</td>\n",
              "    </tr>\n",
              "    <tr>\n",
              "      <th>2</th>\n",
              "      <td>65498</td>\n",
              "      <td>51</td>\n",
              "      <td>A SRA. LÚCIA VÂNIA (Bloco/PSDB-GO. Pronuncia o...</td>\n",
              "    </tr>\n",
              "    <tr>\n",
              "      <th>3</th>\n",
              "      <td>65498</td>\n",
              "      <td>51</td>\n",
              "      <td>A SRª LÚCIA VÂNIA (PSDB – GO. Pronuncia o segu...</td>\n",
              "    </tr>\n",
              "    <tr>\n",
              "      <th>4</th>\n",
              "      <td>65498</td>\n",
              "      <td>51</td>\n",
              "      <td>A SRA LÚCIA VÂNIA (PSDB-GO. Pronuncia o seguin...</td>\n",
              "    </tr>\n",
              "    <tr>\n",
              "      <th>...</th>\n",
              "      <td>...</td>\n",
              "      <td>...</td>\n",
              "      <td>...</td>\n",
              "    </tr>\n",
              "    <tr>\n",
              "      <th>189915</th>\n",
              "      <td>218879</td>\n",
              "      <td>56</td>\n",
              "      <td>O SR. NELHO BEZERRA (PROS - CE. Sem revisão do...</td>\n",
              "    </tr>\n",
              "    <tr>\n",
              "      <th>189916</th>\n",
              "      <td>218879</td>\n",
              "      <td>56</td>\n",
              "      <td>O SR. NELHO BEZERRA (PROS - CE. Pela ordem. Se...</td>\n",
              "    </tr>\n",
              "    <tr>\n",
              "      <th>189917</th>\n",
              "      <td>218879</td>\n",
              "      <td>56</td>\n",
              "      <td>O SR. NELHO BEZERRA (PROS - CE. Sem revisão do...</td>\n",
              "    </tr>\n",
              "    <tr>\n",
              "      <th>189918</th>\n",
              "      <td>218879</td>\n",
              "      <td>56</td>\n",
              "      <td>O SR. NELHO BEZERRA (PROS - CE. Sem revisão do...</td>\n",
              "    </tr>\n",
              "    <tr>\n",
              "      <th>189919</th>\n",
              "      <td>218879</td>\n",
              "      <td>56</td>\n",
              "      <td>O SR. NELHO BEZERRA (UNIÃO - CE. Pela ordem. S...</td>\n",
              "    </tr>\n",
              "  </tbody>\n",
              "</table>\n",
              "<p>189920 rows × 3 columns</p>\n",
              "</div>\n",
              "      <button class=\"colab-df-convert\" onclick=\"convertToInteractive('df-7fde355e-6a7c-4918-addd-75da1d9f6fe9')\"\n",
              "              title=\"Convert this dataframe to an interactive table.\"\n",
              "              style=\"display:none;\">\n",
              "        \n",
              "  <svg xmlns=\"http://www.w3.org/2000/svg\" height=\"24px\"viewBox=\"0 0 24 24\"\n",
              "       width=\"24px\">\n",
              "    <path d=\"M0 0h24v24H0V0z\" fill=\"none\"/>\n",
              "    <path d=\"M18.56 5.44l.94 2.06.94-2.06 2.06-.94-2.06-.94-.94-2.06-.94 2.06-2.06.94zm-11 1L8.5 8.5l.94-2.06 2.06-.94-2.06-.94L8.5 2.5l-.94 2.06-2.06.94zm10 10l.94 2.06.94-2.06 2.06-.94-2.06-.94-.94-2.06-.94 2.06-2.06.94z\"/><path d=\"M17.41 7.96l-1.37-1.37c-.4-.4-.92-.59-1.43-.59-.52 0-1.04.2-1.43.59L10.3 9.45l-7.72 7.72c-.78.78-.78 2.05 0 2.83L4 21.41c.39.39.9.59 1.41.59.51 0 1.02-.2 1.41-.59l7.78-7.78 2.81-2.81c.8-.78.8-2.07 0-2.86zM5.41 20L4 18.59l7.72-7.72 1.47 1.35L5.41 20z\"/>\n",
              "  </svg>\n",
              "      </button>\n",
              "      \n",
              "  <style>\n",
              "    .colab-df-container {\n",
              "      display:flex;\n",
              "      flex-wrap:wrap;\n",
              "      gap: 12px;\n",
              "    }\n",
              "\n",
              "    .colab-df-convert {\n",
              "      background-color: #E8F0FE;\n",
              "      border: none;\n",
              "      border-radius: 50%;\n",
              "      cursor: pointer;\n",
              "      display: none;\n",
              "      fill: #1967D2;\n",
              "      height: 32px;\n",
              "      padding: 0 0 0 0;\n",
              "      width: 32px;\n",
              "    }\n",
              "\n",
              "    .colab-df-convert:hover {\n",
              "      background-color: #E2EBFA;\n",
              "      box-shadow: 0px 1px 2px rgba(60, 64, 67, 0.3), 0px 1px 3px 1px rgba(60, 64, 67, 0.15);\n",
              "      fill: #174EA6;\n",
              "    }\n",
              "\n",
              "    [theme=dark] .colab-df-convert {\n",
              "      background-color: #3B4455;\n",
              "      fill: #D2E3FC;\n",
              "    }\n",
              "\n",
              "    [theme=dark] .colab-df-convert:hover {\n",
              "      background-color: #434B5C;\n",
              "      box-shadow: 0px 1px 3px 1px rgba(0, 0, 0, 0.15);\n",
              "      filter: drop-shadow(0px 1px 2px rgba(0, 0, 0, 0.3));\n",
              "      fill: #FFFFFF;\n",
              "    }\n",
              "  </style>\n",
              "\n",
              "      <script>\n",
              "        const buttonEl =\n",
              "          document.querySelector('#df-7fde355e-6a7c-4918-addd-75da1d9f6fe9 button.colab-df-convert');\n",
              "        buttonEl.style.display =\n",
              "          google.colab.kernel.accessAllowed ? 'block' : 'none';\n",
              "\n",
              "        async function convertToInteractive(key) {\n",
              "          const element = document.querySelector('#df-7fde355e-6a7c-4918-addd-75da1d9f6fe9');\n",
              "          const dataTable =\n",
              "            await google.colab.kernel.invokeFunction('convertToInteractive',\n",
              "                                                     [key], {});\n",
              "          if (!dataTable) return;\n",
              "\n",
              "          const docLinkHtml = 'Like what you see? Visit the ' +\n",
              "            '<a target=\"_blank\" href=https://colab.research.google.com/notebooks/data_table.ipynb>data table notebook</a>'\n",
              "            + ' to learn more about interactive tables.';\n",
              "          element.innerHTML = '';\n",
              "          dataTable['output_type'] = 'display_data';\n",
              "          await google.colab.output.renderOutput(dataTable, element);\n",
              "          const docLink = document.createElement('div');\n",
              "          docLink.innerHTML = docLinkHtml;\n",
              "          element.appendChild(docLink);\n",
              "        }\n",
              "      </script>\n",
              "    </div>\n",
              "  </div>\n",
              "  "
            ]
          },
          "metadata": {},
          "execution_count": 26
        }
      ]
    },
    {
      "cell_type": "markdown",
      "source": [
        "## Obtendo os dados dos deputados"
      ],
      "metadata": {
        "id": "0cc_D5Ikvjv2"
      }
    },
    {
      "cell_type": "code",
      "source": [
        "def downloadDetalheDeputado(deputado):\n",
        "\n",
        "    urlRequest = deputado[1].uri\n",
        "\n",
        "    payLoad = requests.get(urlRequest).json()       \n",
        "    dados = payLoad.get('dados', {})\n",
        "\n",
        "    if dados:\n",
        "      dados = {\n",
        "          'idDeputado': deputado[0],\n",
        "          'nomeCivil': dados['nomeCivil'],\n",
        "          'siglaPartido': dados['ultimoStatus']['siglaPartido'],\n",
        "          'sexo': dados['sexo'],\n",
        "          'escolaridade': dados['escolaridade']\n",
        "      }\n",
        "\n",
        "    else:\n",
        "      \n",
        "      dados = {\n",
        "          'idDeputado': deputado[0],\n",
        "          'nomeCivil': None,\n",
        "          'siglaPartido': None,\n",
        "          'sexo': None,\n",
        "          'escolaridade': None\n",
        "      }\n",
        "\n",
        "    return pd.DataFrame(dados, index=[0])\n",
        "\n",
        "detalhes = pd.DataFrame()\n",
        "\n",
        "for legislatura in legislaturas.iloc[legislaturas.index >= 51].index.sort_values().values:\n",
        "\n",
        "  if not os.path.isfile(ROOTDIR + 'data/detalhes_deputados.json'):\n",
        "\n",
        "    print('Iniciando legislatura:', legislatura)\n",
        "\n",
        "    for deputado in deputados[deputados.idLegislaturaFinal == legislatura].iterrows():\n",
        "        detalhes = pd.concat(\n",
        "            ( detalhes, downloadDetalheDeputado(deputado) )\n",
        "        )\n",
        "\n",
        "    print('Finalizada legislatura.')\n",
        "\n",
        "if not detalhes.empty:\n",
        "  detalhes.set_index(['idDeputado'], inplace=True)"
      ],
      "metadata": {
        "id": "tr8lTeswvm3V"
      },
      "execution_count": null,
      "outputs": []
    },
    {
      "cell_type": "code",
      "source": [
        "detalhes = pd.read_json(ROOTDIR + 'data/detalhes_deputados.json')"
      ],
      "metadata": {
        "id": "8YzW6tlQ6w9J"
      },
      "execution_count": null,
      "outputs": []
    },
    {
      "cell_type": "code",
      "source": [
        "detalhes"
      ],
      "metadata": {
        "colab": {
          "base_uri": "https://localhost:8080/",
          "height": 424
        },
        "id": "zB2uvqIL7UHd",
        "outputId": "48bbb3c2-4759-411f-aaf1-0d259c8d200b"
      },
      "execution_count": null,
      "outputs": [
        {
          "output_type": "execute_result",
          "data": {
            "text/plain": [
              "                                  nomeCivil  siglaPartido sexo  \\\n",
              "65498               LÚCIA VÂNIA ABRÃO COSTA          PSDB    F   \n",
              "65904    MAURÍLIO FIGUEIRA DE FERREIRA LIMA          PMDB    M   \n",
              "72553   GESSIVALDO ISAIAS DE CARVALHO SILVA          PMDB    M   \n",
              "73422                          RUBEM MEDINA           PFL    M   \n",
              "73432                        ANTONIO KANDIR          PSDB    M   \n",
              "...                                     ...           ...  ...   \n",
              "217480               JONES BARBOSA DE MOURA           PSD    M   \n",
              "218086        ELIANE DE SOUSA ALVES MACHADO  REPUBLICANOS    F   \n",
              "218245           JORIELSON BRITO NASCIMENTO            PL    M   \n",
              "218741      PATRICK TEIXEIRA DORNELES PIRES           PSD    M   \n",
              "218879              FRANCISCO NELHO BEZERRA         UNIÃO    M   \n",
              "\n",
              "               escolaridade        espectro  \n",
              "65498              Superior  centro-direita  \n",
              "65904              Superior          centro  \n",
              "72553   Superior Incompleto          centro  \n",
              "73422              Superior  centro-direita  \n",
              "73432              Superior  centro-direita  \n",
              "...                     ...             ...  \n",
              "217480        Não informado          centro  \n",
              "218086        Não informado         direita  \n",
              "218245             Superior         direita  \n",
              "218741        Não informado          centro  \n",
              "218879        Não informado            None  \n",
              "\n",
              "[2021 rows x 5 columns]"
            ],
            "text/html": [
              "\n",
              "  <div id=\"df-b784234a-23c9-4cdb-a056-2c504555f00c\">\n",
              "    <div class=\"colab-df-container\">\n",
              "      <div>\n",
              "<style scoped>\n",
              "    .dataframe tbody tr th:only-of-type {\n",
              "        vertical-align: middle;\n",
              "    }\n",
              "\n",
              "    .dataframe tbody tr th {\n",
              "        vertical-align: top;\n",
              "    }\n",
              "\n",
              "    .dataframe thead th {\n",
              "        text-align: right;\n",
              "    }\n",
              "</style>\n",
              "<table border=\"1\" class=\"dataframe\">\n",
              "  <thead>\n",
              "    <tr style=\"text-align: right;\">\n",
              "      <th></th>\n",
              "      <th>nomeCivil</th>\n",
              "      <th>siglaPartido</th>\n",
              "      <th>sexo</th>\n",
              "      <th>escolaridade</th>\n",
              "      <th>espectro</th>\n",
              "    </tr>\n",
              "  </thead>\n",
              "  <tbody>\n",
              "    <tr>\n",
              "      <th>65498</th>\n",
              "      <td>LÚCIA VÂNIA ABRÃO COSTA</td>\n",
              "      <td>PSDB</td>\n",
              "      <td>F</td>\n",
              "      <td>Superior</td>\n",
              "      <td>centro-direita</td>\n",
              "    </tr>\n",
              "    <tr>\n",
              "      <th>65904</th>\n",
              "      <td>MAURÍLIO FIGUEIRA DE FERREIRA LIMA</td>\n",
              "      <td>PMDB</td>\n",
              "      <td>M</td>\n",
              "      <td>Superior</td>\n",
              "      <td>centro</td>\n",
              "    </tr>\n",
              "    <tr>\n",
              "      <th>72553</th>\n",
              "      <td>GESSIVALDO ISAIAS DE CARVALHO SILVA</td>\n",
              "      <td>PMDB</td>\n",
              "      <td>M</td>\n",
              "      <td>Superior Incompleto</td>\n",
              "      <td>centro</td>\n",
              "    </tr>\n",
              "    <tr>\n",
              "      <th>73422</th>\n",
              "      <td>RUBEM MEDINA</td>\n",
              "      <td>PFL</td>\n",
              "      <td>M</td>\n",
              "      <td>Superior</td>\n",
              "      <td>centro-direita</td>\n",
              "    </tr>\n",
              "    <tr>\n",
              "      <th>73432</th>\n",
              "      <td>ANTONIO KANDIR</td>\n",
              "      <td>PSDB</td>\n",
              "      <td>M</td>\n",
              "      <td>Superior</td>\n",
              "      <td>centro-direita</td>\n",
              "    </tr>\n",
              "    <tr>\n",
              "      <th>...</th>\n",
              "      <td>...</td>\n",
              "      <td>...</td>\n",
              "      <td>...</td>\n",
              "      <td>...</td>\n",
              "      <td>...</td>\n",
              "    </tr>\n",
              "    <tr>\n",
              "      <th>217480</th>\n",
              "      <td>JONES BARBOSA DE MOURA</td>\n",
              "      <td>PSD</td>\n",
              "      <td>M</td>\n",
              "      <td>Não informado</td>\n",
              "      <td>centro</td>\n",
              "    </tr>\n",
              "    <tr>\n",
              "      <th>218086</th>\n",
              "      <td>ELIANE DE SOUSA ALVES MACHADO</td>\n",
              "      <td>REPUBLICANOS</td>\n",
              "      <td>F</td>\n",
              "      <td>Não informado</td>\n",
              "      <td>direita</td>\n",
              "    </tr>\n",
              "    <tr>\n",
              "      <th>218245</th>\n",
              "      <td>JORIELSON BRITO NASCIMENTO</td>\n",
              "      <td>PL</td>\n",
              "      <td>M</td>\n",
              "      <td>Superior</td>\n",
              "      <td>direita</td>\n",
              "    </tr>\n",
              "    <tr>\n",
              "      <th>218741</th>\n",
              "      <td>PATRICK TEIXEIRA DORNELES PIRES</td>\n",
              "      <td>PSD</td>\n",
              "      <td>M</td>\n",
              "      <td>Não informado</td>\n",
              "      <td>centro</td>\n",
              "    </tr>\n",
              "    <tr>\n",
              "      <th>218879</th>\n",
              "      <td>FRANCISCO NELHO BEZERRA</td>\n",
              "      <td>UNIÃO</td>\n",
              "      <td>M</td>\n",
              "      <td>Não informado</td>\n",
              "      <td>None</td>\n",
              "    </tr>\n",
              "  </tbody>\n",
              "</table>\n",
              "<p>2021 rows × 5 columns</p>\n",
              "</div>\n",
              "      <button class=\"colab-df-convert\" onclick=\"convertToInteractive('df-b784234a-23c9-4cdb-a056-2c504555f00c')\"\n",
              "              title=\"Convert this dataframe to an interactive table.\"\n",
              "              style=\"display:none;\">\n",
              "        \n",
              "  <svg xmlns=\"http://www.w3.org/2000/svg\" height=\"24px\"viewBox=\"0 0 24 24\"\n",
              "       width=\"24px\">\n",
              "    <path d=\"M0 0h24v24H0V0z\" fill=\"none\"/>\n",
              "    <path d=\"M18.56 5.44l.94 2.06.94-2.06 2.06-.94-2.06-.94-.94-2.06-.94 2.06-2.06.94zm-11 1L8.5 8.5l.94-2.06 2.06-.94-2.06-.94L8.5 2.5l-.94 2.06-2.06.94zm10 10l.94 2.06.94-2.06 2.06-.94-2.06-.94-.94-2.06-.94 2.06-2.06.94z\"/><path d=\"M17.41 7.96l-1.37-1.37c-.4-.4-.92-.59-1.43-.59-.52 0-1.04.2-1.43.59L10.3 9.45l-7.72 7.72c-.78.78-.78 2.05 0 2.83L4 21.41c.39.39.9.59 1.41.59.51 0 1.02-.2 1.41-.59l7.78-7.78 2.81-2.81c.8-.78.8-2.07 0-2.86zM5.41 20L4 18.59l7.72-7.72 1.47 1.35L5.41 20z\"/>\n",
              "  </svg>\n",
              "      </button>\n",
              "      \n",
              "  <style>\n",
              "    .colab-df-container {\n",
              "      display:flex;\n",
              "      flex-wrap:wrap;\n",
              "      gap: 12px;\n",
              "    }\n",
              "\n",
              "    .colab-df-convert {\n",
              "      background-color: #E8F0FE;\n",
              "      border: none;\n",
              "      border-radius: 50%;\n",
              "      cursor: pointer;\n",
              "      display: none;\n",
              "      fill: #1967D2;\n",
              "      height: 32px;\n",
              "      padding: 0 0 0 0;\n",
              "      width: 32px;\n",
              "    }\n",
              "\n",
              "    .colab-df-convert:hover {\n",
              "      background-color: #E2EBFA;\n",
              "      box-shadow: 0px 1px 2px rgba(60, 64, 67, 0.3), 0px 1px 3px 1px rgba(60, 64, 67, 0.15);\n",
              "      fill: #174EA6;\n",
              "    }\n",
              "\n",
              "    [theme=dark] .colab-df-convert {\n",
              "      background-color: #3B4455;\n",
              "      fill: #D2E3FC;\n",
              "    }\n",
              "\n",
              "    [theme=dark] .colab-df-convert:hover {\n",
              "      background-color: #434B5C;\n",
              "      box-shadow: 0px 1px 3px 1px rgba(0, 0, 0, 0.15);\n",
              "      filter: drop-shadow(0px 1px 2px rgba(0, 0, 0, 0.3));\n",
              "      fill: #FFFFFF;\n",
              "    }\n",
              "  </style>\n",
              "\n",
              "      <script>\n",
              "        const buttonEl =\n",
              "          document.querySelector('#df-b784234a-23c9-4cdb-a056-2c504555f00c button.colab-df-convert');\n",
              "        buttonEl.style.display =\n",
              "          google.colab.kernel.accessAllowed ? 'block' : 'none';\n",
              "\n",
              "        async function convertToInteractive(key) {\n",
              "          const element = document.querySelector('#df-b784234a-23c9-4cdb-a056-2c504555f00c');\n",
              "          const dataTable =\n",
              "            await google.colab.kernel.invokeFunction('convertToInteractive',\n",
              "                                                     [key], {});\n",
              "          if (!dataTable) return;\n",
              "\n",
              "          const docLinkHtml = 'Like what you see? Visit the ' +\n",
              "            '<a target=\"_blank\" href=https://colab.research.google.com/notebooks/data_table.ipynb>data table notebook</a>'\n",
              "            + ' to learn more about interactive tables.';\n",
              "          element.innerHTML = '';\n",
              "          dataTable['output_type'] = 'display_data';\n",
              "          await google.colab.output.renderOutput(dataTable, element);\n",
              "          const docLink = document.createElement('div');\n",
              "          docLink.innerHTML = docLinkHtml;\n",
              "          element.appendChild(docLink);\n",
              "        }\n",
              "      </script>\n",
              "    </div>\n",
              "  </div>\n",
              "  "
            ]
          },
          "metadata": {},
          "execution_count": 29
        }
      ]
    },
    {
      "cell_type": "markdown",
      "source": [
        "## Adicionar espectro político de acordo com o partido"
      ],
      "metadata": {
        "id": "fIhUXXJhpMKV"
      }
    },
    {
      "cell_type": "code",
      "source": [
        "def siglaPartidoFix(p):\n",
        "  tab = {\n",
        "    'PP**': 'PP',\n",
        "    'PL*': 'PL',\n",
        "    'SDD': 'SOLIDARIEDADE',\n",
        "    'REDE': 'SOLIDARIEDADE',\n",
        "    'PATRI': 'PATRIOTA',\n",
        "    'MDB': 'PMDB',\n",
        "  }\n",
        "\n",
        "  if p in tab:\n",
        "    return tab[p]\n",
        "\n",
        "  return p"
      ],
      "metadata": {
        "id": "SWcXd1O_-P8L"
      },
      "execution_count": null,
      "outputs": []
    },
    {
      "cell_type": "code",
      "source": [
        "if not detalhes.empty: \n",
        "  detalhes.siglaPartido = detalhes.siglaPartido.map(siglaPartidoFix)\n",
        "  print(detalhes.siglaPartido.value_counts())"
      ],
      "metadata": {
        "id": "VtYioV2hbho4",
        "colab": {
          "base_uri": "https://localhost:8080/"
        },
        "outputId": "f72e82f1-cd37-4624-b46a-cecffc1bb768"
      },
      "execution_count": null,
      "outputs": [
        {
          "output_type": "stream",
          "name": "stdout",
          "text": [
            "PT               251\n",
            "PMDB             249\n",
            "PSDB             208\n",
            "PP               161\n",
            "PSB              104\n",
            "PSD              100\n",
            "PL                95\n",
            "PTB               83\n",
            "PR                79\n",
            "PDT               76\n",
            "PFL               72\n",
            "DEM               70\n",
            "UNIÃO             60\n",
            "REPUBLICANOS      53\n",
            "PSC               39\n",
            "PCdoB             37\n",
            "PPS               31\n",
            "PV                29\n",
            "SOLIDARIEDADE     27\n",
            "PROS              25\n",
            "PODE              24\n",
            "PRB               22\n",
            "PSOL              17\n",
            "PPB               16\n",
            "S.PART.           14\n",
            "AVANTE            12\n",
            "PATRIOTA           9\n",
            "PHS                9\n",
            "PSL                9\n",
            "NOVO               8\n",
            "CIDADANIA          7\n",
            "PMN                5\n",
            "PST                4\n",
            "PTC                4\n",
            "PRP                3\n",
            "PTdoB              2\n",
            "PRTB               2\n",
            "PTN                2\n",
            "PSDC               2\n",
            "PEN                1\n",
            "Name: siglaPartido, dtype: int64\n"
          ]
        }
      ]
    },
    {
      "cell_type": "code",
      "source": [
        "# referências: \n",
        "# - https://pt.wikipedia.org/\n",
        "# - https://congressoemfoco.uol.com.br/area/governo/exclusivo-os-12-partidos-que-formam-a-base-fiel-do-governo-na-camara/\n",
        "# extraído em 20.01.2022\n",
        "\n",
        "espectro_politico = {\n",
        "    'PT': 'esquerda',\n",
        "    'PSL': 'extrema-direita',\n",
        "    'PL': 'direita',\n",
        "    'PL*': 'direita',\n",
        "    'PP': 'direita',\n",
        "    'PP**': 'direita',\n",
        "    'PRP': 'centro-direita',\n",
        "    'PPB': 'direita',\n",
        "    'PFL': 'centro-direita', \n",
        "    'PSD': 'centro',\n",
        "    'PSDB': 'centro-direita',\n",
        "    'PMDB': 'centro',\n",
        "    'MDB': 'centro',\n",
        "    'PHS': 'centro-direita',\n",
        "    'PTC': 'centro',\n",
        "    'PST': 'centro-esquerda',\n",
        "    'REPUBLICANOS': 'direita',\n",
        "    'PRB': 'direita',\n",
        "    'PSB': 'esquerda',\n",
        "    'PSDC': 'centro-direita',\n",
        "    'DEM': 'centro-direita',\n",
        "    'PDT': 'esquerda',\n",
        "    'PODE': 'centro',\n",
        "    'SOLIDARIEDADE': 'centro-esquerda',\n",
        "    'SDD': 'centro-esquerda',\n",
        "    'PR': 'direita',\n",
        "    'PROS': 'centro',\n",
        "    'PTN': 'direita',\n",
        "    'PEN': 'direita',\n",
        "    'PSC': 'extrema-direita',\n",
        "    'PTB': 'extrema-direita',\n",
        "    'PRTB': 'extrema-direita',\n",
        "    'PSOL': 'extrema-esquerda',\n",
        "    'PCdoB': 'esquerda',\n",
        "    'PMN': 'centro',\n",
        "    'CIDADANIA': 'centro-esquerda',\n",
        "    'AVANTE': 'centro',\n",
        "    'NOVO': 'direita',\n",
        "    'PATRIOTA': 'direita',\n",
        "    'PATRI': 'direita',\n",
        "    'PV': 'centro-esquerda',\n",
        "    'REDE': 'centro-esquerda',\n",
        "    'S.PART.': 'indefinido',\n",
        "    'PPS': 'centro-esquerda',\n",
        "    'PTdoB': 'direita',\n",
        "    'UNIÃO': 'centro-direita'\n",
        "}\n",
        "\n",
        "if not detalhes.empty: \n",
        "  detalhes['espectro'] = detalhes.siglaPartido.map(lambda sp: espectro_politico.get(sp))"
      ],
      "metadata": {
        "id": "SLiJ-HRAmtWz"
      },
      "execution_count": null,
      "outputs": []
    },
    {
      "cell_type": "code",
      "source": [
        "if not detalhes.empty:\n",
        "  print(detalhes.espectro.value_counts())"
      ],
      "metadata": {
        "id": "qS-Gq7jFpXTu",
        "colab": {
          "base_uri": "https://localhost:8080/"
        },
        "outputId": "2163108c-cfec-4bd1-a100-4583995bca55"
      },
      "execution_count": null,
      "outputs": [
        {
          "output_type": "stream",
          "name": "stdout",
          "text": [
            "esquerda            468\n",
            "direita             448\n",
            "centro-direita      424\n",
            "centro              419\n",
            "extrema-direita     133\n",
            "centro-esquerda      98\n",
            "extrema-esquerda     17\n",
            "indefinido           14\n",
            "Name: espectro, dtype: int64\n"
          ]
        }
      ]
    },
    {
      "cell_type": "markdown",
      "source": [
        "## Escolaridade"
      ],
      "metadata": {
        "id": "XJxthYAcpdpl"
      }
    },
    {
      "cell_type": "code",
      "source": [
        "if not detalhes.empty: \n",
        "  print(detalhes.escolaridade.value_counts())"
      ],
      "metadata": {
        "id": "BQoKRPtzpghp",
        "colab": {
          "base_uri": "https://localhost:8080/"
        },
        "outputId": "deb45351-6b9b-4571-85cd-1fd7b1f4ed23"
      },
      "execution_count": null,
      "outputs": [
        {
          "output_type": "stream",
          "name": "stdout",
          "text": [
            "Superior                           1361\n",
            "Ensino Médio                        169\n",
            "Superior Incompleto                 167\n",
            "Pós-Graduação                       142\n",
            "Mestrado                             61\n",
            "Não informado                        33\n",
            "Doutorado                            30\n",
            "Ensino Fundamental 2                 19\n",
            "Ensino Fundamental 1                 12\n",
            "Mestrado Incompleto                   9\n",
            "Ensino Médio Incompleto               8\n",
            "Doutorado Incompleto                  6\n",
            "Ensino Fundamental 1 Incompleto       4\n",
            "Name: escolaridade, dtype: int64\n"
          ]
        }
      ]
    },
    {
      "cell_type": "code",
      "source": [
        "def escolaridadeFix(e):\n",
        "\n",
        "  tab = { \n",
        "    'Ensino Fundamental': 'Ensino Fundamental 2',\n",
        "    'Secundário': 'Ensino Médio',\n",
        "    'Ensino Técnico': 'Ensino Médio',\n",
        "    'Primário Incompleto': 'Ensino Fundamental 1 Incompleto',\n",
        "    'Secundário Incompleto': 'Ensino Médio Incompleto',\n",
        "    'Primário': 'Ensino Fundamental 1',\n",
        "    'Ginasial': 'Ensino Fundamental 2',\n",
        "    'Ginasial Incompleto': 'Ensino Fundamental 2 Incompleto',\n",
        "    None : 'Não informado'\n",
        "  }\n",
        "\n",
        "  if e in tab:\n",
        "    return tab.get(e)\n",
        "  \n",
        "  return e\n",
        "\n",
        "if not detalhes.empty:\n",
        "  detalhes.escolaridade = detalhes.escolaridade.map(escolaridadeFix)\n",
        "  print(detalhes.escolaridade.value_counts())"
      ],
      "metadata": {
        "id": "7XLmTjaIpxvx",
        "colab": {
          "base_uri": "https://localhost:8080/"
        },
        "outputId": "649da144-fa1e-4529-94ab-3fce3938294c"
      },
      "execution_count": null,
      "outputs": [
        {
          "output_type": "stream",
          "name": "stdout",
          "text": [
            "Superior                           1361\n",
            "Ensino Médio                        169\n",
            "Superior Incompleto                 167\n",
            "Pós-Graduação                       142\n",
            "Mestrado                             61\n",
            "Não informado                        33\n",
            "Doutorado                            30\n",
            "Ensino Fundamental 2                 19\n",
            "Ensino Fundamental 1                 12\n",
            "Mestrado Incompleto                   9\n",
            "Ensino Médio Incompleto               8\n",
            "Doutorado Incompleto                  6\n",
            "Ensino Fundamental 1 Incompleto       4\n",
            "Name: escolaridade, dtype: int64\n"
          ]
        }
      ]
    },
    {
      "cell_type": "markdown",
      "source": [
        "## Sexo"
      ],
      "metadata": {
        "id": "bQL-lOdJrG7b"
      }
    },
    {
      "cell_type": "code",
      "source": [
        "if not detalhes.empty: \n",
        "  print(detalhes.sexo.value_counts())"
      ],
      "metadata": {
        "id": "tzUtzRjfrInF",
        "colab": {
          "base_uri": "https://localhost:8080/"
        },
        "outputId": "4aca10a2-b91e-4cbc-9c03-930b900acc4d"
      },
      "execution_count": null,
      "outputs": [
        {
          "output_type": "stream",
          "name": "stdout",
          "text": [
            "M    1807\n",
            "F     214\n",
            "Name: sexo, dtype: int64\n"
          ]
        }
      ]
    },
    {
      "cell_type": "markdown",
      "source": [
        "## Salvando os dados"
      ],
      "metadata": {
        "id": "xk1chHqcrSHs"
      }
    },
    {
      "cell_type": "code",
      "source": [
        "if not detalhes.empty:\n",
        "  detalhes.to_json(ROOTDIR + 'data/detalhes_deputados.json')"
      ],
      "metadata": {
        "id": "t0wV8S0UqBPc"
      },
      "execution_count": null,
      "outputs": []
    },
    {
      "cell_type": "code",
      "source": [
        "detalhes = pd.read_json(ROOTDIR + 'data/detalhes_deputados.json')"
      ],
      "metadata": {
        "id": "6jBg4_IBOJcQ"
      },
      "execution_count": null,
      "outputs": []
    },
    {
      "cell_type": "markdown",
      "source": [
        "# Explorando os dados\n",
        "## Unindo tabelas de discursos e detalhes de deputados"
      ],
      "metadata": {
        "id": "9P9sGX3RVGhE"
      }
    },
    {
      "cell_type": "code",
      "source": [
        "consolidado = discursos.join(detalhes, on=['idDeputado'])\n",
        "consolidado['tam_discurso'] = consolidado.original.str.len()\n",
        "consolidado"
      ],
      "metadata": {
        "id": "JzivPMmWVL4K",
        "colab": {
          "base_uri": "https://localhost:8080/",
          "height": 424
        },
        "outputId": "11de9c55-4069-4bf2-a48a-2d32691a5074"
      },
      "execution_count": null,
      "outputs": [
        {
          "output_type": "execute_result",
          "data": {
            "text/plain": [
              "        idDeputado  idLegislatura  \\\n",
              "0            65498             51   \n",
              "1            65498             51   \n",
              "2            65498             51   \n",
              "3            65498             51   \n",
              "4            65498             51   \n",
              "...            ...            ...   \n",
              "189915      218879             56   \n",
              "189916      218879             56   \n",
              "189917      218879             56   \n",
              "189918      218879             56   \n",
              "189919      218879             56   \n",
              "\n",
              "                                                 original  \\\n",
              "0       A SRA. LÚCIA VÂNIA (PSDB-GO. Como Líder. Pronu...   \n",
              "1       A SRA. LÚCIA VÂNIA (PSDB-GO. Pronuncia o segui...   \n",
              "2       A SRA. LÚCIA VÂNIA (Bloco/PSDB-GO. Pronuncia o...   \n",
              "3       A SRª LÚCIA VÂNIA (PSDB – GO. Pronuncia o segu...   \n",
              "4       A SRA LÚCIA VÂNIA (PSDB-GO. Pronuncia o seguin...   \n",
              "...                                                   ...   \n",
              "189915  O SR. NELHO BEZERRA (PROS - CE. Sem revisão do...   \n",
              "189916  O SR. NELHO BEZERRA (PROS - CE. Pela ordem. Se...   \n",
              "189917  O SR. NELHO BEZERRA (PROS - CE. Sem revisão do...   \n",
              "189918  O SR. NELHO BEZERRA (PROS - CE. Sem revisão do...   \n",
              "189919  O SR. NELHO BEZERRA (UNIÃO - CE. Pela ordem. S...   \n",
              "\n",
              "                      nomeCivil siglaPartido sexo   escolaridade  \\\n",
              "0       LÚCIA VÂNIA ABRÃO COSTA         PSDB    F       Superior   \n",
              "1       LÚCIA VÂNIA ABRÃO COSTA         PSDB    F       Superior   \n",
              "2       LÚCIA VÂNIA ABRÃO COSTA         PSDB    F       Superior   \n",
              "3       LÚCIA VÂNIA ABRÃO COSTA         PSDB    F       Superior   \n",
              "4       LÚCIA VÂNIA ABRÃO COSTA         PSDB    F       Superior   \n",
              "...                         ...          ...  ...            ...   \n",
              "189915  FRANCISCO NELHO BEZERRA        UNIÃO    M  Não informado   \n",
              "189916  FRANCISCO NELHO BEZERRA        UNIÃO    M  Não informado   \n",
              "189917  FRANCISCO NELHO BEZERRA        UNIÃO    M  Não informado   \n",
              "189918  FRANCISCO NELHO BEZERRA        UNIÃO    M  Não informado   \n",
              "189919  FRANCISCO NELHO BEZERRA        UNIÃO    M  Não informado   \n",
              "\n",
              "              espectro  tam_discurso  \n",
              "0       centro-direita          4434  \n",
              "1       centro-direita         10614  \n",
              "2       centro-direita          3409  \n",
              "3       centro-direita          5112  \n",
              "4       centro-direita          2391  \n",
              "...                ...           ...  \n",
              "189915  centro-direita          5538  \n",
              "189916  centro-direita          5501  \n",
              "189917  centro-direita          3863  \n",
              "189918  centro-direita          5588  \n",
              "189919  centro-direita          3858  \n",
              "\n",
              "[189920 rows x 9 columns]"
            ],
            "text/html": [
              "\n",
              "  <div id=\"df-86f40bc0-dfdc-4d11-beb9-1c07b3cdd9de\">\n",
              "    <div class=\"colab-df-container\">\n",
              "      <div>\n",
              "<style scoped>\n",
              "    .dataframe tbody tr th:only-of-type {\n",
              "        vertical-align: middle;\n",
              "    }\n",
              "\n",
              "    .dataframe tbody tr th {\n",
              "        vertical-align: top;\n",
              "    }\n",
              "\n",
              "    .dataframe thead th {\n",
              "        text-align: right;\n",
              "    }\n",
              "</style>\n",
              "<table border=\"1\" class=\"dataframe\">\n",
              "  <thead>\n",
              "    <tr style=\"text-align: right;\">\n",
              "      <th></th>\n",
              "      <th>idDeputado</th>\n",
              "      <th>idLegislatura</th>\n",
              "      <th>original</th>\n",
              "      <th>nomeCivil</th>\n",
              "      <th>siglaPartido</th>\n",
              "      <th>sexo</th>\n",
              "      <th>escolaridade</th>\n",
              "      <th>espectro</th>\n",
              "      <th>tam_discurso</th>\n",
              "    </tr>\n",
              "  </thead>\n",
              "  <tbody>\n",
              "    <tr>\n",
              "      <th>0</th>\n",
              "      <td>65498</td>\n",
              "      <td>51</td>\n",
              "      <td>A SRA. LÚCIA VÂNIA (PSDB-GO. Como Líder. Pronu...</td>\n",
              "      <td>LÚCIA VÂNIA ABRÃO COSTA</td>\n",
              "      <td>PSDB</td>\n",
              "      <td>F</td>\n",
              "      <td>Superior</td>\n",
              "      <td>centro-direita</td>\n",
              "      <td>4434</td>\n",
              "    </tr>\n",
              "    <tr>\n",
              "      <th>1</th>\n",
              "      <td>65498</td>\n",
              "      <td>51</td>\n",
              "      <td>A SRA. LÚCIA VÂNIA (PSDB-GO. Pronuncia o segui...</td>\n",
              "      <td>LÚCIA VÂNIA ABRÃO COSTA</td>\n",
              "      <td>PSDB</td>\n",
              "      <td>F</td>\n",
              "      <td>Superior</td>\n",
              "      <td>centro-direita</td>\n",
              "      <td>10614</td>\n",
              "    </tr>\n",
              "    <tr>\n",
              "      <th>2</th>\n",
              "      <td>65498</td>\n",
              "      <td>51</td>\n",
              "      <td>A SRA. LÚCIA VÂNIA (Bloco/PSDB-GO. Pronuncia o...</td>\n",
              "      <td>LÚCIA VÂNIA ABRÃO COSTA</td>\n",
              "      <td>PSDB</td>\n",
              "      <td>F</td>\n",
              "      <td>Superior</td>\n",
              "      <td>centro-direita</td>\n",
              "      <td>3409</td>\n",
              "    </tr>\n",
              "    <tr>\n",
              "      <th>3</th>\n",
              "      <td>65498</td>\n",
              "      <td>51</td>\n",
              "      <td>A SRª LÚCIA VÂNIA (PSDB – GO. Pronuncia o segu...</td>\n",
              "      <td>LÚCIA VÂNIA ABRÃO COSTA</td>\n",
              "      <td>PSDB</td>\n",
              "      <td>F</td>\n",
              "      <td>Superior</td>\n",
              "      <td>centro-direita</td>\n",
              "      <td>5112</td>\n",
              "    </tr>\n",
              "    <tr>\n",
              "      <th>4</th>\n",
              "      <td>65498</td>\n",
              "      <td>51</td>\n",
              "      <td>A SRA LÚCIA VÂNIA (PSDB-GO. Pronuncia o seguin...</td>\n",
              "      <td>LÚCIA VÂNIA ABRÃO COSTA</td>\n",
              "      <td>PSDB</td>\n",
              "      <td>F</td>\n",
              "      <td>Superior</td>\n",
              "      <td>centro-direita</td>\n",
              "      <td>2391</td>\n",
              "    </tr>\n",
              "    <tr>\n",
              "      <th>...</th>\n",
              "      <td>...</td>\n",
              "      <td>...</td>\n",
              "      <td>...</td>\n",
              "      <td>...</td>\n",
              "      <td>...</td>\n",
              "      <td>...</td>\n",
              "      <td>...</td>\n",
              "      <td>...</td>\n",
              "      <td>...</td>\n",
              "    </tr>\n",
              "    <tr>\n",
              "      <th>189915</th>\n",
              "      <td>218879</td>\n",
              "      <td>56</td>\n",
              "      <td>O SR. NELHO BEZERRA (PROS - CE. Sem revisão do...</td>\n",
              "      <td>FRANCISCO NELHO BEZERRA</td>\n",
              "      <td>UNIÃO</td>\n",
              "      <td>M</td>\n",
              "      <td>Não informado</td>\n",
              "      <td>centro-direita</td>\n",
              "      <td>5538</td>\n",
              "    </tr>\n",
              "    <tr>\n",
              "      <th>189916</th>\n",
              "      <td>218879</td>\n",
              "      <td>56</td>\n",
              "      <td>O SR. NELHO BEZERRA (PROS - CE. Pela ordem. Se...</td>\n",
              "      <td>FRANCISCO NELHO BEZERRA</td>\n",
              "      <td>UNIÃO</td>\n",
              "      <td>M</td>\n",
              "      <td>Não informado</td>\n",
              "      <td>centro-direita</td>\n",
              "      <td>5501</td>\n",
              "    </tr>\n",
              "    <tr>\n",
              "      <th>189917</th>\n",
              "      <td>218879</td>\n",
              "      <td>56</td>\n",
              "      <td>O SR. NELHO BEZERRA (PROS - CE. Sem revisão do...</td>\n",
              "      <td>FRANCISCO NELHO BEZERRA</td>\n",
              "      <td>UNIÃO</td>\n",
              "      <td>M</td>\n",
              "      <td>Não informado</td>\n",
              "      <td>centro-direita</td>\n",
              "      <td>3863</td>\n",
              "    </tr>\n",
              "    <tr>\n",
              "      <th>189918</th>\n",
              "      <td>218879</td>\n",
              "      <td>56</td>\n",
              "      <td>O SR. NELHO BEZERRA (PROS - CE. Sem revisão do...</td>\n",
              "      <td>FRANCISCO NELHO BEZERRA</td>\n",
              "      <td>UNIÃO</td>\n",
              "      <td>M</td>\n",
              "      <td>Não informado</td>\n",
              "      <td>centro-direita</td>\n",
              "      <td>5588</td>\n",
              "    </tr>\n",
              "    <tr>\n",
              "      <th>189919</th>\n",
              "      <td>218879</td>\n",
              "      <td>56</td>\n",
              "      <td>O SR. NELHO BEZERRA (UNIÃO - CE. Pela ordem. S...</td>\n",
              "      <td>FRANCISCO NELHO BEZERRA</td>\n",
              "      <td>UNIÃO</td>\n",
              "      <td>M</td>\n",
              "      <td>Não informado</td>\n",
              "      <td>centro-direita</td>\n",
              "      <td>3858</td>\n",
              "    </tr>\n",
              "  </tbody>\n",
              "</table>\n",
              "<p>189920 rows × 9 columns</p>\n",
              "</div>\n",
              "      <button class=\"colab-df-convert\" onclick=\"convertToInteractive('df-86f40bc0-dfdc-4d11-beb9-1c07b3cdd9de')\"\n",
              "              title=\"Convert this dataframe to an interactive table.\"\n",
              "              style=\"display:none;\">\n",
              "        \n",
              "  <svg xmlns=\"http://www.w3.org/2000/svg\" height=\"24px\"viewBox=\"0 0 24 24\"\n",
              "       width=\"24px\">\n",
              "    <path d=\"M0 0h24v24H0V0z\" fill=\"none\"/>\n",
              "    <path d=\"M18.56 5.44l.94 2.06.94-2.06 2.06-.94-2.06-.94-.94-2.06-.94 2.06-2.06.94zm-11 1L8.5 8.5l.94-2.06 2.06-.94-2.06-.94L8.5 2.5l-.94 2.06-2.06.94zm10 10l.94 2.06.94-2.06 2.06-.94-2.06-.94-.94-2.06-.94 2.06-2.06.94z\"/><path d=\"M17.41 7.96l-1.37-1.37c-.4-.4-.92-.59-1.43-.59-.52 0-1.04.2-1.43.59L10.3 9.45l-7.72 7.72c-.78.78-.78 2.05 0 2.83L4 21.41c.39.39.9.59 1.41.59.51 0 1.02-.2 1.41-.59l7.78-7.78 2.81-2.81c.8-.78.8-2.07 0-2.86zM5.41 20L4 18.59l7.72-7.72 1.47 1.35L5.41 20z\"/>\n",
              "  </svg>\n",
              "      </button>\n",
              "      \n",
              "  <style>\n",
              "    .colab-df-container {\n",
              "      display:flex;\n",
              "      flex-wrap:wrap;\n",
              "      gap: 12px;\n",
              "    }\n",
              "\n",
              "    .colab-df-convert {\n",
              "      background-color: #E8F0FE;\n",
              "      border: none;\n",
              "      border-radius: 50%;\n",
              "      cursor: pointer;\n",
              "      display: none;\n",
              "      fill: #1967D2;\n",
              "      height: 32px;\n",
              "      padding: 0 0 0 0;\n",
              "      width: 32px;\n",
              "    }\n",
              "\n",
              "    .colab-df-convert:hover {\n",
              "      background-color: #E2EBFA;\n",
              "      box-shadow: 0px 1px 2px rgba(60, 64, 67, 0.3), 0px 1px 3px 1px rgba(60, 64, 67, 0.15);\n",
              "      fill: #174EA6;\n",
              "    }\n",
              "\n",
              "    [theme=dark] .colab-df-convert {\n",
              "      background-color: #3B4455;\n",
              "      fill: #D2E3FC;\n",
              "    }\n",
              "\n",
              "    [theme=dark] .colab-df-convert:hover {\n",
              "      background-color: #434B5C;\n",
              "      box-shadow: 0px 1px 3px 1px rgba(0, 0, 0, 0.15);\n",
              "      filter: drop-shadow(0px 1px 2px rgba(0, 0, 0, 0.3));\n",
              "      fill: #FFFFFF;\n",
              "    }\n",
              "  </style>\n",
              "\n",
              "      <script>\n",
              "        const buttonEl =\n",
              "          document.querySelector('#df-86f40bc0-dfdc-4d11-beb9-1c07b3cdd9de button.colab-df-convert');\n",
              "        buttonEl.style.display =\n",
              "          google.colab.kernel.accessAllowed ? 'block' : 'none';\n",
              "\n",
              "        async function convertToInteractive(key) {\n",
              "          const element = document.querySelector('#df-86f40bc0-dfdc-4d11-beb9-1c07b3cdd9de');\n",
              "          const dataTable =\n",
              "            await google.colab.kernel.invokeFunction('convertToInteractive',\n",
              "                                                     [key], {});\n",
              "          if (!dataTable) return;\n",
              "\n",
              "          const docLinkHtml = 'Like what you see? Visit the ' +\n",
              "            '<a target=\"_blank\" href=https://colab.research.google.com/notebooks/data_table.ipynb>data table notebook</a>'\n",
              "            + ' to learn more about interactive tables.';\n",
              "          element.innerHTML = '';\n",
              "          dataTable['output_type'] = 'display_data';\n",
              "          await google.colab.output.renderOutput(dataTable, element);\n",
              "          const docLink = document.createElement('div');\n",
              "          docLink.innerHTML = docLinkHtml;\n",
              "          element.appendChild(docLink);\n",
              "        }\n",
              "      </script>\n",
              "    </div>\n",
              "  </div>\n",
              "  "
            ]
          },
          "metadata": {},
          "execution_count": 40
        }
      ]
    },
    {
      "cell_type": "markdown",
      "source": [
        "## Deputados discursantes"
      ],
      "metadata": {
        "id": "H4bHgPMZI0SF"
      }
    },
    {
      "cell_type": "code",
      "source": [
        "discursantes = discursos.idDeputado.unique()\n",
        "discursantes = detalhes.loc[discursantes]\n",
        "qtd_discursantes = len(discursantes)\n",
        "qtd_discursantes"
      ],
      "metadata": {
        "id": "D1hAflRudDbT",
        "colab": {
          "base_uri": "https://localhost:8080/"
        },
        "outputId": "7e5308f8-bbcf-406e-9739-8e747c809ed7"
      },
      "execution_count": null,
      "outputs": [
        {
          "output_type": "execute_result",
          "data": {
            "text/plain": [
              "1815"
            ]
          },
          "metadata": {},
          "execution_count": 41
        }
      ]
    },
    {
      "cell_type": "markdown",
      "source": [
        "## Deputados não discursantes"
      ],
      "metadata": {
        "id": "4__vbqwNI2y6"
      }
    },
    {
      "cell_type": "code",
      "source": [
        "nao_discursantes = set(detalhes.index) - set(discursantes.index)\n",
        "nao_discursantes = detalhes.loc[nao_discursantes]\n",
        "qtd_nao_discursantes = len(nao_discursantes)\n",
        "qtd_nao_discursantes"
      ],
      "metadata": {
        "id": "c8bXbzIgxsxW",
        "colab": {
          "base_uri": "https://localhost:8080/"
        },
        "outputId": "8b3e928f-65d5-4ccb-b6df-04605aa36a48"
      },
      "execution_count": null,
      "outputs": [
        {
          "output_type": "execute_result",
          "data": {
            "text/plain": [
              "206"
            ]
          },
          "metadata": {},
          "execution_count": 42
        }
      ]
    },
    {
      "cell_type": "markdown",
      "source": [
        "## Comparação quantitativa"
      ],
      "metadata": {
        "id": "VzOtAe9PI7Oc"
      }
    },
    {
      "cell_type": "markdown",
      "source": [
        "### Discursantes x Não discursantes"
      ],
      "metadata": {
        "id": "56s8fCvwJQvc"
      }
    },
    {
      "cell_type": "code",
      "source": [
        "fig, ax = plt.subplots(1,1,figsize=(5,4))\n",
        "ax.tick_params(axis='x', rotation=45)\n",
        "ax.set_ylabel('# deputados')\n",
        "sns.barplot(data=pd.DataFrame(data=((qtd_discursantes, qtd_nao_discursantes),), columns=['discursantes', 'não discursantes'], index=[0]), ax=ax);"
      ],
      "metadata": {
        "id": "z41Rrstcgnxd",
        "colab": {
          "base_uri": "https://localhost:8080/",
          "height": 323
        },
        "outputId": "f52e1bbc-8601-4faa-efd5-82190445253b"
      },
      "execution_count": null,
      "outputs": [
        {
          "output_type": "display_data",
          "data": {
            "text/plain": [
              "<Figure size 360x288 with 1 Axes>"
            ],
            "image/png": "[encoded data removed]"
          },
          "metadata": {
            "needs_background": "light"
          }
        }
      ]
    },
    {
      "cell_type": "markdown",
      "source": [
        "### Escolaridade x Discursantes x Não discursantes x Geral"
      ],
      "metadata": {
        "id": "-8DURYIaJUhc"
      }
    },
    {
      "cell_type": "code",
      "source": [
        "fig, axis = plt.subplots(3, 1, figsize=(8,12))\n",
        "\n",
        "fig.tight_layout()\n",
        "plt.subplots_adjust(wspace=0.2, hspace=0.3)\n",
        "\n",
        "ax = sns.countplot(data=discursantes, y='escolaridade', ax=axis[0], order=detalhes.escolaridade.unique())\n",
        "ax.tick_params(axis='x', rotation=0)\n",
        "ax.set_title('Discursantes')\n",
        "ax.set(xlabel='# de deputados')\n",
        "\n",
        "ax = sns.countplot(data=nao_discursantes, y='escolaridade', ax=axis[1], order=detalhes.escolaridade.unique())\n",
        "ax.tick_params(axis='x', rotation=0)\n",
        "ax.set_title('Não discursantes')\n",
        "ax.set(xlabel='# de deputados')\n",
        "\n",
        "ax = sns.countplot(data=detalhes, y='escolaridade', ax=axis[2], order=detalhes.escolaridade.unique())\n",
        "ax.tick_params(axis='x', rotation=0)\n",
        "ax.set_title('Geral')\n",
        "ax.set(xlabel='# de deputados')\n",
        "\n",
        "plt.show();"
      ],
      "metadata": {
        "id": "Na3X0O4oad7T",
        "colab": {
          "base_uri": "https://localhost:8080/",
          "height": 899
        },
        "outputId": "5d76483f-833c-4b82-e367-63e1a8252cfb"
      },
      "execution_count": null,
      "outputs": [
        {
          "output_type": "display_data",
          "data": {
            "text/plain": [
              "<Figure size 576x864 with 3 Axes>"
            ],
            "image/png": "[encoded data removed]"
          },
          "metadata": {
            "needs_background": "light"
          }
        }
      ]
    },
    {
      "cell_type": "markdown",
      "source": [
        "### Escolaridade x Quantidade de discursos"
      ],
      "metadata": {
        "id": "zl1gL5pGJf5W"
      }
    },
    {
      "cell_type": "code",
      "source": [
        "fig, axis = plt.subplots(1, 1, figsize=(12,8))\n",
        "\n",
        "ax = sns.countplot(data=consolidado, x='escolaridade', ax=axis, order=detalhes.escolaridade.unique())\n",
        "ax.tick_params(axis='x', rotation=80)\n",
        "ax.set_title('Discursos x Escolaridade')\n",
        "ax.set(ylabel='# de discursos')\n",
        "\n",
        "plt.show();"
      ],
      "metadata": {
        "id": "t01kzDe26M3K",
        "colab": {
          "base_uri": "https://localhost:8080/",
          "height": 672
        },
        "outputId": "64ed615a-793a-4de8-9d79-39cec6d568e8"
      },
      "execution_count": null,
      "outputs": [
        {
          "output_type": "display_data",
          "data": {
            "text/plain": [
              "<Figure size 864x576 with 1 Axes>"
            ],
            "image/png": "[encoded data removed]"
          },
          "metadata": {
            "needs_background": "light"
          }
        }
      ]
    },
    {
      "cell_type": "markdown",
      "source": [
        "### Escolaridade x Tamanho do discurso"
      ],
      "metadata": {
        "id": "xfXzJKGCJle2"
      }
    },
    {
      "cell_type": "markdown",
      "source": [
        "> A linha vermelha é o valor médio do tamanho dos discursos (em caracteres). É possível supor que existem alguns **outliers** nesses discursos. Suspeito de que alguns discursos carreguem a transcrição de documentos, como por exemplo, pareceres de comissões."
      ],
      "metadata": {
        "id": "LA7WQiZzJpGW"
      }
    },
    {
      "cell_type": "code",
      "source": [
        "fig, axis = plt.subplots(1, 1, figsize=(8,12))\n",
        "\n",
        "ax = sns.scatterplot(data=consolidado, x='escolaridade', y='tam_discurso', ax=axis)\n",
        "ax = sns.lineplot([-1,13], consolidado.tam_discurso.mean(), ax=axis, color='red')\n",
        "ax.tick_params(axis='x', rotation=80)"
      ],
      "metadata": {
        "id": "MHyy2RrpBLY9",
        "colab": {
          "base_uri": "https://localhost:8080/",
          "height": 928
        },
        "outputId": "3bd490cf-1164-48a5-ae67-b31f35b4c058"
      },
      "execution_count": null,
      "outputs": [
        {
          "output_type": "stream",
          "name": "stderr",
          "text": [
            "/usr/local/lib/python3.7/dist-packages/seaborn/_decorators.py:43: FutureWarning: Pass the following variables as keyword args: x, y. From version 0.12, the only valid positional argument will be `data`, and passing other arguments without an explicit keyword will result in an error or misinterpretation.\n",
            "  FutureWarning\n"
          ]
        },
        {
          "output_type": "display_data",
          "data": {
            "text/plain": [
              "<Figure size 576x864 with 1 Axes>"
            ],
            "image/png": "[encoded data removed]"
          },
          "metadata": {
            "needs_background": "light"
          }
        }
      ]
    },
    {
      "cell_type": "markdown",
      "source": [
        "### Sexo x Discursantes x Não discursantes x Geral"
      ],
      "metadata": {
        "id": "31X4u9lsKFWw"
      }
    },
    {
      "cell_type": "code",
      "source": [
        "fig, axis = plt.subplots(3, 1, figsize=(8,12))\n",
        "\n",
        "fig.tight_layout()\n",
        "plt.subplots_adjust(wspace=0.2, hspace=0.3)\n",
        "\n",
        "ax = sns.countplot(data=discursantes, x='sexo', ax=axis[0], order=detalhes.sexo.unique())\n",
        "ax.tick_params(axis='x', rotation=0)\n",
        "ax.set_title('Discursantes')\n",
        "ax.set(ylabel='# de deputados')\n",
        "\n",
        "ax = sns.countplot(data=nao_discursantes, x='sexo', ax=axis[1], order=detalhes.sexo.unique())\n",
        "ax.tick_params(axis='x', rotation=0)\n",
        "ax.set_title('Não discursantes')\n",
        "ax.set(ylabel='# de deputados')\n",
        "\n",
        "ax = sns.countplot(data=detalhes, x='sexo', ax=axis[2], order=detalhes.sexo.unique())\n",
        "ax.tick_params(axis='x', rotation=0)\n",
        "ax.set_title('Geral')\n",
        "ax.set(ylabel='# de deputados')\n",
        "\n",
        "plt.show();"
      ],
      "metadata": {
        "id": "FUnrUa3ncY2Q",
        "colab": {
          "base_uri": "https://localhost:8080/",
          "height": 899
        },
        "outputId": "c3502a46-eeaf-4d8f-b272-c454afb16461"
      },
      "execution_count": null,
      "outputs": [
        {
          "output_type": "display_data",
          "data": {
            "text/plain": [
              "<Figure size 576x864 with 3 Axes>"
            ],
            "image/png": "[encoded data removed]"
          },
          "metadata": {
            "needs_background": "light"
          }
        }
      ]
    },
    {
      "cell_type": "markdown",
      "source": [
        "### Sexo x Quantidade de discursos"
      ],
      "metadata": {
        "id": "6PlZtPK3KMmp"
      }
    },
    {
      "cell_type": "code",
      "source": [
        "fig, axis = plt.subplots(1, 1, figsize=(12,8))\n",
        "\n",
        "ax = sns.countplot(data=consolidado, x='sexo', ax=axis, order=detalhes.sexo.unique())\n",
        "ax.tick_params(axis='x', rotation=0)\n",
        "ax.set_title('Discursos x Sexo')\n",
        "ax.set(ylabel='# de discursos')\n",
        "\n",
        "plt.show();"
      ],
      "metadata": {
        "id": "GXL3HePw7eBR",
        "colab": {
          "base_uri": "https://localhost:8080/",
          "height": 513
        },
        "outputId": "576b4fb6-9fa5-470c-d8e4-1cd784df845e"
      },
      "execution_count": null,
      "outputs": [
        {
          "output_type": "display_data",
          "data": {
            "text/plain": [
              "<Figure size 864x576 with 1 Axes>"
            ],
            "image/png": "[encoded data removed]"
          },
          "metadata": {
            "needs_background": "light"
          }
        }
      ]
    },
    {
      "cell_type": "markdown",
      "source": [
        "### Espectro político x Discursantes x Não discursantes x Geral"
      ],
      "metadata": {
        "id": "aWXzgwCsKQbH"
      }
    },
    {
      "cell_type": "code",
      "source": [
        "fig, axis = plt.subplots(3, 1, figsize=(10,20))\n",
        "\n",
        "fig.tight_layout()\n",
        "plt.subplots_adjust(wspace=0.2, hspace=0.4)\n",
        "\n",
        "ax = sns.countplot(data=discursantes, x='espectro', ax=axis[0], order=detalhes.espectro.unique())\n",
        "ax.tick_params(axis='x', rotation=80)\n",
        "ax.set_title('Discursantes')\n",
        "ax.set(ylabel='# de deputados')\n",
        "\n",
        "ax = sns.countplot(data=nao_discursantes, x='espectro', ax=axis[1], order=detalhes.espectro.unique())\n",
        "ax.tick_params(axis='x', rotation=80)\n",
        "ax.set_title('Não discursantes')\n",
        "ax.set(ylabel='# de deputados')\n",
        "\n",
        "ax = sns.countplot(data=detalhes, x='espectro', ax=axis[2], order=detalhes.espectro.unique())\n",
        "ax.tick_params(axis='x', rotation=80)\n",
        "ax.set_title('Geral')\n",
        "ax.set(ylabel='# de deputados')\n",
        "\n",
        "plt.show();"
      ],
      "metadata": {
        "id": "UKHMQ2f1eBi4",
        "colab": {
          "base_uri": "https://localhost:8080/",
          "height": 1000
        },
        "outputId": "af3244e3-19ca-4e8e-da81-cdc0c1017728"
      },
      "execution_count": null,
      "outputs": [
        {
          "output_type": "display_data",
          "data": {
            "text/plain": [
              "<Figure size 720x1440 with 3 Axes>"
            ],
            "image/png": "[encoded data removed]"
          },
          "metadata": {
            "needs_background": "light"
          }
        }
      ]
    },
    {
      "cell_type": "markdown",
      "source": [
        "### Espectro político x Quantidade de discursos"
      ],
      "metadata": {
        "id": "VEShYTXCKXjr"
      }
    },
    {
      "cell_type": "code",
      "source": [
        "fig, axis = plt.subplots(1, 1, figsize=(12,8))\n",
        "\n",
        "ax = sns.countplot(data=consolidado, x='espectro', ax=axis, order=detalhes.espectro.unique())\n",
        "ax.tick_params(axis='x', rotation=80)\n",
        "ax.set_title('Discursos x Espectro')\n",
        "ax.set(ylabel='# de discursos')\n",
        "\n",
        "plt.show();"
      ],
      "metadata": {
        "id": "Ckj8SiWc9qsf",
        "colab": {
          "base_uri": "https://localhost:8080/",
          "height": 595
        },
        "outputId": "fee8e188-5986-4923-e0d0-2ed90e345f47"
      },
      "execution_count": null,
      "outputs": [
        {
          "output_type": "display_data",
          "data": {
            "text/plain": [
              "<Figure size 864x576 with 1 Axes>"
            ],
            "image/png": "[encoded data removed]"
          },
          "metadata": {
            "needs_background": "light"
          }
        }
      ]
    },
    {
      "cell_type": "markdown",
      "source": [
        "### Partido x Discursantes x Não discursantes x Geral"
      ],
      "metadata": {
        "id": "iZZKBR-CKcUP"
      }
    },
    {
      "cell_type": "code",
      "source": [
        "fig, axis = plt.subplots(3, 1, figsize=(10,20))\n",
        "\n",
        "fig.tight_layout()\n",
        "plt.subplots_adjust(wspace=0.2, hspace=0.4)\n",
        "\n",
        "ax = sns.countplot(data=discursantes, x='siglaPartido', ax=axis[0], order=detalhes.siglaPartido.unique())\n",
        "ax.tick_params(axis='x', rotation=80)\n",
        "ax.set_title('Discursantes')\n",
        "ax.set(ylabel='# de deputados')\n",
        "\n",
        "ax = sns.countplot(data=nao_discursantes, x='siglaPartido', ax=axis[1], order=detalhes.siglaPartido.unique())\n",
        "ax.tick_params(axis='x', rotation=80)\n",
        "ax.set_title('Não discursantes')\n",
        "ax.set(ylabel='# de deputados')\n",
        "\n",
        "ax = sns.countplot(data=detalhes, x='siglaPartido', ax=axis[2], order=detalhes.siglaPartido.unique())\n",
        "ax.tick_params(axis='x', rotation=80)\n",
        "ax.set_title('Geral')\n",
        "ax.set(ylabel='# de deputados')\n",
        "\n",
        "plt.show();"
      ],
      "metadata": {
        "id": "JW_3u0k694Yu",
        "colab": {
          "base_uri": "https://localhost:8080/",
          "height": 1000
        },
        "outputId": "ac010ecb-75d1-4ae6-bd5e-0313a3b9b7bb"
      },
      "execution_count": null,
      "outputs": [
        {
          "output_type": "display_data",
          "data": {
            "text/plain": [
              "<Figure size 720x1440 with 3 Axes>"
            ],
            "image/png": "[encoded data removed]"
          },
          "metadata": {
            "needs_background": "light"
          }
        }
      ]
    },
    {
      "cell_type": "markdown",
      "source": [
        "### Partido x Quantidade de discursos"
      ],
      "metadata": {
        "id": "UVNWvopHKjfc"
      }
    },
    {
      "cell_type": "code",
      "source": [
        "fig, axis = plt.subplots(1, 1, figsize=(12,8))\n",
        "\n",
        "ax = sns.countplot(data=consolidado, x='siglaPartido', ax=axis, order=detalhes.siglaPartido.unique())\n",
        "ax.tick_params(axis='x', rotation=80)\n",
        "ax.set_title('Discursos x siglaPartido')\n",
        "ax.set(ylabel='# de discursos')\n",
        "\n",
        "plt.show();"
      ],
      "metadata": {
        "id": "AlTjtCfVAH9U",
        "colab": {
          "base_uri": "https://localhost:8080/",
          "height": 585
        },
        "outputId": "01d0fa52-7df9-4f2a-ea16-0323bd01a878"
      },
      "execution_count": null,
      "outputs": [
        {
          "output_type": "display_data",
          "data": {
            "text/plain": [
              "<Figure size 864x576 with 1 Axes>"
            ],
            "image/png": "[encoded data removed]"
          },
          "metadata": {
            "needs_background": "light"
          }
        }
      ]
    }
  ]
}