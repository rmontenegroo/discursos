{
  "nbformat": 4,
  "nbformat_minor": 0,
  "metadata": {
    "colab": {
      "name": "nlp_discursos_camara_classficador_por_espectro.ipynb",
      "provenance": [],
      "collapsed_sections": [],
      "machine_shape": "hm",
      "background_execution": "on",
      "authorship_tag": "ABX9TyMEtMMoABwfpPkBgA6NlGil",
      "include_colab_link": true
    },
    "kernelspec": {
      "name": "python3",
      "display_name": "Python 3"
    },
    "language_info": {
      "name": "python"
    },
    "gpuClass": "standard"
  },
  "cells": [
    {
      "cell_type": "markdown",
      "metadata": {
        "id": "view-in-github",
        "colab_type": "text"
      },
      "source": [
        "<a href=\"https://colab.research.google.com/github/rmontenegroo/discursos/blob/main/nlp_discursos_camara_classficador_por_espectro.ipynb\" target=\"_parent\"><img src=\"https://colab.research.google.com/assets/colab-badge.svg\" alt=\"Open In Colab\"/></a>"
      ]
    },
    {
      "cell_type": "code",
      "source": [
        "!pip install --upgrade gensim==4.1.2"
      ],
      "metadata": {
        "colab": {
          "base_uri": "https://localhost:8080/"
        },
        "id": "NnsPTHEw1_JG",
        "outputId": "241f0388-8f5c-4104-888b-59deb2445c6c"
      },
      "execution_count": 1,
      "outputs": [
        {
          "output_type": "stream",
          "name": "stdout",
          "text": [
            "Looking in indexes: https://pypi.org/simple, https://us-python.pkg.dev/colab-wheels/public/simple/\n",
            "Collecting gensim==4.1.2\n",
            "  Downloading gensim-4.1.2-cp37-cp37m-manylinux_2_12_x86_64.manylinux2010_x86_64.whl (24.1 MB)\n",
            "\u001b[K     |████████████████████████████████| 24.1 MB 17 kB/s \n",
            "\u001b[?25hRequirement already satisfied: scipy>=0.18.1 in /usr/local/lib/python3.7/dist-packages (from gensim==4.1.2) (1.4.1)\n",
            "Requirement already satisfied: smart-open>=1.8.1 in /usr/local/lib/python3.7/dist-packages (from gensim==4.1.2) (5.2.1)\n",
            "Requirement already satisfied: numpy>=1.17.0 in /usr/local/lib/python3.7/dist-packages (from gensim==4.1.2) (1.21.6)\n",
            "Installing collected packages: gensim\n",
            "  Attempting uninstall: gensim\n",
            "    Found existing installation: gensim 3.6.0\n",
            "    Uninstalling gensim-3.6.0:\n",
            "      Successfully uninstalled gensim-3.6.0\n",
            "Successfully installed gensim-4.1.2\n"
          ]
        }
      ]
    },
    {
      "cell_type": "code",
      "execution_count": 2,
      "metadata": {
        "colab": {
          "base_uri": "https://localhost:8080/"
        },
        "id": "Uwghix16zBUP",
        "outputId": "ac7cec58-da93-4f44-aabd-1b3ee87192cf"
      },
      "outputs": [
        {
          "output_type": "stream",
          "name": "stderr",
          "text": [
            "[nltk_data] Downloading package punkt to /root/nltk_data...\n",
            "[nltk_data]   Unzipping tokenizers/punkt.zip.\n"
          ]
        },
        {
          "output_type": "execute_result",
          "data": {
            "text/plain": [
              "<tensorflow.python.eager.context._EagerDeviceContext at 0x7f524a0a6870>"
            ]
          },
          "metadata": {},
          "execution_count": 2
        }
      ],
      "source": [
        "import numpy as np\n",
        "import random\n",
        "import os\n",
        "import string\n",
        "import nltk\n",
        "import gensim\n",
        "import pickle\n",
        "\n",
        "import pandas as pd\n",
        "import matplotlib.pyplot as plt\n",
        "import seaborn as sns\n",
        "\n",
        "%tensorflow_version 2.x\n",
        "import tensorflow\n",
        "# import tensorflow.keras as keras\n",
        "\n",
        "from google.colab import drive\n",
        "\n",
        "from tensorflow.keras.utils import to_categorical \n",
        "from sklearn.preprocessing import LabelEncoder\n",
        "from sklearn.model_selection import train_test_split\n",
        "from sklearn.metrics import confusion_matrix, accuracy_score\n",
        "from gensim.models import Word2Vec\n",
        "from tensorflow.keras.preprocessing import text, sequence\n",
        "from tensorflow.keras.callbacks import ReduceLROnPlateau, EarlyStopping\n",
        "from tensorflow.keras.models import Sequential\n",
        "from tensorflow.keras.layers import Dense, Embedding, LSTM, Dropout, Reshape\n",
        "from imblearn.under_sampling import RandomUnderSampler\n",
        "\n",
        "nltk.download('punkt')\n",
        "\n",
        "tensorflow.device('/device:GPU:0')"
      ]
    },
    {
      "cell_type": "code",
      "source": [
        "RANDOM_SEED = 12\n",
        "MAX_FEATURES = 50000\n",
        "EMBEDDINGS_DIM = 100\n",
        "\n",
        "os.environ['PYTHONHASHSEED'] = str(RANDOM_SEED)\n",
        "np.random.seed(RANDOM_SEED)\n",
        "random.seed(RANDOM_SEED)\n",
        "tensorflow.random.set_seed(RANDOM_SEED)\n",
        "\n",
        "ROOTDIR = '/content/drive/MyDrive/Pós/discursos/'\n",
        "\n",
        "from google.colab import drive\n",
        "drive.mount('/content/drive')\n",
        "\n",
        "LEGISLATURA = 56\n",
        "TEST_SIZE = 0.2\n",
        "ESPECTROS = ('extrema-esquerda', 'esquerda', 'centro-esquerda', 'centro', 'centro-direita', 'direita', 'extrema-direita', 'indefinido')"
      ],
      "metadata": {
        "id": "bZq4gDDozvrK",
        "colab": {
          "base_uri": "https://localhost:8080/"
        },
        "outputId": "7b9adbac-92ef-4987-db89-74a094f10bc4"
      },
      "execution_count": 3,
      "outputs": [
        {
          "output_type": "stream",
          "name": "stdout",
          "text": [
            "Mounted at /content/drive\n"
          ]
        }
      ]
    },
    {
      "cell_type": "code",
      "source": [
        "discursos = pd.DataFrame()\n",
        "with open(ROOTDIR + f'data/tokens_{LEGISLATURA}.dat', 'rb') as fp:\n",
        "    discursos = pickle.load(fp)\n",
        "\n",
        "discursos = discursos.join(pd.read_json(ROOTDIR + 'data/detalhes_deputados.json'), on=['idDeputado'])"
      ],
      "metadata": {
        "id": "XV4iwYen2WWr"
      },
      "execution_count": 4,
      "outputs": []
    },
    {
      "cell_type": "code",
      "source": [
        "discursos['tamanho'] = discursos.tokens_.map(len)\n",
        "sns.boxplot(discursos.tamanho) "
      ],
      "metadata": {
        "id": "TTq1dslbVhxT",
        "colab": {
          "base_uri": "https://localhost:8080/",
          "height": 351
        },
        "outputId": "9eaf3e86-3f42-404c-8491-0247f9e6f0ad"
      },
      "execution_count": 5,
      "outputs": [
        {
          "output_type": "stream",
          "name": "stderr",
          "text": [
            "/usr/local/lib/python3.7/dist-packages/seaborn/_decorators.py:43: FutureWarning: Pass the following variable as a keyword arg: x. From version 0.12, the only valid positional argument will be `data`, and passing other arguments without an explicit keyword will result in an error or misinterpretation.\n",
            "  FutureWarning\n"
          ]
        },
        {
          "output_type": "execute_result",
          "data": {
            "text/plain": [
              "<matplotlib.axes._subplots.AxesSubplot at 0x7f51d9835150>"
            ]
          },
          "metadata": {},
          "execution_count": 5
        },
        {
          "output_type": "display_data",
          "data": {
            "text/plain": [
              "<Figure size 432x288 with 1 Axes>"
            ],
            "image/png": "[encoded data removed]"
          },
          "metadata": {
            "needs_background": "light"
          }
        }
      ]
    },
    {
      "cell_type": "code",
      "source": [
        "# descartar discursos muito grandes\n",
        "MAX_TAM = 2500\n",
        "discursos = discursos.loc[discursos.tamanho <= MAX_TAM]\n",
        "sns.boxplot(discursos.tamanho)"
      ],
      "metadata": {
        "id": "CBIQq1J5XKv9",
        "colab": {
          "base_uri": "https://localhost:8080/",
          "height": 351
        },
        "outputId": "c20cf6d1-4136-4fc9-8030-4bcbfa64cca9"
      },
      "execution_count": 6,
      "outputs": [
        {
          "output_type": "stream",
          "name": "stderr",
          "text": [
            "/usr/local/lib/python3.7/dist-packages/seaborn/_decorators.py:43: FutureWarning: Pass the following variable as a keyword arg: x. From version 0.12, the only valid positional argument will be `data`, and passing other arguments without an explicit keyword will result in an error or misinterpretation.\n",
            "  FutureWarning\n"
          ]
        },
        {
          "output_type": "execute_result",
          "data": {
            "text/plain": [
              "<matplotlib.axes._subplots.AxesSubplot at 0x7f51d9790650>"
            ]
          },
          "metadata": {},
          "execution_count": 6
        },
        {
          "output_type": "display_data",
          "data": {
            "text/plain": [
              "<Figure size 432x288 with 1 Axes>"
            ],
            "image/png": "[encoded data removed]"
          },
          "metadata": {
            "needs_background": "light"
          }
        }
      ]
    },
    {
      "cell_type": "code",
      "source": [
        "# descartar discursos muito curtos\n",
        "MIN_TAM = 10\n",
        "discursos = discursos.loc[discursos.tamanho >= MIN_TAM]\n",
        "sns.boxplot(discursos.tamanho)"
      ],
      "metadata": {
        "id": "Mpc_5qGvWIEK",
        "colab": {
          "base_uri": "https://localhost:8080/",
          "height": 351
        },
        "outputId": "4f14c007-8ccd-4a0a-a34d-28acb68b3084"
      },
      "execution_count": 7,
      "outputs": [
        {
          "output_type": "stream",
          "name": "stderr",
          "text": [
            "/usr/local/lib/python3.7/dist-packages/seaborn/_decorators.py:43: FutureWarning: Pass the following variable as a keyword arg: x. From version 0.12, the only valid positional argument will be `data`, and passing other arguments without an explicit keyword will result in an error or misinterpretation.\n",
            "  FutureWarning\n"
          ]
        },
        {
          "output_type": "execute_result",
          "data": {
            "text/plain": [
              "<matplotlib.axes._subplots.AxesSubplot at 0x7f51debe5410>"
            ]
          },
          "metadata": {},
          "execution_count": 7
        },
        {
          "output_type": "display_data",
          "data": {
            "text/plain": [
              "<Figure size 432x288 with 1 Axes>"
            ],
            "image/png": "[encoded data removed]"
          },
          "metadata": {
            "needs_background": "light"
          }
        }
      ]
    },
    {
      "cell_type": "markdown",
      "source": [
        "## Ajustando as classes"
      ],
      "metadata": {
        "id": "RsCpg1JhFJHj"
      }
    },
    {
      "cell_type": "code",
      "source": [
        "discursos.espectro.value_counts()"
      ],
      "metadata": {
        "id": "8QF38Pay4PSK",
        "colab": {
          "base_uri": "https://localhost:8080/"
        },
        "outputId": "aa9140b3-57cc-4770-f1d7-891e31ac4c90"
      },
      "execution_count": 8,
      "outputs": [
        {
          "output_type": "execute_result",
          "data": {
            "text/plain": [
              "esquerda            24435\n",
              "direita             14079\n",
              "centro               7120\n",
              "centro-direita       4225\n",
              "extrema-esquerda     3941\n",
              "centro-esquerda      3477\n",
              "extrema-direita       894\n",
              "indefinido             33\n",
              "Name: espectro, dtype: int64"
            ]
          },
          "metadata": {},
          "execution_count": 8
        }
      ]
    },
    {
      "cell_type": "code",
      "source": [
        "fig = plt.figure(figsize=(10, 5))\n",
        "plt.xticks(rotation=45)\n",
        "sns.countplot(x = 'espectro' , data = discursos, order=ESPECTROS)\n",
        "plt.show()"
      ],
      "metadata": {
        "id": "tdUOHtgU8RsI",
        "colab": {
          "base_uri": "https://localhost:8080/",
          "height": 396
        },
        "outputId": "c436ced4-f4ad-4ac8-afa8-a83969cbf410"
      },
      "execution_count": 9,
      "outputs": [
        {
          "output_type": "display_data",
          "data": {
            "text/plain": [
              "<Figure size 720x360 with 1 Axes>"
            ],
            "image/png": "[encoded data removed]"
          },
          "metadata": {
            "needs_background": "light"
          }
        }
      ]
    },
    {
      "cell_type": "code",
      "source": [
        "def ajusta_classe(espectro):\n",
        "\n",
        "  if espectro == 'extrema-esquerda':\n",
        "    return 'esquerda'\n",
        "\n",
        "  if espectro == 'extrema-direita':\n",
        "    return 'direita'\n",
        "\n",
        "  if 'centro' in espectro:\n",
        "    return 'centro'\n",
        "\n",
        "  return espectro\n",
        "\n",
        "discursos_ = discursos.copy()\n",
        "discursos_.espectro = discursos_.espectro.replace('indefinido', None).dropna()\n",
        "\n",
        "# discursos_.espectro = discursos_.espectro.map(ajusta_classe)\n",
        "\n",
        "# ESPECTROS = ('esquerda', 'não-esquerda')\n",
        "ESPECTRO_ALVO = 'todos'"
      ],
      "metadata": {
        "id": "IpryHqnxFRn9"
      },
      "execution_count": 10,
      "outputs": []
    },
    {
      "cell_type": "code",
      "source": [
        "fig = plt.figure(figsize=(10, 5))\n",
        "plt.xticks(rotation=45)\n",
        "sns.countplot(x = 'espectro', data = discursos_, order=ESPECTROS)\n",
        "plt.show()"
      ],
      "metadata": {
        "id": "aEhAQAGQF4gy",
        "colab": {
          "base_uri": "https://localhost:8080/",
          "height": 396
        },
        "outputId": "a1c50f9f-ba1c-444c-e6ed-6d51d615d671"
      },
      "execution_count": 11,
      "outputs": [
        {
          "output_type": "display_data",
          "data": {
            "text/plain": [
              "<Figure size 720x360 with 1 Axes>"
            ],
            "image/png": "[encoded data removed]"
          },
          "metadata": {
            "needs_background": "light"
          }
        }
      ]
    },
    {
      "cell_type": "code",
      "source": [
        "# rus = RandomUnderSampler(random_state=RANDOM_SEED)\n",
        "# discursos_, y = rus.fit_resample(discursos_, discursos_['espectro'])\n",
        "\n",
        "plt.figure(figsize=(10, 5))\n",
        "plt.xticks(rotation=45)\n",
        "sns.countplot(x = 'espectro' , data = discursos_, order=ESPECTROS)\n",
        "plt.show()"
      ],
      "metadata": {
        "id": "ebNj_HPGHrEX",
        "colab": {
          "base_uri": "https://localhost:8080/",
          "height": 396
        },
        "outputId": "919367de-827c-4a4c-aa17-c8b427d02c2d"
      },
      "execution_count": 12,
      "outputs": [
        {
          "output_type": "display_data",
          "data": {
            "text/plain": [
              "<Figure size 720x360 with 1 Axes>"
            ],
            "image/png": "[encoded data removed]"
          },
          "metadata": {
            "needs_background": "light"
          }
        }
      ]
    },
    {
      "cell_type": "code",
      "source": [
        "df_treino, df_teste = train_test_split(discursos_, test_size=TEST_SIZE, random_state=RANDOM_SEED)"
      ],
      "metadata": {
        "id": "Q7gyzZiZ8pP-"
      },
      "execution_count": 13,
      "outputs": []
    },
    {
      "cell_type": "code",
      "source": [
        "plt.figure(figsize=(10,5))\n",
        "plt.xticks(rotation=45)\n",
        "sns.countplot(x = 'espectro' , data = df_treino, order=ESPECTROS)\n",
        "plt.show()"
      ],
      "metadata": {
        "id": "AO0V0wcY9RS9",
        "colab": {
          "base_uri": "https://localhost:8080/",
          "height": 396
        },
        "outputId": "00ae246d-a0fc-4125-bef6-c16d82c0c87c"
      },
      "execution_count": 14,
      "outputs": [
        {
          "output_type": "display_data",
          "data": {
            "text/plain": [
              "<Figure size 720x360 with 1 Axes>"
            ],
            "image/png": "[encoded data removed]"
          },
          "metadata": {
            "needs_background": "light"
          }
        }
      ]
    },
    {
      "cell_type": "code",
      "source": [
        "plt.figure(figsize=(10,5))\n",
        "plt.xticks(rotation=45)\n",
        "sns.countplot(x = 'espectro' , data = df_teste, order=ESPECTROS)\n",
        "plt.show()"
      ],
      "metadata": {
        "id": "J-9s0YV89XDt",
        "colab": {
          "base_uri": "https://localhost:8080/",
          "height": 396
        },
        "outputId": "cc7c7e9c-1c00-4a11-ba81-56516daa289b"
      },
      "execution_count": 15,
      "outputs": [
        {
          "output_type": "display_data",
          "data": {
            "text/plain": [
              "<Figure size 720x360 with 1 Axes>"
            ],
            "image/png": "[encoded data removed]"
          },
          "metadata": {
            "needs_background": "light"
          }
        }
      ]
    },
    {
      "cell_type": "code",
      "source": [
        "tokenizer = text.Tokenizer(num_words=MAX_FEATURES)\n",
        "tokenizer.fit_on_texts(discursos_['tokens'])\n",
        "\n",
        "labeler = LabelEncoder()\n",
        "labeler.fit(discursos_['espectro'])"
      ],
      "metadata": {
        "id": "6_Y9_2K7ZSgX",
        "colab": {
          "base_uri": "https://localhost:8080/"
        },
        "outputId": "f69e7707-7644-43ff-9c3c-752e53dd0bab"
      },
      "execution_count": 16,
      "outputs": [
        {
          "output_type": "execute_result",
          "data": {
            "text/plain": [
              "LabelEncoder()"
            ]
          },
          "metadata": {},
          "execution_count": 16
        }
      ]
    },
    {
      "cell_type": "code",
      "source": [
        "# discursos = None\n",
        "# detalhes = None"
      ],
      "metadata": {
        "id": "P5kJxBfX9b4J"
      },
      "execution_count": 17,
      "outputs": []
    },
    {
      "cell_type": "code",
      "source": [
        "X_treino = df_treino['tokens']\n",
        "X_teste = df_teste['tokens']\n",
        "\n",
        "MAX_DOC_LEN = np.max((X_teste.map(len).max(), X_treino.map(len).max()))\n",
        "\n",
        "X_treino = tokenizer.texts_to_sequences(X_treino)\n",
        "X_treino = sequence.pad_sequences(X_treino, maxlen=MAX_DOC_LEN)\n",
        "\n",
        "X_teste = tokenizer.texts_to_sequences(X_teste)\n",
        "X_teste = sequence.pad_sequences(X_teste, maxlen=MAX_DOC_LEN)"
      ],
      "metadata": {
        "id": "gdIfOl3TLILL"
      },
      "execution_count": 18,
      "outputs": []
    },
    {
      "cell_type": "code",
      "source": [
        "Y_treino = df_treino['espectro']\n",
        "Y_teste = df_teste['espectro']\n",
        "\n",
        "Y_treino = to_categorical(labeler.transform(Y_treino), 7, dtype='float32')\n",
        "Y_teste = to_categorical(labeler.transform(Y_teste), 7, dtype='float32')"
      ],
      "metadata": {
        "id": "vogqsNCN_BD8"
      },
      "execution_count": 19,
      "outputs": []
    },
    {
      "cell_type": "code",
      "source": [
        "w2v = Word2Vec.load(ROOTDIR + f'camares.{EMBEDDINGS_DIM}.w2v')\n",
        "\n",
        "embeddings_mean, embeddings_std = w2v.wv.vectors.mean(), w2v.wv.vectors.std()\n",
        "\n",
        "embeddings_matrix = np.random.normal(embeddings_mean, embeddings_std, size=(MAX_FEATURES, EMBEDDINGS_DIM))\n",
        "\n",
        "for word, i in tokenizer.word_index.items():\n",
        "    if i >= MAX_FEATURES: continue\n",
        "    try:\n",
        "      embeddings_matrix[i] = w2v.wv[word]\n",
        "    except KeyError:\n",
        "      pass"
      ],
      "metadata": {
        "id": "HdDw-dAucEXi"
      },
      "execution_count": 20,
      "outputs": []
    },
    {
      "cell_type": "code",
      "source": [
        "BATCH_SIZE = 200\n",
        "EPOCHS = 250\n",
        "PATIENCE_LR = 10\n",
        "PATIENCE_ES = 5\n",
        "FACTOR = 0.25\n",
        "MIN_LR = 0.00000001\n",
        "PLATEAU_MONITOR = 'val_categorical_crossentropy'\n",
        "# PLATEAU_MONITOR = 'val_categorical_accuracy'\n",
        "LSTM_LAYER1_SIZE = 32\n",
        "LSTM_LAYER2_SIZE = 32\n",
        "LAYER1_DROPOUT_RATE = 0.5\n",
        "LAYER2_DROPOUT_RATE = 0.25\n",
        "RECURRENT_DROPOUT_RATE = 0.2\n",
        "DENSE_LAYER1_SIZE = 16\n",
        "# DENSE_LAYER1_DROPOUT_RATE = 0.5\n",
        "DENSE_LAYER2_SIZE = 16\n",
        "# DENSE_LAYER2_DROPOUT_RATE = 0.25\n",
        "DENSE_LAYER1_FUNCTION = 'relu'\n",
        "DENSE_LAYER2_FUNCTION = 'relu'\n",
        "OUTPUT_LAYER_SIZE = 7\n",
        "OUTPUT_LAYER_FUNCTION = 'softmax'\n",
        "LEARNING_RATE = 0.01\n",
        "OPTIMIZER = tensorflow.keras.optimizers.Adam\n",
        "LOSS_FUNCTION = 'categorical_crossentropy'\n",
        "METRIC_FUNCTIONS = ['categorical_accuracy', 'categorical_crossentropy']\n",
        "# VALIDATION_SPLIT_RATE = 0.2\n",
        "VALIDATION_SPLIT_RATE = 0.1\n",
        "\n",
        "model = Sequential()\n",
        "# INPUT\n",
        "model.add(Embedding(MAX_FEATURES, output_dim = EMBEDDINGS_DIM, weights = [embeddings_matrix], input_length = MAX_DOC_LEN, trainable = True))\n",
        "# LSTM \n",
        "model.add(LSTM(units = LSTM_LAYER1_SIZE, return_sequences = True,  dropout = LAYER1_DROPOUT_RATE))\n",
        "model.add(LSTM(units = LSTM_LAYER2_SIZE, recurrent_dropout = RECURRENT_DROPOUT_RATE, dropout = LAYER2_DROPOUT_RATE))\n",
        "model.add(Dense(units = DENSE_LAYER1_SIZE, activation = DENSE_LAYER1_FUNCTION))\n",
        "# model.add(Dropout(DENSE_LAYER1_DROPOUT_RATE))\n",
        "model.add(Dense(units = DENSE_LAYER2_SIZE, activation = DENSE_LAYER2_FUNCTION))\n",
        "# model.add(Dropout(DENSE_LAYER2_DROPOUT_RATE))\n",
        "model.add(Dense(units = OUTPUT_LAYER_SIZE, activation = OUTPUT_LAYER_FUNCTION))\n",
        "model.compile(optimizer = OPTIMIZER(learning_rate = LEARNING_RATE), loss = LOSS_FUNCTION, metrics = METRIC_FUNCTIONS)"
      ],
      "metadata": {
        "id": "dPrLCwJAddne"
      },
      "execution_count": 21,
      "outputs": []
    },
    {
      "cell_type": "code",
      "source": [
        "model.summary()"
      ],
      "metadata": {
        "id": "nnWZPA-rdtha",
        "colab": {
          "base_uri": "https://localhost:8080/"
        },
        "outputId": "95c92471-145b-4bbe-e53c-25174a44969d"
      },
      "execution_count": 22,
      "outputs": [
        {
          "output_type": "stream",
          "name": "stdout",
          "text": [
            "Model: \"sequential\"\n",
            "_________________________________________________________________\n",
            " Layer (type)                Output Shape              Param #   \n",
            "=================================================================\n",
            " embedding (Embedding)       (None, 8921, 100)         5000000   \n",
            "                                                                 \n",
            " lstm (LSTM)                 (None, 8921, 32)          17024     \n",
            "                                                                 \n",
            " lstm_1 (LSTM)               (None, 32)                8320      \n",
            "                                                                 \n",
            " dense (Dense)               (None, 16)                528       \n",
            "                                                                 \n",
            " dense_1 (Dense)             (None, 16)                272       \n",
            "                                                                 \n",
            " dense_2 (Dense)             (None, 7)                 119       \n",
            "                                                                 \n",
            "=================================================================\n",
            "Total params: 5,026,263\n",
            "Trainable params: 5,026,263\n",
            "Non-trainable params: 0\n",
            "_________________________________________________________________\n"
          ]
        }
      ]
    },
    {
      "cell_type": "code",
      "source": [
        "callbacks = [\n",
        "  ReduceLROnPlateau(monitor = PLATEAU_MONITOR, patience = PATIENCE_LR, verbose = 2, factor = FACTOR, min_lr = MIN_LR),\n",
        "  EarlyStopping(patience = PATIENCE_ES, verbose = True)             \n",
        "]\n",
        "\n",
        "if not os.path.isfile(ROOTDIR + f'classificador_discurso_espectro_{LEGISLATURA}_{ESPECTRO_ALVO}.dat'):\n",
        "\n",
        "  history = model.fit(X_treino, Y_treino, batch_size = BATCH_SIZE, validation_split = VALIDATION_SPLIT_RATE, epochs = EPOCHS, callbacks = callbacks)\n",
        "\n",
        "  with open(ROOTDIR + f'classificador_discurso_espectro_{LEGISLATURA}_{ESPECTRO_ALVO}.dat', 'wb') as fp:\n",
        "    pickle.dump(model, fp)\n",
        "\n",
        "  df_history = pd.DataFrame(history.history)\n",
        "  df_history.to_json(ROOTDIR + f'data/history_classificador_discurso_espectro_{LEGISLATURA}_{ESPECTRO_ALVO}.json')\n",
        "\n",
        "\n",
        "else:\n",
        "\n",
        "  with open(ROOTDIR + f'classificador_discurso_espectro_{LEGISLATURA}_{ESPECTRO_ALVO}.dat', 'rb') as fp:\n",
        "    model = pickle.load(fp)\n",
        "\n",
        "  df_history = pd.read_json(ROOTDIR + f'data/history_classificador_discurso_espectro_{LEGISLATURA}_{ESPECTRO_ALVO}.json')"
      ],
      "metadata": {
        "id": "eSSFFP2ndwCh",
        "colab": {
          "base_uri": "https://localhost:8080/"
        },
        "outputId": "32542d6e-40b7-41ae-ad90-2cd4feedea72"
      },
      "execution_count": null,
      "outputs": [
        {
          "output_type": "stream",
          "name": "stdout",
          "text": [
            "Epoch 1/250\n",
            "210/210 [==============================] - 6204s 30s/step - loss: 1.4895 - categorical_accuracy: 0.4460 - categorical_crossentropy: 1.4895 - val_loss: 1.2986 - val_categorical_accuracy: 0.5285 - val_categorical_crossentropy: 1.2986 - lr: 0.0100\n",
            "Epoch 2/250\n",
            "210/210 [==============================] - 6316s 30s/step - loss: 1.1554 - categorical_accuracy: 0.5882 - categorical_crossentropy: 1.1554 - val_loss: 1.0023 - val_categorical_accuracy: 0.6435 - val_categorical_crossentropy: 1.0023 - lr: 0.0100\n",
            "Epoch 3/250\n",
            "210/210 [==============================] - 6385s 30s/step - loss: 0.9838 - categorical_accuracy: 0.6508 - categorical_crossentropy: 0.9838 - val_loss: 0.9326 - val_categorical_accuracy: 0.6682 - val_categorical_crossentropy: 0.9326 - lr: 0.0100\n",
            "Epoch 4/250\n",
            "210/210 [==============================] - 6439s 31s/step - loss: 0.9291 - categorical_accuracy: 0.6699 - categorical_crossentropy: 0.9291 - val_loss: 0.8933 - val_categorical_accuracy: 0.6824 - val_categorical_crossentropy: 0.8933 - lr: 0.0100\n",
            "Epoch 5/250\n",
            "210/210 [==============================] - 6456s 31s/step - loss: 0.8784 - categorical_accuracy: 0.6883 - categorical_crossentropy: 0.8784 - val_loss: 0.8667 - val_categorical_accuracy: 0.6889 - val_categorical_crossentropy: 0.8667 - lr: 0.0100\n",
            "Epoch 6/250\n",
            "210/210 [==============================] - 6413s 31s/step - loss: 0.8544 - categorical_accuracy: 0.6933 - categorical_crossentropy: 0.8544 - val_loss: 0.8715 - val_categorical_accuracy: 0.6919 - val_categorical_crossentropy: 0.8715 - lr: 0.0100\n",
            "Epoch 7/250\n",
            "210/210 [==============================] - 6454s 31s/step - loss: 0.8259 - categorical_accuracy: 0.7025 - categorical_crossentropy: 0.8259 - val_loss: 0.8477 - val_categorical_accuracy: 0.6925 - val_categorical_crossentropy: 0.8477 - lr: 0.0100\n",
            "Epoch 8/250\n",
            "210/210 [==============================] - 6457s 31s/step - loss: 0.8150 - categorical_accuracy: 0.7057 - categorical_crossentropy: 0.8150 - val_loss: 0.8533 - val_categorical_accuracy: 0.6977 - val_categorical_crossentropy: 0.8533 - lr: 0.0100\n",
            "Epoch 9/250\n",
            " 33/210 [===>..........................] - ETA: 1:29:08 - loss: 0.7915 - categorical_accuracy: 0.7127 - categorical_crossentropy: 0.7915"
          ]
        }
      ]
    },
    {
      "cell_type": "code",
      "source": [
        "ax = df_history[['val_loss', 'loss']].plot(figsize=(10, 5))\n",
        "df_history['lr'].plot(ax=ax.twinx(), color='gray')\n",
        "\n",
        "ax = df_history[['val_categorical_accuracy', 'categorical_accuracy']].plot(figsize=(10, 5))\n",
        "df_history['lr'].plot(ax=ax.twinx(), color='gray')\n",
        "\n",
        "print(\"Acuracia de treinamento: {:.2f} %\".format(model.evaluate(X_treino, Y_treino)[1]*100))\n",
        "print(\"Acuracia de teste: {:.2f} %\".format(model.evaluate(X_teste, Y_teste)[1]*100))"
      ],
      "metadata": {
        "id": "h-cQeFH0eNh5"
      },
      "execution_count": null,
      "outputs": []
    },
    {
      "cell_type": "code",
      "source": [
        "previsto = np.argmax(model.predict(X_teste[0:]), axis=1)"
      ],
      "metadata": {
        "id": "NYItrfSINYWr"
      },
      "execution_count": null,
      "outputs": []
    },
    {
      "cell_type": "code",
      "source": [
        "previsto"
      ],
      "metadata": {
        "id": "TXlheSehFjfx"
      },
      "execution_count": null,
      "outputs": []
    },
    {
      "cell_type": "code",
      "source": [
        "real = np.argmax(Y_teste[0:], axis=1)"
      ],
      "metadata": {
        "id": "VOEpQb6eUFEy"
      },
      "execution_count": null,
      "outputs": []
    },
    {
      "cell_type": "code",
      "source": [
        "real"
      ],
      "metadata": {
        "id": "CDI42lIrUWZa"
      },
      "execution_count": null,
      "outputs": []
    },
    {
      "cell_type": "code",
      "source": [
        "cm = confusion_matrix(real, previsto)\n",
        "labels = labeler.classes_\n",
        "cm = pd.DataFrame(cm, index = labels, columns = labels)\n",
        "\n",
        "plt.figure(figsize = (10, 10))\n",
        "sns.heatmap(cm, cmap= \"Oranges\", linecolor = 'black', linewidth = 1, annot = True, fmt='', xticklabels = labels, yticklabels = labels)\n",
        "plt.xlabel(\"Previsto\")\n",
        "plt.ylabel(\"Real\")\n",
        "plt.show()"
      ],
      "metadata": {
        "id": "dYb-GpiQUXvJ"
      },
      "execution_count": null,
      "outputs": []
    }
  ]
}